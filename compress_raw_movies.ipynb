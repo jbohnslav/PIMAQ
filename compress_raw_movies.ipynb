{
 "cells": [
  {
   "cell_type": "code",
   "execution_count": 12,
   "metadata": {},
   "outputs": [],
   "source": [
    "import os\n",
    "import cv2\n",
    "import numpy as np\n",
    "import time\n",
    "from scipy.io import loadmat"
   ]
  },
  {
   "cell_type": "code",
   "execution_count": 3,
   "metadata": {},
   "outputs": [],
   "source": [
    "datadir = r'/media/jim/FASTER/realsense/190329'\n",
    "files = os.listdir(datadir)\n",
    "files.sort()\n",
    "eyefiles = [os.path.join(datadir, i) for i in files if 'eye' in i and '.avi' in i]"
   ]
  },
  {
   "cell_type": "code",
   "execution_count": 4,
   "metadata": {},
   "outputs": [
    {
     "data": {
      "text/plain": [
       "[]"
      ]
     },
     "execution_count": 4,
     "metadata": {},
     "output_type": "execute_result"
    }
   ],
   "source": [
    "eyefiles"
   ]
  },
  {
   "cell_type": "code",
   "execution_count": 13,
   "metadata": {},
   "outputs": [
    {
     "name": "stdout",
     "output_type": "stream",
     "text": [
      "ffmpeg -i /media/jim/FASTER/realsense/190327/eye.avi -framerate 30 -vcodec libx264 -crf 23 /media/jim/FASTER/realsense/190327/eye_compressed.avi\n",
      "ffmpeg -i /media/jim/FASTER/realsense/190327/eye_JB040.avi -framerate 30 -vcodec libx264 -crf 23 /media/jim/FASTER/realsense/190327/eye_JB040_compressed.avi\n",
      "ffmpeg -i /media/jim/FASTER/realsense/190327/eye_JB041.avi -framerate 30 -vcodec libx264 -crf 23 /media/jim/FASTER/realsense/190327/eye_JB041_compressed.avi\n",
      "ffmpeg -i /media/jim/FASTER/realsense/190327/eye_JB043.avi -framerate 30 -vcodec libx264 -crf 23 /media/jim/FASTER/realsense/190327/eye_JB043_compressed.avi\n"
     ]
    }
   ],
   "source": [
    "for eyefile in eyefiles:\n",
    "    #     fps = 30\n",
    "\n",
    "    newname = '%s_compressed.avi' %os.path.basename(eyefile[:-4])\n",
    "    #     fourcc = cv2.VideoWriter_fourcc(*'DIVX')\n",
    "    #     filename = '%s_compressed.avi' %(newname)\n",
    "    #     writer = cv2.VideoWriter(os.path.join(datadir, filename),fourcc, fps, framesize)\n",
    "    \n",
    "    command = 'ffmpeg -i %s -framerate 30 -vcodec libx264 -crf 23 %s' %(eyefile, os.path.join(datadir,newname))\n",
    "    print(command)\n",
    "    retval = os.system(command)"
   ]
  },
  {
   "cell_type": "code",
   "execution_count": 3,
   "metadata": {},
   "outputs": [
    {
     "data": {
      "text/plain": [
       "['/media/jim/FASTER/realsense/190327/eye.avi',\n",
       " '/media/jim/FASTER/realsense/190327/eye_JB040.avi',\n",
       " '/media/jim/FASTER/realsense/190327/eye_JB041.avi',\n",
       " '/media/jim/FASTER/realsense/190327/eye_JB043.avi']"
      ]
     },
     "execution_count": 3,
     "metadata": {},
     "output_type": "execute_result"
    }
   ],
   "source": [
    "fourcc = cv2.VideoWriter_fourcc(*'DIVX')\n",
    "filename = '%s_compressed.avi' %(mouse, startind, endind)\n",
    "writer = cv2.VideoWriter(os.path.join(outdir, filename),fourcc, fps, framesize)"
   ]
  },
  {
   "cell_type": "markdown",
   "metadata": {},
   "source": [
    "# Make short clips"
   ]
  },
  {
   "cell_type": "code",
   "execution_count": 18,
   "metadata": {},
   "outputs": [],
   "source": [
    "movname = os.path.join(datadir, 'eye_compressed.avi')"
   ]
  },
  {
   "cell_type": "code",
   "execution_count": 21,
   "metadata": {},
   "outputs": [],
   "source": [
    "feats = dir(cv2)\n",
    "cap_props = [i for i in feats if 'CAP_PROP' in i]"
   ]
  },
  {
   "cell_type": "code",
   "execution_count": 22,
   "metadata": {},
   "outputs": [
    {
     "data": {
      "text/plain": [
       "['CAP_PROP_APERTURE',\n",
       " 'CAP_PROP_AUTOFOCUS',\n",
       " 'CAP_PROP_AUTO_EXPOSURE',\n",
       " 'CAP_PROP_AUTO_WB',\n",
       " 'CAP_PROP_BACKEND',\n",
       " 'CAP_PROP_BACKLIGHT',\n",
       " 'CAP_PROP_BRIGHTNESS',\n",
       " 'CAP_PROP_BUFFERSIZE',\n",
       " 'CAP_PROP_CHANNEL',\n",
       " 'CAP_PROP_CONTRAST',\n",
       " 'CAP_PROP_CONVERT_RGB',\n",
       " 'CAP_PROP_DC1394_MAX',\n",
       " 'CAP_PROP_DC1394_MODE_AUTO',\n",
       " 'CAP_PROP_DC1394_MODE_MANUAL',\n",
       " 'CAP_PROP_DC1394_MODE_ONE_PUSH_AUTO',\n",
       " 'CAP_PROP_DC1394_OFF',\n",
       " 'CAP_PROP_EXPOSURE',\n",
       " 'CAP_PROP_EXPOSUREPROGRAM',\n",
       " 'CAP_PROP_FOCUS',\n",
       " 'CAP_PROP_FORMAT',\n",
       " 'CAP_PROP_FOURCC',\n",
       " 'CAP_PROP_FPS',\n",
       " 'CAP_PROP_FRAME_COUNT',\n",
       " 'CAP_PROP_FRAME_HEIGHT',\n",
       " 'CAP_PROP_FRAME_WIDTH',\n",
       " 'CAP_PROP_GAIN',\n",
       " 'CAP_PROP_GAMMA',\n",
       " 'CAP_PROP_GIGA_FRAME_HEIGH_MAX',\n",
       " 'CAP_PROP_GIGA_FRAME_OFFSET_X',\n",
       " 'CAP_PROP_GIGA_FRAME_OFFSET_Y',\n",
       " 'CAP_PROP_GIGA_FRAME_SENS_HEIGH',\n",
       " 'CAP_PROP_GIGA_FRAME_SENS_WIDTH',\n",
       " 'CAP_PROP_GIGA_FRAME_WIDTH_MAX',\n",
       " 'CAP_PROP_GPHOTO2_COLLECT_MSGS',\n",
       " 'CAP_PROP_GPHOTO2_FLUSH_MSGS',\n",
       " 'CAP_PROP_GPHOTO2_PREVIEW',\n",
       " 'CAP_PROP_GPHOTO2_RELOAD_CONFIG',\n",
       " 'CAP_PROP_GPHOTO2_RELOAD_ON_CHANGE',\n",
       " 'CAP_PROP_GPHOTO2_WIDGET_ENUMERATE',\n",
       " 'CAP_PROP_GSTREAMER_QUEUE_LENGTH',\n",
       " 'CAP_PROP_GUID',\n",
       " 'CAP_PROP_HUE',\n",
       " 'CAP_PROP_IMAGES_BASE',\n",
       " 'CAP_PROP_IMAGES_LAST',\n",
       " 'CAP_PROP_INTELPERC_DEPTH_CONFIDENCE_THRESHOLD',\n",
       " 'CAP_PROP_INTELPERC_DEPTH_FOCAL_LENGTH_HORZ',\n",
       " 'CAP_PROP_INTELPERC_DEPTH_FOCAL_LENGTH_VERT',\n",
       " 'CAP_PROP_INTELPERC_DEPTH_LOW_CONFIDENCE_VALUE',\n",
       " 'CAP_PROP_INTELPERC_DEPTH_SATURATION_VALUE',\n",
       " 'CAP_PROP_INTELPERC_PROFILE_COUNT',\n",
       " 'CAP_PROP_INTELPERC_PROFILE_IDX',\n",
       " 'CAP_PROP_IOS_DEVICE_EXPOSURE',\n",
       " 'CAP_PROP_IOS_DEVICE_FLASH',\n",
       " 'CAP_PROP_IOS_DEVICE_FOCUS',\n",
       " 'CAP_PROP_IOS_DEVICE_TORCH',\n",
       " 'CAP_PROP_IOS_DEVICE_WHITEBALANCE',\n",
       " 'CAP_PROP_IRIS',\n",
       " 'CAP_PROP_ISO_SPEED',\n",
       " 'CAP_PROP_MODE',\n",
       " 'CAP_PROP_MONOCHROME',\n",
       " 'CAP_PROP_OPENNI2_MIRROR',\n",
       " 'CAP_PROP_OPENNI2_SYNC',\n",
       " 'CAP_PROP_OPENNI_APPROX_FRAME_SYNC',\n",
       " 'CAP_PROP_OPENNI_BASELINE',\n",
       " 'CAP_PROP_OPENNI_CIRCLE_BUFFER',\n",
       " 'CAP_PROP_OPENNI_FOCAL_LENGTH',\n",
       " 'CAP_PROP_OPENNI_FRAME_MAX_DEPTH',\n",
       " 'CAP_PROP_OPENNI_GENERATOR_PRESENT',\n",
       " 'CAP_PROP_OPENNI_MAX_BUFFER_SIZE',\n",
       " 'CAP_PROP_OPENNI_MAX_TIME_DURATION',\n",
       " 'CAP_PROP_OPENNI_OUTPUT_MODE',\n",
       " 'CAP_PROP_OPENNI_REGISTRATION',\n",
       " 'CAP_PROP_OPENNI_REGISTRATION_ON',\n",
       " 'CAP_PROP_PAN',\n",
       " 'CAP_PROP_POS_AVI_RATIO',\n",
       " 'CAP_PROP_POS_FRAMES',\n",
       " 'CAP_PROP_POS_MSEC',\n",
       " 'CAP_PROP_PVAPI_BINNINGX',\n",
       " 'CAP_PROP_PVAPI_BINNINGY',\n",
       " 'CAP_PROP_PVAPI_DECIMATIONHORIZONTAL',\n",
       " 'CAP_PROP_PVAPI_DECIMATIONVERTICAL',\n",
       " 'CAP_PROP_PVAPI_FRAMESTARTTRIGGERMODE',\n",
       " 'CAP_PROP_PVAPI_MULTICASTIP',\n",
       " 'CAP_PROP_PVAPI_PIXELFORMAT',\n",
       " 'CAP_PROP_RECTIFICATION',\n",
       " 'CAP_PROP_ROLL',\n",
       " 'CAP_PROP_SAR_DEN',\n",
       " 'CAP_PROP_SAR_NUM',\n",
       " 'CAP_PROP_SATURATION',\n",
       " 'CAP_PROP_SETTINGS',\n",
       " 'CAP_PROP_SHARPNESS',\n",
       " 'CAP_PROP_SPEED',\n",
       " 'CAP_PROP_TEMPERATURE',\n",
       " 'CAP_PROP_TILT',\n",
       " 'CAP_PROP_TRIGGER',\n",
       " 'CAP_PROP_TRIGGER_DELAY',\n",
       " 'CAP_PROP_VIEWFINDER',\n",
       " 'CAP_PROP_WB_TEMPERATURE',\n",
       " 'CAP_PROP_WHITE_BALANCE_BLUE_U',\n",
       " 'CAP_PROP_WHITE_BALANCE_RED_V',\n",
       " 'CAP_PROP_XI_ACQ_BUFFER_SIZE',\n",
       " 'CAP_PROP_XI_ACQ_BUFFER_SIZE_UNIT',\n",
       " 'CAP_PROP_XI_ACQ_FRAME_BURST_COUNT',\n",
       " 'CAP_PROP_XI_ACQ_TIMING_MODE',\n",
       " 'CAP_PROP_XI_ACQ_TRANSPORT_BUFFER_COMMIT',\n",
       " 'CAP_PROP_XI_ACQ_TRANSPORT_BUFFER_SIZE',\n",
       " 'CAP_PROP_XI_AEAG',\n",
       " 'CAP_PROP_XI_AEAG_LEVEL',\n",
       " 'CAP_PROP_XI_AEAG_ROI_HEIGHT',\n",
       " 'CAP_PROP_XI_AEAG_ROI_OFFSET_X',\n",
       " 'CAP_PROP_XI_AEAG_ROI_OFFSET_Y',\n",
       " 'CAP_PROP_XI_AEAG_ROI_WIDTH',\n",
       " 'CAP_PROP_XI_AE_MAX_LIMIT',\n",
       " 'CAP_PROP_XI_AG_MAX_LIMIT',\n",
       " 'CAP_PROP_XI_APPLY_CMS',\n",
       " 'CAP_PROP_XI_AUTO_BANDWIDTH_CALCULATION',\n",
       " 'CAP_PROP_XI_AUTO_WB',\n",
       " 'CAP_PROP_XI_AVAILABLE_BANDWIDTH',\n",
       " 'CAP_PROP_XI_BINNING_HORIZONTAL',\n",
       " 'CAP_PROP_XI_BINNING_PATTERN',\n",
       " 'CAP_PROP_XI_BINNING_SELECTOR',\n",
       " 'CAP_PROP_XI_BINNING_VERTICAL',\n",
       " 'CAP_PROP_XI_BPC',\n",
       " 'CAP_PROP_XI_BUFFERS_QUEUE_SIZE',\n",
       " 'CAP_PROP_XI_BUFFER_POLICY',\n",
       " 'CAP_PROP_XI_CC_MATRIX_00',\n",
       " 'CAP_PROP_XI_CC_MATRIX_01',\n",
       " 'CAP_PROP_XI_CC_MATRIX_02',\n",
       " 'CAP_PROP_XI_CC_MATRIX_03',\n",
       " 'CAP_PROP_XI_CC_MATRIX_10',\n",
       " 'CAP_PROP_XI_CC_MATRIX_11',\n",
       " 'CAP_PROP_XI_CC_MATRIX_12',\n",
       " 'CAP_PROP_XI_CC_MATRIX_13',\n",
       " 'CAP_PROP_XI_CC_MATRIX_20',\n",
       " 'CAP_PROP_XI_CC_MATRIX_21',\n",
       " 'CAP_PROP_XI_CC_MATRIX_22',\n",
       " 'CAP_PROP_XI_CC_MATRIX_23',\n",
       " 'CAP_PROP_XI_CC_MATRIX_30',\n",
       " 'CAP_PROP_XI_CC_MATRIX_31',\n",
       " 'CAP_PROP_XI_CC_MATRIX_32',\n",
       " 'CAP_PROP_XI_CC_MATRIX_33',\n",
       " 'CAP_PROP_XI_CHIP_TEMP',\n",
       " 'CAP_PROP_XI_CMS',\n",
       " 'CAP_PROP_XI_COLOR_FILTER_ARRAY',\n",
       " 'CAP_PROP_XI_COLUMN_FPN_CORRECTION',\n",
       " 'CAP_PROP_XI_COOLING',\n",
       " 'CAP_PROP_XI_COUNTER_SELECTOR',\n",
       " 'CAP_PROP_XI_COUNTER_VALUE',\n",
       " 'CAP_PROP_XI_DATA_FORMAT',\n",
       " 'CAP_PROP_XI_DEBOUNCE_EN',\n",
       " 'CAP_PROP_XI_DEBOUNCE_POL',\n",
       " 'CAP_PROP_XI_DEBOUNCE_T0',\n",
       " 'CAP_PROP_XI_DEBOUNCE_T1',\n",
       " 'CAP_PROP_XI_DEBUG_LEVEL',\n",
       " 'CAP_PROP_XI_DECIMATION_HORIZONTAL',\n",
       " 'CAP_PROP_XI_DECIMATION_PATTERN',\n",
       " 'CAP_PROP_XI_DECIMATION_SELECTOR',\n",
       " 'CAP_PROP_XI_DECIMATION_VERTICAL',\n",
       " 'CAP_PROP_XI_DEFAULT_CC_MATRIX',\n",
       " 'CAP_PROP_XI_DEVICE_MODEL_ID',\n",
       " 'CAP_PROP_XI_DEVICE_RESET',\n",
       " 'CAP_PROP_XI_DEVICE_SN',\n",
       " 'CAP_PROP_XI_DOWNSAMPLING',\n",
       " 'CAP_PROP_XI_DOWNSAMPLING_TYPE',\n",
       " 'CAP_PROP_XI_EXPOSURE',\n",
       " 'CAP_PROP_XI_EXPOSURE_BURST_COUNT',\n",
       " 'CAP_PROP_XI_EXP_PRIORITY',\n",
       " 'CAP_PROP_XI_FFS_ACCESS_KEY',\n",
       " 'CAP_PROP_XI_FFS_FILE_ID',\n",
       " 'CAP_PROP_XI_FFS_FILE_SIZE',\n",
       " 'CAP_PROP_XI_FRAMERATE',\n",
       " 'CAP_PROP_XI_FREE_FFS_SIZE',\n",
       " 'CAP_PROP_XI_GAIN',\n",
       " 'CAP_PROP_XI_GAIN_SELECTOR',\n",
       " 'CAP_PROP_XI_GAMMAC',\n",
       " 'CAP_PROP_XI_GAMMAY',\n",
       " 'CAP_PROP_XI_GPI_LEVEL',\n",
       " 'CAP_PROP_XI_GPI_MODE',\n",
       " 'CAP_PROP_XI_GPI_SELECTOR',\n",
       " 'CAP_PROP_XI_GPO_MODE',\n",
       " 'CAP_PROP_XI_GPO_SELECTOR',\n",
       " 'CAP_PROP_XI_HDR',\n",
       " 'CAP_PROP_XI_HDR_KNEEPOINT_COUNT',\n",
       " 'CAP_PROP_XI_HDR_T1',\n",
       " 'CAP_PROP_XI_HDR_T2',\n",
       " 'CAP_PROP_XI_HEIGHT',\n",
       " 'CAP_PROP_XI_HOUS_BACK_SIDE_TEMP',\n",
       " 'CAP_PROP_XI_HOUS_TEMP',\n",
       " 'CAP_PROP_XI_HW_REVISION',\n",
       " 'CAP_PROP_XI_IMAGE_BLACK_LEVEL',\n",
       " 'CAP_PROP_XI_IMAGE_DATA_BIT_DEPTH',\n",
       " 'CAP_PROP_XI_IMAGE_DATA_FORMAT',\n",
       " 'CAP_PROP_XI_IMAGE_DATA_FORMAT_RGB32_ALPHA',\n",
       " 'CAP_PROP_XI_IMAGE_IS_COLOR',\n",
       " 'CAP_PROP_XI_IMAGE_PAYLOAD_SIZE',\n",
       " 'CAP_PROP_XI_IS_COOLED',\n",
       " 'CAP_PROP_XI_IS_DEVICE_EXIST',\n",
       " 'CAP_PROP_XI_KNEEPOINT1',\n",
       " 'CAP_PROP_XI_KNEEPOINT2',\n",
       " 'CAP_PROP_XI_LED_MODE',\n",
       " 'CAP_PROP_XI_LED_SELECTOR',\n",
       " 'CAP_PROP_XI_LENS_APERTURE_VALUE',\n",
       " 'CAP_PROP_XI_LENS_FEATURE',\n",
       " 'CAP_PROP_XI_LENS_FEATURE_SELECTOR',\n",
       " 'CAP_PROP_XI_LENS_FOCAL_LENGTH',\n",
       " 'CAP_PROP_XI_LENS_FOCUS_DISTANCE',\n",
       " 'CAP_PROP_XI_LENS_FOCUS_MOVE',\n",
       " 'CAP_PROP_XI_LENS_FOCUS_MOVEMENT_VALUE',\n",
       " 'CAP_PROP_XI_LENS_MODE',\n",
       " 'CAP_PROP_XI_LIMIT_BANDWIDTH',\n",
       " 'CAP_PROP_XI_LUT_EN',\n",
       " 'CAP_PROP_XI_LUT_INDEX',\n",
       " 'CAP_PROP_XI_LUT_VALUE',\n",
       " 'CAP_PROP_XI_MANUAL_WB',\n",
       " 'CAP_PROP_XI_OFFSET_X',\n",
       " 'CAP_PROP_XI_OFFSET_Y',\n",
       " 'CAP_PROP_XI_OUTPUT_DATA_BIT_DEPTH',\n",
       " 'CAP_PROP_XI_OUTPUT_DATA_PACKING',\n",
       " 'CAP_PROP_XI_OUTPUT_DATA_PACKING_TYPE',\n",
       " 'CAP_PROP_XI_RECENT_FRAME',\n",
       " 'CAP_PROP_XI_REGION_MODE',\n",
       " 'CAP_PROP_XI_REGION_SELECTOR',\n",
       " 'CAP_PROP_XI_ROW_FPN_CORRECTION',\n",
       " 'CAP_PROP_XI_SENSOR_BOARD_TEMP',\n",
       " 'CAP_PROP_XI_SENSOR_CLOCK_FREQ_HZ',\n",
       " 'CAP_PROP_XI_SENSOR_CLOCK_FREQ_INDEX',\n",
       " 'CAP_PROP_XI_SENSOR_DATA_BIT_DEPTH',\n",
       " 'CAP_PROP_XI_SENSOR_FEATURE_SELECTOR',\n",
       " 'CAP_PROP_XI_SENSOR_FEATURE_VALUE',\n",
       " 'CAP_PROP_XI_SENSOR_MODE',\n",
       " 'CAP_PROP_XI_SENSOR_OUTPUT_CHANNEL_COUNT',\n",
       " 'CAP_PROP_XI_SENSOR_TAPS',\n",
       " 'CAP_PROP_XI_SHARPNESS',\n",
       " 'CAP_PROP_XI_SHUTTER_TYPE',\n",
       " 'CAP_PROP_XI_TARGET_TEMP',\n",
       " 'CAP_PROP_XI_TEST_PATTERN',\n",
       " 'CAP_PROP_XI_TEST_PATTERN_GENERATOR_SELECTOR',\n",
       " 'CAP_PROP_XI_TIMEOUT',\n",
       " 'CAP_PROP_XI_TRANSPORT_PIXEL_FORMAT',\n",
       " 'CAP_PROP_XI_TRG_DELAY',\n",
       " 'CAP_PROP_XI_TRG_SELECTOR',\n",
       " 'CAP_PROP_XI_TRG_SOFTWARE',\n",
       " 'CAP_PROP_XI_TRG_SOURCE',\n",
       " 'CAP_PROP_XI_TS_RST_MODE',\n",
       " 'CAP_PROP_XI_TS_RST_SOURCE',\n",
       " 'CAP_PROP_XI_USED_FFS_SIZE',\n",
       " 'CAP_PROP_XI_WB_KB',\n",
       " 'CAP_PROP_XI_WB_KG',\n",
       " 'CAP_PROP_XI_WB_KR',\n",
       " 'CAP_PROP_XI_WIDTH',\n",
       " 'CAP_PROP_ZOOM']"
      ]
     },
     "execution_count": 22,
     "metadata": {},
     "output_type": "execute_result"
    }
   ],
   "source": [
    "cap_props"
   ]
  },
  {
   "cell_type": "code",
   "execution_count": 31,
   "metadata": {},
   "outputs": [],
   "source": []
  },
  {
   "cell_type": "code",
   "execution_count": 32,
   "metadata": {},
   "outputs": [
    {
     "data": {
      "text/plain": [
       "'H264'"
      ]
     },
     "execution_count": 32,
     "metadata": {},
     "output_type": "execute_result"
    }
   ],
   "source": [
    "decode_fourcc(metadata['codec'])"
   ]
  },
  {
   "cell_type": "code",
   "execution_count": 36,
   "metadata": {},
   "outputs": [],
   "source": [
    "# from here: https://github.com/opencv/opencv/issues/7013\n",
    "def decode_fourcc(v):\n",
    "    v = int(v)\n",
    "    return \"\".join([chr((v >> 8 * i) & 0xFF) for i in range(4)])\n",
    "\n",
    "def get_video_metadata(filename):\n",
    "    cap = cv2.VideoCapture(filename)\n",
    "    metadata = dict()\n",
    "    \n",
    "    metadata['width'] = int(cap.get(cv2.CAP_PROP_FRAME_WIDTH))\n",
    "    metadata['height'] = int(cap.get(cv2.CAP_PROP_FRAME_HEIGHT))\n",
    "    metadata['fps'] = int(cap.get(cv2.CAP_PROP_FPS))\n",
    "    \n",
    "    metadata['codec'] = decode_fourcc(cap.get(cv2.CAP_PROP_FOURCC))\n",
    "    \n",
    "    metadata['framecount'] = int(cap.get(cv2.CAP_PROP_FRAME_COUNT))\n",
    "    cap.release()\n",
    "    return(metadata)"
   ]
  },
  {
   "cell_type": "code",
   "execution_count": 76,
   "metadata": {},
   "outputs": [
    {
     "name": "stdout",
     "output_type": "stream",
     "text": [
      "{'width': 640, 'height': 512, 'fps': 60, 'codec': 'H264', 'framecount': 54294}\n"
     ]
    }
   ],
   "source": [
    "movname = os.path.join(datadir, 'eye_JB043_compressed.avi')\n",
    "metadata = get_video_metadata(movname)\n",
    "print(metadata)"
   ]
  },
  {
   "cell_type": "code",
   "execution_count": 77,
   "metadata": {},
   "outputs": [],
   "source": [
    "N=1800\n",
    "index = np.random.randint(low=0, high=metadata['framecount']-N)\n",
    "# index = 172014\n",
    "# index = 1000\n",
    "indices = range(index, index+N)"
   ]
  },
  {
   "cell_type": "code",
   "execution_count": 78,
   "metadata": {},
   "outputs": [],
   "source": [
    "preview = True\n",
    "save = True\n",
    "mouse = 'JB043'\n",
    "\n",
    "# lefts, _ = get_frames_by_index(camfiles, LUT, indices[0], blank_frame=True)\n",
    "\n",
    "width = metadata['width']\n",
    "height = metadata['height']\n",
    "fps = 30"
   ]
  },
  {
   "cell_type": "code",
   "execution_count": 74,
   "metadata": {},
   "outputs": [
    {
     "data": {
      "text/plain": [
       "'/media/jim/FASTER/realsense/190327/examples/JB040_0029696_0031495.avi'"
      ]
     },
     "execution_count": 74,
     "metadata": {},
     "output_type": "execute_result"
    }
   ],
   "source": [
    "os.path.join(outdir, filename)"
   ]
  },
  {
   "cell_type": "code",
   "execution_count": 79,
   "metadata": {},
   "outputs": [],
   "source": [
    "startind = indices[0]\n",
    "endind = indices[-1]\n",
    "if preview:\n",
    "#     cv2.namedWindow('Realsense', cv2.WINDOW_AUTOSIZE)\n",
    "#     cv2.namedWindow('Flea', cv2.WINDOW_AUTOSIZE)\n",
    "    cv2.namedWindow('Joined', cv2.WINDOW_AUTOSIZE)\n",
    "    waittime = int(1000/fps)\n",
    "if save:\n",
    "    outdir = os.path.join(datadir, 'examples')\n",
    "    if not os.path.isdir(outdir):\n",
    "        os.makedirs(outdir)\n",
    "    fourcc = cv2.VideoWriter_fourcc(*'DIVX')\n",
    "    filename = '%s_%07d_%07d.avi' %(mouse, startind, endind)\n",
    "    framesize = (width,height)\n",
    "    writer = cv2.VideoWriter(os.path.join(outdir, filename),fourcc, fps, framesize)\n",
    "try:\n",
    "    cap = cv2.VideoCapture(movname)\n",
    "    for i in range(startind,endind):\n",
    "        t0 = time.perf_counter()\n",
    "        ret, out = cap.read()\n",
    "        if not ret:\n",
    "            break\n",
    "        #         lefts, rights = get_frames_by_index(camfiles, LUT, i, blank_frame=True,\n",
    "        #                                            shape=(height,width))\n",
    "        #         top = np.hstack(lefts)\n",
    "        #         bottom = np.hstack(rights)\n",
    "        #         out = np.vstack((top,bottom))\n",
    "\n",
    "        #         r = np.hstack((r_l, r_r))\n",
    "        #         f = np.hstack((f_l, f_r))\n",
    "\n",
    "        #         rheight, rwidth = r.shape\n",
    "        #         fheight, fwidth = f.shape\n",
    "        #         out_width = int(fwidth)\n",
    "        #         out_height = int(fwidth/rwidth*rheight)\n",
    "        #         out = np.vstack((cv2.resize(r,(out_width,out_height)),\n",
    "        #                         f))\n",
    "        # out = cv2.cvtColor(frame, cv2.COLOR_GRAY2RGB)\n",
    "        text = '%s:%07d' %(mouse, i)\n",
    "        cv2.putText(out, text, (50,out.shape[0]-50),\n",
    "                   fontFace=cv2.FONT_HERSHEY_SIMPLEX,fontScale=1,\n",
    "                   color=(0,0,255),thickness=1,lineType=cv2.LINE_AA)\n",
    "        if save:\n",
    "            writer.write(out)\n",
    "\n",
    "        if preview:\n",
    "            # cv2.imshow('Realsense', r)\n",
    "            # cv2.imshow('Flea',f)\n",
    "            cv2.imshow('Joined', out)\n",
    "            elapsed = int((time.perf_counter() - t0)*1000)\n",
    "\n",
    "            key = cv2.waitKey(max([1,elapsed]))\n",
    "            if key==27:\n",
    "                print('User stopped')\n",
    "                break\n",
    "                # raise KeyboardInterrupt\n",
    "except BaseException as e:\n",
    "    print(e.message)\n",
    "finally:\n",
    "    if preview:\n",
    "        cv2.destroyAllWindows()\n",
    "    if save:\n",
    "        writer.release()"
   ]
  },
  {
   "cell_type": "markdown",
   "metadata": {},
   "source": [
    "# cv2 info"
   ]
  },
  {
   "cell_type": "code",
   "execution_count": 39,
   "metadata": {},
   "outputs": [
    {
     "name": "stdout",
     "output_type": "stream",
     "text": [
      "\n",
      "General configuration for OpenCV 4.0.0 =====================================\n",
      "  Version control:               4.0.0\n",
      "\n",
      "  Extra modules:\n",
      "    Location (extra):            /io/opencv_contrib/modules\n",
      "    Version control (extra):     4.0.0\n",
      "\n",
      "  Platform:\n",
      "    Timestamp:                   2019-01-09T18:15:09Z\n",
      "    Host:                        Linux 4.4.0-101-generic x86_64\n",
      "    CMake:                       3.9.0\n",
      "    CMake generator:             Unix Makefiles\n",
      "    CMake build tool:            /usr/bin/gmake\n",
      "    Configuration:               Release\n",
      "\n",
      "  CPU/HW features:\n",
      "    Baseline:                    SSE SSE2 SSE3\n",
      "      requested:                 SSE3\n",
      "    Dispatched code generation:  SSE4_1 SSE4_2 FP16 AVX AVX2\n",
      "      requested:                 SSE4_1 SSE4_2 AVX FP16 AVX2 AVX512_SKX\n",
      "      SSE4_1 (5 files):          + SSSE3 SSE4_1\n",
      "      SSE4_2 (1 files):          + SSSE3 SSE4_1 POPCNT SSE4_2\n",
      "      FP16 (0 files):            + SSSE3 SSE4_1 POPCNT SSE4_2 FP16 AVX\n",
      "      AVX (4 files):             + SSSE3 SSE4_1 POPCNT SSE4_2 AVX\n",
      "      AVX2 (11 files):           + SSSE3 SSE4_1 POPCNT SSE4_2 FP16 FMA3 AVX AVX2\n",
      "\n",
      "  C/C++:\n",
      "    Built as dynamic libs?:      NO\n",
      "    C++ Compiler:                /usr/lib/ccache/compilers/c++  (ver 4.8.2)\n",
      "    C++ flags (Release):         -Wl,-strip-all   -fsigned-char -W -Wall -Werror=return-type -Werror=non-virtual-dtor -Werror=address -Werror=sequence-point -Wformat -Werror=format-security -Wmissing-declarations -Wundef -Winit-self -Wpointer-arith -Wsign-promo -Wuninitialized -Winit-self -Wno-narrowing -Wno-delete-non-virtual-dtor -Wno-comment -Wno-missing-field-initializers -fdiagnostics-show-option -Wno-long-long -pthread -fomit-frame-pointer -ffunction-sections -fdata-sections  -msse -msse2 -msse3 -fvisibility=hidden -fvisibility-inlines-hidden -O3 -DNDEBUG  -DNDEBUG\n",
      "    C++ flags (Debug):           -Wl,-strip-all   -fsigned-char -W -Wall -Werror=return-type -Werror=non-virtual-dtor -Werror=address -Werror=sequence-point -Wformat -Werror=format-security -Wmissing-declarations -Wundef -Winit-self -Wpointer-arith -Wsign-promo -Wuninitialized -Winit-self -Wno-narrowing -Wno-delete-non-virtual-dtor -Wno-comment -Wno-missing-field-initializers -fdiagnostics-show-option -Wno-long-long -pthread -fomit-frame-pointer -ffunction-sections -fdata-sections  -msse -msse2 -msse3 -fvisibility=hidden -fvisibility-inlines-hidden -g  -O0 -DDEBUG -D_DEBUG\n",
      "    C Compiler:                  /usr/lib/ccache/compilers/cc\n",
      "    C flags (Release):           -Wl,-strip-all   -fsigned-char -W -Wall -Werror=return-type -Werror=non-virtual-dtor -Werror=address -Werror=sequence-point -Wformat -Werror=format-security -Wmissing-declarations -Wmissing-prototypes -Wstrict-prototypes -Wundef -Winit-self -Wpointer-arith -Wuninitialized -Winit-self -Wno-narrowing -Wno-comment -Wno-missing-field-initializers -fdiagnostics-show-option -Wno-long-long -pthread -fomit-frame-pointer -ffunction-sections -fdata-sections  -msse -msse2 -msse3 -fvisibility=hidden -O3 -DNDEBUG  -DNDEBUG\n",
      "    C flags (Debug):             -Wl,-strip-all   -fsigned-char -W -Wall -Werror=return-type -Werror=non-virtual-dtor -Werror=address -Werror=sequence-point -Wformat -Werror=format-security -Wmissing-declarations -Wmissing-prototypes -Wstrict-prototypes -Wundef -Winit-self -Wpointer-arith -Wuninitialized -Winit-self -Wno-narrowing -Wno-comment -Wno-missing-field-initializers -fdiagnostics-show-option -Wno-long-long -pthread -fomit-frame-pointer -ffunction-sections -fdata-sections  -msse -msse2 -msse3 -fvisibility=hidden -g  -O0 -DDEBUG -D_DEBUG\n",
      "    Linker flags (Release):      -L/root/ffmpeg_build/lib   \n",
      "    Linker flags (Debug):        -L/root/ffmpeg_build/lib   \n",
      "    ccache:                      YES\n",
      "    Precompiled headers:         NO\n",
      "    Extra dependencies:          ade /opt/Qt4.8.7/lib/libQtGui.so /opt/Qt4.8.7/lib/libQtTest.so /opt/Qt4.8.7/lib/libQtCore.so /lib64/libz.so /opt/libjpeg-turbo/lib64/libjpeg.a avcodec avformat avutil swscale dl m pthread rt\n",
      "    3rdparty dependencies:       ittnotify libprotobuf libwebp libpng libtiff libjasper IlmImf quirc\n",
      "\n",
      "  OpenCV modules:\n",
      "    To be built:                 aruco bgsegm bioinspired calib3d ccalib core datasets dnn dnn_objdetect dpm face features2d flann fuzzy gapi hfs highgui img_hash imgcodecs imgproc java_bindings_generator line_descriptor ml objdetect optflow phase_unwrapping photo plot python3 python_bindings_generator reg rgbd saliency shape stereo stitching structured_light superres surface_matching text tracking video videoio videostab xfeatures2d ximgproc xobjdetect xphoto\n",
      "    Disabled:                    world\n",
      "    Disabled by dependency:      -\n",
      "    Unavailable:                 cnn_3dobj cudaarithm cudabgsegm cudacodec cudafeatures2d cudafilters cudaimgproc cudalegacy cudaobjdetect cudaoptflow cudastereo cudawarping cudev cvv freetype hdf java js matlab ovis python2 sfm ts viz\n",
      "    Applications:                -\n",
      "    Documentation:               NO\n",
      "    Non-free algorithms:         NO\n",
      "\n",
      "  GUI: \n",
      "    QT:                          YES (ver 4.8.7 EDITION = OpenSource)\n",
      "      QT OpenGL support:         NO\n",
      "    GTK+:                        NO\n",
      "    VTK support:                 NO\n",
      "\n",
      "  Media I/O: \n",
      "    ZLib:                        /lib64/libz.so (ver 1.2.3)\n",
      "    JPEG:                        /opt/libjpeg-turbo/lib64/libjpeg.a (ver 62)\n",
      "    WEBP:                        build (ver encoder: 0x020e)\n",
      "    PNG:                         build (ver 1.6.35)\n",
      "    TIFF:                        build (ver 42 - 4.0.9)\n",
      "    JPEG 2000:                   build (ver 1.900.1)\n",
      "    OpenEXR:                     build (ver 1.7.1)\n",
      "    HDR:                         YES\n",
      "    SUNRASTER:                   YES\n",
      "    PXM:                         YES\n",
      "    PFM:                         YES\n",
      "\n",
      "  Video I/O:\n",
      "    DC1394:                      NO\n",
      "    FFMPEG:                      YES\n",
      "      avcodec:                   YES (ver 58.21.104)\n",
      "      avformat:                  YES (ver 58.17.101)\n",
      "      avutil:                    YES (ver 56.18.102)\n",
      "      swscale:                   YES (ver 5.2.100)\n",
      "      avresample:                NO\n",
      "    GStreamer:                   NO\n",
      "    v4l/v4l2:                    linux/videodev2.h\n",
      "\n",
      "  Parallel framework:            pthreads\n",
      "\n",
      "  Trace:                         YES (with Intel ITT)\n",
      "\n",
      "  Other third-party libraries:\n",
      "    Lapack:                      NO\n",
      "    Eigen:                       NO\n",
      "    Custom HAL:                  NO\n",
      "    Protobuf:                    build (3.5.1)\n",
      "\n",
      "  OpenCL:                        YES (no extra features)\n",
      "    Include path:                /io/opencv/3rdparty/include/opencl/1.2\n",
      "    Link libraries:              Dynamic load\n",
      "\n",
      "  Python 3:\n",
      "    Interpreter:                 /opt/python/cp37-cp37m/bin/python (ver 3.7)\n",
      "    Libraries:                   libpython3.7m.a (ver 3.7.0)\n",
      "    numpy:                       /opt/python/cp37-cp37m/lib/python3.7/site-packages/numpy/core/include (ver 1.14.5)\n",
      "    packages path:               lib/python3.7/site-packages\n",
      "\n",
      "  Python (for build):            /opt/python/cp37-cp37m/bin/python\n",
      "\n",
      "  Java:                          \n",
      "    ant:                         NO\n",
      "    JNI:                         NO\n",
      "    Java wrappers:               NO\n",
      "    Java tests:                  NO\n",
      "\n",
      "  Install to:                    /io/_skbuild/linux-x86_64-3.7/cmake-install\n",
      "-----------------------------------------------------------------\n",
      "\n",
      "\n"
     ]
    }
   ],
   "source": [
    "print(cv2.getBuildInformation())"
   ]
  },
  {
   "cell_type": "markdown",
   "metadata": {},
   "source": [
    "# Compress binary files"
   ]
  },
  {
   "cell_type": "code",
   "execution_count": 13,
   "metadata": {},
   "outputs": [],
   "source": [
    "datadir = r'/media/jim/FASTER/realsense/190329'\n",
    "files = os.listdir(datadir)\n",
    "files.sort()\n",
    "eyefiles = [os.path.join(datadir, i) for i in files if 'eye' in i and '.bin' in i]\n",
    "eyefile = eyefiles[0]\n",
    "camstruct = [os.path.join(datadir, i) for i in files if 'CamStruct' in i][0]"
   ]
  },
  {
   "cell_type": "code",
   "execution_count": 86,
   "metadata": {},
   "outputs": [],
   "source": [
    "caminfo = loadmat(camstruct, squeeze_me=True,struct_as_record=False)"
   ]
  },
  {
   "cell_type": "code",
   "execution_count": 99,
   "metadata": {},
   "outputs": [
    {
     "data": {
      "text/plain": [
       "['version', 'type', 'constructor', 'data', 'uddobject', 'imaqdevice']"
      ]
     },
     "execution_count": 99,
     "metadata": {},
     "output_type": "execute_result"
    }
   ],
   "source": [
    "caminfo['cam'].camObj._fieldnames"
   ]
  },
  {
   "cell_type": "code",
   "execution_count": 96,
   "metadata": {},
   "outputs": [
    {
     "data": {
      "text/plain": [
       "['camObj',\n",
       " 'src',\n",
       " 'METADATA_SIZE_BYTES',\n",
       " 'name',\n",
       " 'metadata',\n",
       " 'size',\n",
       " 'loggingFileID']"
      ]
     },
     "execution_count": 96,
     "metadata": {},
     "output_type": "execute_result"
    }
   ],
   "source": [
    "caminfo['cam']._fieldnames"
   ]
  },
  {
   "cell_type": "code",
   "execution_count": 101,
   "metadata": {},
   "outputs": [
    {
     "data": {
      "text/plain": [
       "<scipy.io.matlab.mio5_params.mat_struct at 0x7f33cd501be0>"
      ]
     },
     "execution_count": 101,
     "metadata": {},
     "output_type": "execute_result"
    }
   ],
   "source": [
    "getattr(caminfo['cam'], 'camObj')"
   ]
  },
  {
   "cell_type": "code",
   "execution_count": 119,
   "metadata": {},
   "outputs": [
    {
     "name": "stdout",
     "output_type": "stream",
     "text": [
      "<scipy.io.matlab.mio5_params.mat_struct object at 0x7f33cd4edbe0> ['camObj', 'src', 'METADATA_SIZE_BYTES', 'name', 'metadata', 'size', 'loggingFileID']\n",
      "<scipy.io.matlab.mio5_params.mat_struct object at 0x7f33cd501be0> ['version', 'type', 'constructor', 'data', 'uddobject', 'imaqdevice']\n"
     ]
    },
    {
     "ename": "AttributeError",
     "evalue": "'str' object has no attribute 'version'",
     "output_type": "error",
     "traceback": [
      "\u001b[0;31m---------------------------------------------------------------------------\u001b[0m",
      "\u001b[0;31mAttributeError\u001b[0m                            Traceback (most recent call last)",
      "\u001b[0;32m<ipython-input-119-34234532ddb2>\u001b[0m in \u001b[0;36m<module>\u001b[0;34m\u001b[0m\n\u001b[0;32m----> 1\u001b[0;31m \u001b[0munwrapped\u001b[0m \u001b[0;34m=\u001b[0m \u001b[0munwrap_matfile\u001b[0m\u001b[0;34m(\u001b[0m\u001b[0mcaminfo\u001b[0m\u001b[0;34m[\u001b[0m\u001b[0;34m'cam'\u001b[0m\u001b[0;34m]\u001b[0m\u001b[0;34m,\u001b[0m \u001b[0;34m'camObj'\u001b[0m\u001b[0;34m)\u001b[0m\u001b[0;34m\u001b[0m\u001b[0;34m\u001b[0m\u001b[0m\n\u001b[0m",
      "\u001b[0;32m<ipython-input-118-e3391f4462d9>\u001b[0m in \u001b[0;36munwrap_matfile\u001b[0;34m(obj, fieldname)\u001b[0m\n\u001b[1;32m      4\u001b[0m         \u001b[0mprint\u001b[0m\u001b[0;34m(\u001b[0m\u001b[0mobj\u001b[0m\u001b[0;34m,\u001b[0m \u001b[0mfields\u001b[0m\u001b[0;34m)\u001b[0m\u001b[0;34m\u001b[0m\u001b[0;34m\u001b[0m\u001b[0m\n\u001b[1;32m      5\u001b[0m         \u001b[0;32mfor\u001b[0m \u001b[0mfield\u001b[0m \u001b[0;32min\u001b[0m \u001b[0mfields\u001b[0m\u001b[0;34m:\u001b[0m\u001b[0;34m\u001b[0m\u001b[0;34m\u001b[0m\u001b[0m\n\u001b[0;32m----> 6\u001b[0;31m             \u001b[0mkey\u001b[0m\u001b[0;34m,\u001b[0m \u001b[0mvalue\u001b[0m \u001b[0;34m=\u001b[0m \u001b[0munwrap_matfile\u001b[0m\u001b[0;34m(\u001b[0m\u001b[0mgetattr\u001b[0m\u001b[0;34m(\u001b[0m\u001b[0mobj\u001b[0m\u001b[0;34m,\u001b[0m \u001b[0mfield\u001b[0m\u001b[0;34m)\u001b[0m\u001b[0;34m,\u001b[0m \u001b[0mfield\u001b[0m\u001b[0;34m)\u001b[0m\u001b[0;34m\u001b[0m\u001b[0;34m\u001b[0m\u001b[0m\n\u001b[0m\u001b[1;32m      7\u001b[0m     \u001b[0;32melse\u001b[0m\u001b[0;34m:\u001b[0m\u001b[0;34m\u001b[0m\u001b[0;34m\u001b[0m\u001b[0m\n\u001b[1;32m      8\u001b[0m         \u001b[0;32mreturn\u001b[0m\u001b[0;34m(\u001b[0m\u001b[0mfieldname\u001b[0m\u001b[0;34m,\u001b[0m \u001b[0mgetattr\u001b[0m\u001b[0;34m(\u001b[0m\u001b[0mobj\u001b[0m\u001b[0;34m,\u001b[0m\u001b[0mfieldname\u001b[0m\u001b[0;34m)\u001b[0m\u001b[0;34m)\u001b[0m\u001b[0;34m\u001b[0m\u001b[0;34m\u001b[0m\u001b[0m\n",
      "\u001b[0;32m<ipython-input-118-e3391f4462d9>\u001b[0m in \u001b[0;36munwrap_matfile\u001b[0;34m(obj, fieldname)\u001b[0m\n\u001b[1;32m      4\u001b[0m         \u001b[0mprint\u001b[0m\u001b[0;34m(\u001b[0m\u001b[0mobj\u001b[0m\u001b[0;34m,\u001b[0m \u001b[0mfields\u001b[0m\u001b[0;34m)\u001b[0m\u001b[0;34m\u001b[0m\u001b[0;34m\u001b[0m\u001b[0m\n\u001b[1;32m      5\u001b[0m         \u001b[0;32mfor\u001b[0m \u001b[0mfield\u001b[0m \u001b[0;32min\u001b[0m \u001b[0mfields\u001b[0m\u001b[0;34m:\u001b[0m\u001b[0;34m\u001b[0m\u001b[0;34m\u001b[0m\u001b[0m\n\u001b[0;32m----> 6\u001b[0;31m             \u001b[0mkey\u001b[0m\u001b[0;34m,\u001b[0m \u001b[0mvalue\u001b[0m \u001b[0;34m=\u001b[0m \u001b[0munwrap_matfile\u001b[0m\u001b[0;34m(\u001b[0m\u001b[0mgetattr\u001b[0m\u001b[0;34m(\u001b[0m\u001b[0mobj\u001b[0m\u001b[0;34m,\u001b[0m \u001b[0mfield\u001b[0m\u001b[0;34m)\u001b[0m\u001b[0;34m,\u001b[0m \u001b[0mfield\u001b[0m\u001b[0;34m)\u001b[0m\u001b[0;34m\u001b[0m\u001b[0;34m\u001b[0m\u001b[0m\n\u001b[0m\u001b[1;32m      7\u001b[0m     \u001b[0;32melse\u001b[0m\u001b[0;34m:\u001b[0m\u001b[0;34m\u001b[0m\u001b[0;34m\u001b[0m\u001b[0m\n\u001b[1;32m      8\u001b[0m         \u001b[0;32mreturn\u001b[0m\u001b[0;34m(\u001b[0m\u001b[0mfieldname\u001b[0m\u001b[0;34m,\u001b[0m \u001b[0mgetattr\u001b[0m\u001b[0;34m(\u001b[0m\u001b[0mobj\u001b[0m\u001b[0;34m,\u001b[0m\u001b[0mfieldname\u001b[0m\u001b[0;34m)\u001b[0m\u001b[0;34m)\u001b[0m\u001b[0;34m\u001b[0m\u001b[0;34m\u001b[0m\u001b[0m\n",
      "\u001b[0;32m<ipython-input-118-e3391f4462d9>\u001b[0m in \u001b[0;36munwrap_matfile\u001b[0;34m(obj, fieldname)\u001b[0m\n\u001b[1;32m      6\u001b[0m             \u001b[0mkey\u001b[0m\u001b[0;34m,\u001b[0m \u001b[0mvalue\u001b[0m \u001b[0;34m=\u001b[0m \u001b[0munwrap_matfile\u001b[0m\u001b[0;34m(\u001b[0m\u001b[0mgetattr\u001b[0m\u001b[0;34m(\u001b[0m\u001b[0mobj\u001b[0m\u001b[0;34m,\u001b[0m \u001b[0mfield\u001b[0m\u001b[0;34m)\u001b[0m\u001b[0;34m,\u001b[0m \u001b[0mfield\u001b[0m\u001b[0;34m)\u001b[0m\u001b[0;34m\u001b[0m\u001b[0;34m\u001b[0m\u001b[0m\n\u001b[1;32m      7\u001b[0m     \u001b[0;32melse\u001b[0m\u001b[0;34m:\u001b[0m\u001b[0;34m\u001b[0m\u001b[0;34m\u001b[0m\u001b[0m\n\u001b[0;32m----> 8\u001b[0;31m         \u001b[0;32mreturn\u001b[0m\u001b[0;34m(\u001b[0m\u001b[0mfieldname\u001b[0m\u001b[0;34m,\u001b[0m \u001b[0mgetattr\u001b[0m\u001b[0;34m(\u001b[0m\u001b[0mobj\u001b[0m\u001b[0;34m,\u001b[0m\u001b[0mfieldname\u001b[0m\u001b[0;34m)\u001b[0m\u001b[0;34m)\u001b[0m\u001b[0;34m\u001b[0m\u001b[0;34m\u001b[0m\u001b[0m\n\u001b[0m\u001b[1;32m      9\u001b[0m         \u001b[0;31m# print(obj)\u001b[0m\u001b[0;34m\u001b[0m\u001b[0;34m\u001b[0m\u001b[0;34m\u001b[0m\u001b[0m\n",
      "\u001b[0;31mAttributeError\u001b[0m: 'str' object has no attribute 'version'"
     ]
    }
   ],
   "source": [
    "unwrapped = unwrap_matfile(caminfo['cam'], 'camObj')"
   ]
  },
  {
   "cell_type": "code",
   "execution_count": null,
   "metadata": {},
   "outputs": [],
   "source": [
    "caminfo['cam'].camObj.data.objtype"
   ]
  },
  {
   "cell_type": "code",
   "execution_count": 132,
   "metadata": {},
   "outputs": [
    {
     "data": {
      "text/plain": [
       "'Video Input'"
      ]
     },
     "execution_count": 132,
     "metadata": {},
     "output_type": "execute_result"
    }
   ],
   "source": [
    "caminfo['cam'].camObj.data.objtype"
   ]
  },
  {
   "cell_type": "code",
   "execution_count": 141,
   "metadata": {},
   "outputs": [
    {
     "name": "stdout",
     "output_type": "stream",
     "text": [
      "<scipy.io.matlab.mio5_params.mat_struct object at 0x7f33cd4edbe0> ['camObj', 'src', 'METADATA_SIZE_BYTES', 'name', 'metadata', 'size', 'loggingFileID']\n",
      "<scipy.io.matlab.mio5_params.mat_struct object at 0x7f33cd501be0> ['version', 'type', 'constructor', 'data', 'uddobject', 'imaqdevice']\n",
      "<scipy.io.matlab.mio5_params.mat_struct object at 0x7f33cd5014e0> ['objtype']\n",
      "<scipy.io.matlab.mio5_params.mat_struct object at 0x7f33cd501400> ['store']\n",
      "<scipy.io.matlab.mio5_params.mat_struct object at 0x7f33cd501d68> ['props', 'childprops', 'location', 'triggerProps']\n",
      "<scipy.io.matlab.mio5_params.mat_struct object at 0x7f33cd501e80> ['FramesAcquiredFcnCount', 'FramesPerTrigger', 'FrameGrabInterval', 'DiskLogger', 'ErrorFcn', 'FramesAcquiredFcn', 'LoggingMode', 'StartFcn', 'StopFcn', 'Timeout', 'TimerFcn', 'TimerPeriod', 'TriggerFcn', 'TriggerFrameDelay', 'TriggerRepeat', 'BayerSensorAlignment', 'Tag', 'Type', 'UserData', 'ReturnedColorSpace', 'ROIPosition', 'Name', 'SelectedSourceName', 'ConstructorArgs', 'ObjectGUID']\n",
      "<scipy.io.matlab.mio5_params.mat_struct object at 0x7f33cd501f98> ['Brightness', 'Exposure', 'ExposureMode', 'FrameRate', 'FrameRateMode', 'Gain', 'GainMode', 'Shutter', 'ShutterMode', 'Strobe1', 'Strobe1Delay', 'Strobe1Duration', 'Strobe1Polarity', 'Strobe2', 'Strobe2Delay', 'Strobe2Duration', 'Strobe2Polarity', 'Strobe3', 'Strobe3Delay', 'Strobe3Duration', 'Strobe3Polarity', 'Tag', 'TriggerDelay', 'TriggerDelayMode', 'TriggerParameter', 'Type', 'ConstructorArgs', 'ObjectGUID']\n",
      "<scipy.io.matlab.mio5_params.mat_struct object at 0x7f33cd486390> ['TriggerType', 'TriggerCondition', 'TriggerSource']\n",
      "<scipy.io.matlab.mio5_params.mat_struct object at 0x7f33cd4866a0> ['BayerSensorAlignment', 'Brightness', 'DeviceID', 'DiskLogger', 'DiskLoggerFrameCount', 'ErrorFcn', 'EventLog', 'Exposure', 'ExposureMode', 'FrameGrabInterval', 'FrameRate', 'FrameRateMode', 'FramesAcquired', 'FramesAcquiredFcn', 'FramesAcquiredFcnCount', 'FramesAvailable', 'FramesPerTrigger', 'Gain', 'GainMode', 'InitialTriggerTime', 'Logging', 'LoggingMode', 'Name', 'NumberOfBands', 'Previewing', 'ROIPosition', 'ReturnedColorSpace', 'Running', 'Selected', 'SelectedSourceName', 'SerialNumber', 'Shutter', 'ShutterMode', 'Source', 'SourceName', 'StartFcn', 'StopFcn', 'Strobe1', 'Strobe1Delay', 'Strobe1Duration', 'Strobe1Polarity', 'Strobe2', 'Strobe2Delay', 'Strobe2Duration', 'Strobe2Polarity', 'Strobe3', 'Strobe3Delay', 'Strobe3Duration', 'Strobe3Polarity', 'Tag', 'Temperature', 'Timeout', 'TimerFcn', 'TimerPeriod', 'TriggerCondition', 'TriggerDelay', 'TriggerDelayMode', 'TriggerFcn', 'TriggerFrameDelay', 'TriggerParameter', 'TriggerRepeat', 'TriggerSource', 'TriggerType', 'TriggersExecuted', 'Type', 'UserData', 'VideoFormat', 'VideoResolution']\n"
     ]
    },
    {
     "ename": "TypeError",
     "evalue": "cannot unpack non-iterable NoneType object",
     "output_type": "error",
     "traceback": [
      "\u001b[0;31m---------------------------------------------------------------------------\u001b[0m",
      "\u001b[0;31mTypeError\u001b[0m                                 Traceback (most recent call last)",
      "\u001b[0;32m<ipython-input-141-b5a5d4cbf505>\u001b[0m in \u001b[0;36m<module>\u001b[0;34m\u001b[0m\n\u001b[0;32m----> 1\u001b[0;31m \u001b[0mfields\u001b[0m\u001b[0;34m,\u001b[0m \u001b[0mobjs\u001b[0m \u001b[0;34m=\u001b[0m \u001b[0munwrap_matfile\u001b[0m\u001b[0;34m(\u001b[0m\u001b[0mcaminfo\u001b[0m\u001b[0;34m[\u001b[0m\u001b[0;34m'cam'\u001b[0m\u001b[0;34m]\u001b[0m\u001b[0;34m,\u001b[0m \u001b[0;34m'camObj'\u001b[0m\u001b[0;34m)\u001b[0m\u001b[0;34m\u001b[0m\u001b[0;34m\u001b[0m\u001b[0m\n\u001b[0m",
      "\u001b[0;31mTypeError\u001b[0m: cannot unpack non-iterable NoneType object"
     ]
    },
    {
     "name": "stdout",
     "output_type": "stream",
     "text": [
      "> \u001b[0;32m<ipython-input-141-b5a5d4cbf505>\u001b[0m(1)\u001b[0;36m<module>\u001b[0;34m()\u001b[0m\n",
      "\u001b[0;32m----> 1 \u001b[0;31m\u001b[0mfields\u001b[0m\u001b[0;34m,\u001b[0m \u001b[0mobjs\u001b[0m \u001b[0;34m=\u001b[0m \u001b[0munwrap_matfile\u001b[0m\u001b[0;34m(\u001b[0m\u001b[0mcaminfo\u001b[0m\u001b[0;34m[\u001b[0m\u001b[0;34m'cam'\u001b[0m\u001b[0;34m]\u001b[0m\u001b[0;34m,\u001b[0m \u001b[0;34m'camObj'\u001b[0m\u001b[0;34m)\u001b[0m\u001b[0;34m\u001b[0m\u001b[0;34m\u001b[0m\u001b[0m\n",
      "\u001b[0m\n",
      "ipdb> \n"
     ]
    }
   ],
   "source": [
    "fields, objs = unwrap_matfile(caminfo['cam'], 'camObj')"
   ]
  },
  {
   "cell_type": "code",
   "execution_count": 136,
   "metadata": {},
   "outputs": [
    {
     "name": "stdout",
     "output_type": "stream",
     "text": [
      "Automatic pdb calling has been turned ON\n"
     ]
    }
   ],
   "source": [
    "%pdb"
   ]
  },
  {
   "cell_type": "code",
   "execution_count": 142,
   "metadata": {},
   "outputs": [
    {
     "data": {
      "text/plain": [
       "'Video Input'"
      ]
     },
     "execution_count": 142,
     "metadata": {},
     "output_type": "execute_result"
    }
   ],
   "source": [
    "caminfo['cam'].camObj.data"
   ]
  },
  {
   "cell_type": "code",
   "execution_count": 149,
   "metadata": {},
   "outputs": [
    {
     "data": {
      "text/plain": [
       "'Video Input'"
      ]
     },
     "execution_count": 149,
     "metadata": {},
     "output_type": "execute_result"
    }
   ],
   "source": [
    "caminfo['cam'].camObj.data.objtype"
   ]
  },
  {
   "cell_type": "code",
   "execution_count": 151,
   "metadata": {},
   "outputs": [
    {
     "name": "stdout",
     "output_type": "stream",
     "text": [
      "<scipy.io.matlab.mio5_params.mat_struct object at 0x7f33cd501be0> ['version', 'type', 'constructor', 'data', 'uddobject', 'imaqdevice']\n",
      "<scipy.io.matlab.mio5_params.mat_struct object at 0x7f33cd5014e0> ['objtype']\n"
     ]
    },
    {
     "ename": "TypeError",
     "evalue": "cannot unpack non-iterable NoneType object",
     "output_type": "error",
     "traceback": [
      "\u001b[0;31m---------------------------------------------------------------------------\u001b[0m",
      "\u001b[0;31mTypeError\u001b[0m                                 Traceback (most recent call last)",
      "\u001b[0;32m<ipython-input-151-52d3c3465744>\u001b[0m in \u001b[0;36m<module>\u001b[0;34m\u001b[0m\n\u001b[0;32m----> 1\u001b[0;31m \u001b[0mout\u001b[0m \u001b[0;34m=\u001b[0m \u001b[0munwrap_matfile\u001b[0m\u001b[0;34m(\u001b[0m\u001b[0mcaminfo\u001b[0m\u001b[0;34m[\u001b[0m\u001b[0;34m'cam'\u001b[0m\u001b[0;34m]\u001b[0m\u001b[0;34m.\u001b[0m\u001b[0mcamObj\u001b[0m\u001b[0;34m,\u001b[0m \u001b[0;34m'data'\u001b[0m\u001b[0;34m)\u001b[0m\u001b[0;34m\u001b[0m\u001b[0;34m\u001b[0m\u001b[0m\n\u001b[0m",
      "\u001b[0;32m<ipython-input-150-a3b789d924d7>\u001b[0m in \u001b[0;36munwrap_matfile\u001b[0;34m(obj, field)\u001b[0m\n\u001b[1;32m      6\u001b[0m         \u001b[0mprint\u001b[0m\u001b[0;34m(\u001b[0m\u001b[0mobj\u001b[0m\u001b[0;34m,\u001b[0m \u001b[0mfields\u001b[0m\u001b[0;34m)\u001b[0m\u001b[0;34m\u001b[0m\u001b[0;34m\u001b[0m\u001b[0m\n\u001b[1;32m      7\u001b[0m         \u001b[0;32mfor\u001b[0m \u001b[0mfield\u001b[0m \u001b[0;32min\u001b[0m \u001b[0mfields\u001b[0m\u001b[0;34m:\u001b[0m\u001b[0;34m\u001b[0m\u001b[0;34m\u001b[0m\u001b[0m\n\u001b[0;32m----> 8\u001b[0;31m             \u001b[0mret_field\u001b[0m\u001b[0;34m,\u001b[0m \u001b[0mret_obj\u001b[0m \u001b[0;34m=\u001b[0m \u001b[0munwrap_matfile\u001b[0m\u001b[0;34m(\u001b[0m\u001b[0mgetattr\u001b[0m\u001b[0;34m(\u001b[0m\u001b[0mobj\u001b[0m\u001b[0;34m,\u001b[0m \u001b[0mfield\u001b[0m\u001b[0;34m)\u001b[0m\u001b[0;34m,\u001b[0m \u001b[0mfield\u001b[0m\u001b[0;34m)\u001b[0m\u001b[0;34m\u001b[0m\u001b[0;34m\u001b[0m\u001b[0m\n\u001b[0m\u001b[1;32m      9\u001b[0m             \u001b[0;31m# ret_dict[ret_field] = ret_obj\u001b[0m\u001b[0;34m\u001b[0m\u001b[0;34m\u001b[0m\u001b[0;34m\u001b[0m\u001b[0m\n\u001b[1;32m     10\u001b[0m     \u001b[0;32melse\u001b[0m\u001b[0;34m:\u001b[0m\u001b[0;34m\u001b[0m\u001b[0;34m\u001b[0m\u001b[0m\n",
      "\u001b[0;31mTypeError\u001b[0m: cannot unpack non-iterable NoneType object"
     ]
    },
    {
     "name": "stdout",
     "output_type": "stream",
     "text": [
      "> \u001b[0;32m<ipython-input-150-a3b789d924d7>\u001b[0m(8)\u001b[0;36munwrap_matfile\u001b[0;34m()\u001b[0m\n",
      "\u001b[0;32m      6 \u001b[0;31m        \u001b[0mprint\u001b[0m\u001b[0;34m(\u001b[0m\u001b[0mobj\u001b[0m\u001b[0;34m,\u001b[0m \u001b[0mfields\u001b[0m\u001b[0;34m)\u001b[0m\u001b[0;34m\u001b[0m\u001b[0;34m\u001b[0m\u001b[0m\n",
      "\u001b[0m\u001b[0;32m      7 \u001b[0;31m        \u001b[0;32mfor\u001b[0m \u001b[0mfield\u001b[0m \u001b[0;32min\u001b[0m \u001b[0mfields\u001b[0m\u001b[0;34m:\u001b[0m\u001b[0;34m\u001b[0m\u001b[0;34m\u001b[0m\u001b[0m\n",
      "\u001b[0m\u001b[0;32m----> 8 \u001b[0;31m            \u001b[0mret_field\u001b[0m\u001b[0;34m,\u001b[0m \u001b[0mret_obj\u001b[0m \u001b[0;34m=\u001b[0m \u001b[0munwrap_matfile\u001b[0m\u001b[0;34m(\u001b[0m\u001b[0mgetattr\u001b[0m\u001b[0;34m(\u001b[0m\u001b[0mobj\u001b[0m\u001b[0;34m,\u001b[0m \u001b[0mfield\u001b[0m\u001b[0;34m)\u001b[0m\u001b[0;34m,\u001b[0m \u001b[0mfield\u001b[0m\u001b[0;34m)\u001b[0m\u001b[0;34m\u001b[0m\u001b[0;34m\u001b[0m\u001b[0m\n",
      "\u001b[0m\u001b[0;32m      9 \u001b[0;31m            \u001b[0;31m# ret_dict[ret_field] = ret_obj\u001b[0m\u001b[0;34m\u001b[0m\u001b[0;34m\u001b[0m\u001b[0;34m\u001b[0m\u001b[0m\n",
      "\u001b[0m\u001b[0;32m     10 \u001b[0;31m    \u001b[0;32melse\u001b[0m\u001b[0;34m:\u001b[0m\u001b[0;34m\u001b[0m\u001b[0;34m\u001b[0m\u001b[0m\n",
      "\u001b[0m\n",
      "ipdb> obj\n",
      "<scipy.io.matlab.mio5_params.mat_struct object at 0x7f33cd501be0>\n",
      "ipdb> field\n",
      "'data'\n",
      "ipdb> getattr(obj,field)\n",
      "<scipy.io.matlab.mio5_params.mat_struct object at 0x7f33cd5014e0>\n",
      "ipdb> dir(getattr(obj,field))\n",
      "['__class__', '__delattr__', '__dict__', '__dir__', '__doc__', '__eq__', '__format__', '__ge__', '__getattribute__', '__gt__', '__hash__', '__init__', '__init_subclass__', '__le__', '__lt__', '__module__', '__ne__', '__new__', '__reduce__', '__reduce_ex__', '__repr__', '__setattr__', '__sizeof__', '__slotnames__', '__str__', '__subclasshook__', '__weakref__', '_fieldnames', 'objtype']\n",
      "ipdb> quit()\n"
     ]
    }
   ],
   "source": [
    "out = unwrap_matfile(caminfo['cam'].camObj, 'data')"
   ]
  },
  {
   "cell_type": "code",
   "execution_count": 162,
   "metadata": {},
   "outputs": [],
   "source": [
    "def unwrap_matfile(obj, field):\n",
    "    ret_dict = {}\n",
    "    new_obj = getattr(obj, field)\n",
    "    \n",
    "    if hasattr(new_obj, '_fieldnames'):\n",
    "        fields = new_obj._fieldnames\n",
    "        # print(new_obj, fields)\n",
    "        for field in fields:\n",
    "            unwrap_matfile(new_obj, field)\n",
    "            # ret_dict[ret_field] = ret_obj\n",
    "    else:\n",
    "        print(field, new_obj)\n",
    "        return(field, new_obj)\n",
    "        # ret_dict[field] = obj\n",
    "        # print(obj)"
   ]
  },
  {
   "cell_type": "code",
   "execution_count": 166,
   "metadata": {},
   "outputs": [
    {
     "name": "stdout",
     "output_type": "stream",
     "text": [
      "objtype Video Input\n"
     ]
    }
   ],
   "source": [
    "out = unwrap_matfile(caminfo['cam'].camObj, 'data')"
   ]
  },
  {
   "cell_type": "code",
   "execution_count": 168,
   "metadata": {},
   "outputs": [
    {
     "data": {
      "text/plain": [
       "True"
      ]
     },
     "execution_count": 168,
     "metadata": {},
     "output_type": "execute_result"
    }
   ],
   "source": [
    "out is None"
   ]
  },
  {
   "cell_type": "code",
   "execution_count": 92,
   "metadata": {},
   "outputs": [
    {
     "data": {
      "text/plain": [
       "['__class__',\n",
       " '__delattr__',\n",
       " '__dict__',\n",
       " '__dir__',\n",
       " '__doc__',\n",
       " '__eq__',\n",
       " '__format__',\n",
       " '__ge__',\n",
       " '__getattribute__',\n",
       " '__gt__',\n",
       " '__hash__',\n",
       " '__init__',\n",
       " '__init_subclass__',\n",
       " '__le__',\n",
       " '__lt__',\n",
       " '__module__',\n",
       " '__ne__',\n",
       " '__new__',\n",
       " '__reduce__',\n",
       " '__reduce_ex__',\n",
       " '__repr__',\n",
       " '__setattr__',\n",
       " '__sizeof__',\n",
       " '__slotnames__',\n",
       " '__str__',\n",
       " '__subclasshook__',\n",
       " '__weakref__',\n",
       " '_fieldnames',\n",
       " 'constructor',\n",
       " 'data',\n",
       " 'imaqdevice',\n",
       " 'type',\n",
       " 'uddobject',\n",
       " 'version']"
      ]
     },
     "execution_count": 92,
     "metadata": {},
     "output_type": "execute_result"
    }
   ],
   "source": [
    "dir(caminfo['cam'].camObj)"
   ]
  },
  {
   "cell_type": "code",
   "execution_count": 90,
   "metadata": {},
   "outputs": [
    {
     "data": {
      "text/plain": [
       "['METADATA_SIZE_BYTES',\n",
       " '__class__',\n",
       " '__delattr__',\n",
       " '__dict__',\n",
       " '__dir__',\n",
       " '__doc__',\n",
       " '__eq__',\n",
       " '__format__',\n",
       " '__ge__',\n",
       " '__getattribute__',\n",
       " '__gt__',\n",
       " '__hash__',\n",
       " '__init__',\n",
       " '__init_subclass__',\n",
       " '__le__',\n",
       " '__lt__',\n",
       " '__module__',\n",
       " '__ne__',\n",
       " '__new__',\n",
       " '__reduce__',\n",
       " '__reduce_ex__',\n",
       " '__repr__',\n",
       " '__setattr__',\n",
       " '__sizeof__',\n",
       " '__slotnames__',\n",
       " '__str__',\n",
       " '__subclasshook__',\n",
       " '__weakref__',\n",
       " '_fieldnames',\n",
       " 'camObj',\n",
       " 'loggingFileID',\n",
       " 'metadata',\n",
       " 'name',\n",
       " 'size',\n",
       " 'src']"
      ]
     },
     "execution_count": 90,
     "metadata": {},
     "output_type": "execute_result"
    }
   ],
   "source": [
    "dir(caminfo['cam'])"
   ]
  },
  {
   "cell_type": "code",
   "execution_count": null,
   "metadata": {},
   "outputs": [],
   "source": [
    "def unwrap_mat(mat):\n",
    "    for entry in mat:\n",
    "        if "
   ]
  },
  {
   "cell_type": "code",
   "execution_count": 80,
   "metadata": {},
   "outputs": [
    {
     "data": {
      "text/plain": [
       "0"
      ]
     },
     "execution_count": 80,
     "metadata": {},
     "output_type": "execute_result"
    }
   ],
   "source": [
    "np.squeeze(caminfo['cam']).ndim"
   ]
  },
  {
   "cell_type": "code",
   "execution_count": 74,
   "metadata": {},
   "outputs": [
    {
     "name": "stdout",
     "output_type": "stream",
     "text": [
      "[(MatlabObject([[(array(['5.4 (R2018a)'], dtype='<U12'), array([[array(['videoinput'], dtype='<U10')]], dtype=object), array(['videoinput'], dtype='<U10'), array([[(array(['Video Input'], dtype='<U11'),)]],\n",
      "      dtype=[('objtype', 'O')]), array([[array([[1]], dtype=uint8)]], dtype=object), MatlabObject([[(array([[(array([[(array([[0]], dtype=uint8), array([[1]], dtype=uint8), array([[1]], dtype=uint8), array([], shape=(0, 0), dtype=uint8), MatlabFunction([[(array(['C:\\\\Program Files\\\\MATLAB\\\\R2018a'], dtype='<U30'), array(['\\\\'], dtype='<U1'), array(['@'], dtype='<U1'), array([[(array(['imaqcallback'], dtype='<U12'), array(['simple'], dtype='<U6'), array([], dtype='<U1'))]],\n",
      "      dtype=[('function', 'O'), ('type', 'O'), ('file', 'O')]))]],\n",
      "               dtype=[('matlabroot', 'O'), ('separator', 'O'), ('sentinel', 'O'), ('function_handle', 'O')]), array([], shape=(0, 0), dtype=uint8), array(['memory'], dtype='<U6'), array([], shape=(0, 0), dtype=uint8), array([], shape=(0, 0), dtype=uint8), array([[10]], dtype=uint8), array([], shape=(0, 0), dtype=uint8), array([[1]], dtype=uint8), array([], shape=(0, 0), dtype=uint8), array([[0]], dtype=uint8), array([[inf]]), array(['grbg'], dtype='<U4'), array([], dtype='<U1'), array(['videoinput'], dtype='<U10'), array([], shape=(0, 0), dtype=uint8), array(['grayscale'], dtype='<U9'), array([[  0,   0, 640, 512]], dtype=uint16), array(['F7_Raw8_640x512_Mode1-pointgrey-1'], dtype='<U33'), array(['Default'], dtype='<U7'), array([[array(['pointgrey'], dtype='<U9'), array([[1]], dtype=uint8),\n",
      "        array(['F7_Raw8_640x512_Mode1'], dtype='<U21')]], dtype=object), array([[209466424]], dtype=int32))]],\n",
      "      dtype=[('FramesAcquiredFcnCount', 'O'), ('FramesPerTrigger', 'O'), ('FrameGrabInterval', 'O'), ('DiskLogger', 'O'), ('ErrorFcn', 'O'), ('FramesAcquiredFcn', 'O'), ('LoggingMode', 'O'), ('StartFcn', 'O'), ('StopFcn', 'O'), ('Timeout', 'O'), ('TimerFcn', 'O'), ('TimerPeriod', 'O'), ('TriggerFcn', 'O'), ('TriggerFrameDelay', 'O'), ('TriggerRepeat', 'O'), ('BayerSensorAlignment', 'O'), ('Tag', 'O'), ('Type', 'O'), ('UserData', 'O'), ('ReturnedColorSpace', 'O'), ('ROIPosition', 'O'), ('Name', 'O'), ('SelectedSourceName', 'O'), ('ConstructorArgs', 'O'), ('ObjectGUID', 'O')]), array([[array([[(array([[1.5625]]), array([[-1]], dtype=int16), array(['Manual'], dtype='<U6'), array([[60]], dtype=uint8), array(['Manual'], dtype='<U6'), array([[8]], dtype=uint8), array(['Manual'], dtype='<U6'), array([[1]], dtype=uint8), array(['Manual'], dtype='<U6'), array(['Off'], dtype='<U3'), array([[0]], dtype=uint8), array([[0]], dtype=uint8), array(['Low'], dtype='<U3'), array(['Off'], dtype='<U3'), array([[0]], dtype=uint8), array([[0]], dtype=uint8), array(['High'], dtype='<U4'), array(['Off'], dtype='<U3'), array([[0]], dtype=uint8), array([[0]], dtype=uint8), array(['Low'], dtype='<U3'), array([], dtype='<U1'), array([[0]], dtype=uint8), array(['Manual'], dtype='<U6'), array([[1]], dtype=int32), array(['videosource'], dtype='<U11'), array([], shape=(0, 0), dtype=uint8), array([], shape=(0, 0), dtype=uint8))]],\n",
      "      dtype=[('Brightness', 'O'), ('Exposure', 'O'), ('ExposureMode', 'O'), ('FrameRate', 'O'), ('FrameRateMode', 'O'), ('Gain', 'O'), ('GainMode', 'O'), ('Shutter', 'O'), ('ShutterMode', 'O'), ('Strobe1', 'O'), ('Strobe1Delay', 'O'), ('Strobe1Duration', 'O'), ('Strobe1Polarity', 'O'), ('Strobe2', 'O'), ('Strobe2Delay', 'O'), ('Strobe2Duration', 'O'), ('Strobe2Polarity', 'O'), ('Strobe3', 'O'), ('Strobe3Delay', 'O'), ('Strobe3Duration', 'O'), ('Strobe3Polarity', 'O'), ('Tag', 'O'), ('TriggerDelay', 'O'), ('TriggerDelayMode', 'O'), ('TriggerParameter', 'O'), ('Type', 'O'), ('ConstructorArgs', 'O'), ('ObjectGUID', 'O')])]],\n",
      "      dtype=object), array([], dtype='<U1'), array([[(array(['immediate'], dtype='<U9'), array(['none'], dtype='<U4'), array(['none'], dtype='<U4'))]],\n",
      "      dtype=[('TriggerType', 'O'), ('TriggerCondition', 'O'), ('TriggerSource', 'O')]))]],\n",
      "      dtype=[('props', 'O'), ('childprops', 'O'), ('location', 'O'), ('triggerProps', 'O')]),)]],\n",
      "             dtype=[('store', 'O')]))]],\n",
      "             dtype=[('version', 'O'), ('type', 'O'), ('constructor', 'O'), ('data', 'O'), ('uddobject', 'O'), ('imaqdevice', 'O')]), MatlabOpaque([(b'', b'MCOS', b'videosource', array([[3707764736],\n",
      "       [         2],\n",
      "       [         1],\n",
      "       [         1],\n",
      "       [         1],\n",
      "       [         4]], dtype=uint32))],\n",
      "             dtype=[('s0', 'O'), ('s1', 'O'), ('s2', 'O'), ('arr', 'O')]), array([[12]], dtype=uint8), array(['eye'], dtype='<U3'), array([[(array(['grbg'], dtype='<U4'), array([[1.5625]]), array([[1]], dtype=uint8), array([], shape=(0, 0), dtype=uint8), array([[0]], dtype=uint8), MatlabFunction([[(array(['C:\\\\Program Files\\\\MATLAB\\\\R2018a'], dtype='<U30'), array(['\\\\'], dtype='<U1'), array(['@'], dtype='<U1'), array([[(array(['imaqcallback'], dtype='<U12'), array(['simple'], dtype='<U6'), array([], dtype='<U1'))]],\n",
      "      dtype=[('function', 'O'), ('type', 'O'), ('file', 'O')]))]],\n",
      "               dtype=[('matlabroot', 'O'), ('separator', 'O'), ('sentinel', 'O'), ('function_handle', 'O')]), array([], shape=(1, 0), dtype=[('Type', 'O'), ('Data', 'O')]), array([[-1]], dtype=int16), array(['Manual'], dtype='<U6'), array([[1]], dtype=uint8), array([[60]], dtype=uint8), array(['Manual'], dtype='<U6'), array([[0]], dtype=uint8), array([], shape=(0, 0), dtype=uint8), array([[0]], dtype=uint8), array([[0]], dtype=uint8), array([[1]], dtype=uint8), array([[8]], dtype=uint8), array(['Manual'], dtype='<U6'), array([], shape=(0, 0), dtype=uint8), array(['off'], dtype='<U3'), array(['memory'], dtype='<U6'), array(['F7_Raw8_640x512_Mode1-pointgrey-1'], dtype='<U33'), array([[1]], dtype=uint8), array(['off'], dtype='<U3'), array([[  0,   0, 640, 512]], dtype=uint16), array(['grayscale'], dtype='<U9'), array(['off'], dtype='<U3'), array(['on'], dtype='<U2'), array(['Default'], dtype='<U7'), array(['17278795'], dtype='<U8'), array([[1]], dtype=uint8), array(['Manual'], dtype='<U6'), MatlabOpaque([(b'', b'MCOS', b'videosource', array([[3707764736],\n",
      "       [         2],\n",
      "       [         1],\n",
      "       [         1],\n",
      "       [         1],\n",
      "       [         4]], dtype=uint32))],\n",
      "             dtype=[('s0', 'O'), ('s1', 'O'), ('s2', 'O'), ('arr', 'O')]), array(['Default'], dtype='<U7'), array([], shape=(0, 0), dtype=uint8), array([], shape=(0, 0), dtype=uint8), array(['Off'], dtype='<U3'), array([[0]], dtype=uint8), array([[0]], dtype=uint8), array(['Low'], dtype='<U3'), array(['On'], dtype='<U2'), array([[0]], dtype=uint8), array([[0]], dtype=uint8), array(['High'], dtype='<U4'), array(['Off'], dtype='<U3'), array([[0]], dtype=uint8), array([[0]], dtype=uint8), array(['Low'], dtype='<U3'), array([], dtype='<U1'), array([[310.1]]), array([[10]], dtype=uint8), array([], shape=(0, 0), dtype=uint8), array([[1]], dtype=uint8), array(['none'], dtype='<U4'), array([[0]], dtype=uint8), array(['Manual'], dtype='<U6'), array([], shape=(0, 0), dtype=uint8), array([[0]], dtype=uint8), array([[1]], dtype=int32), array([[inf]]), array(['none'], dtype='<U4'), array(['immediate'], dtype='<U9'), array([[0]], dtype=uint8), array(['videosource'], dtype='<U11'), array([], shape=(0, 0), dtype=uint8), array(['F7_Raw8_640x512_Mode1'], dtype='<U21'), array([[640, 512]], dtype=uint16))]],\n",
      "      dtype=[('BayerSensorAlignment', 'O'), ('Brightness', 'O'), ('DeviceID', 'O'), ('DiskLogger', 'O'), ('DiskLoggerFrameCount', 'O'), ('ErrorFcn', 'O'), ('EventLog', 'O'), ('Exposure', 'O'), ('ExposureMode', 'O'), ('FrameGrabInterval', 'O'), ('FrameRate', 'O'), ('FrameRateMode', 'O'), ('FramesAcquired', 'O'), ('FramesAcquiredFcn', 'O'), ('FramesAcquiredFcnCount', 'O'), ('FramesAvailable', 'O'), ('FramesPerTrigger', 'O'), ('Gain', 'O'), ('GainMode', 'O'), ('InitialTriggerTime', 'O'), ('Logging', 'O'), ('LoggingMode', 'O'), ('Name', 'O'), ('NumberOfBands', 'O'), ('Previewing', 'O'), ('ROIPosition', 'O'), ('ReturnedColorSpace', 'O'), ('Running', 'O'), ('Selected', 'O'), ('SelectedSourceName', 'O'), ('SerialNumber', 'O'), ('Shutter', 'O'), ('ShutterMode', 'O'), ('Source', 'O'), ('SourceName', 'O'), ('StartFcn', 'O'), ('StopFcn', 'O'), ('Strobe1', 'O'), ('Strobe1Delay', 'O'), ('Strobe1Duration', 'O'), ('Strobe1Polarity', 'O'), ('Strobe2', 'O'), ('Strobe2Delay', 'O'), ('Strobe2Duration', 'O'), ('Strobe2Polarity', 'O'), ('Strobe3', 'O'), ('Strobe3Delay', 'O'), ('Strobe3Duration', 'O'), ('Strobe3Polarity', 'O'), ('Tag', 'O'), ('Temperature', 'O'), ('Timeout', 'O'), ('TimerFcn', 'O'), ('TimerPeriod', 'O'), ('TriggerCondition', 'O'), ('TriggerDelay', 'O'), ('TriggerDelayMode', 'O'), ('TriggerFcn', 'O'), ('TriggerFrameDelay', 'O'), ('TriggerParameter', 'O'), ('TriggerRepeat', 'O'), ('TriggerSource', 'O'), ('TriggerType', 'O'), ('TriggersExecuted', 'O'), ('Type', 'O'), ('UserData', 'O'), ('VideoFormat', 'O'), ('VideoResolution', 'O')]), array([[  0,   0, 640, 512]], dtype=uint16), array([[3]], dtype=uint8))]\n"
     ]
    }
   ],
   "source": [
    "for entry in caminfo['cam']:\n",
    "    print(entry)"
   ]
  },
  {
   "cell_type": "code",
   "execution_count": 71,
   "metadata": {},
   "outputs": [
    {
     "data": {
      "text/plain": [
       "True"
      ]
     },
     "execution_count": 71,
     "metadata": {},
     "output_type": "execute_result"
    }
   ],
   "source": [
    "caminfo['cam'][0][0][0][0][0][0].squeeze().shape == ()"
   ]
  },
  {
   "cell_type": "code",
   "execution_count": 169,
   "metadata": {},
   "outputs": [
    {
     "data": {
      "text/plain": [
       "'/media/jim/FASTER/realsense/190329/JB042_190329_161925_eye.bin'"
      ]
     },
     "execution_count": 169,
     "metadata": {},
     "output_type": "execute_result"
    }
   ],
   "source": [
    "eyefile"
   ]
  },
  {
   "cell_type": "code",
   "execution_count": 170,
   "metadata": {},
   "outputs": [],
   "source": [
    "def read_frames_from_binary(binary_path, frame_numbers, width=640, height=512,\n",
    "                           bits_per_pixel=8, metadata_bytes=12):\n",
    "    bytes_per_pixel = bits_per_pixel/8\n",
    "    fsize = os.path.getsize(binary_path)\n",
    "    npix = width*height\n",
    "    bytes_per_frame = int(npix*bytes_per_pixel)\n",
    "    bytes_per_frame_with_metadata = int(bytes_per_frame+metadata_bytes)\n",
    "    \n",
    "    if type(frame_numbers) is not np.ndarray:\n",
    "        frame_numbers = np.array([frame_numbers])\n",
    "    \n",
    "    if bytes_per_pixel==1.0:\n",
    "        dtype = 'uint8'\n",
    "    else:\n",
    "        raise NotImplementedError('Non 8bit not implemented yet!')\n",
    "        \n",
    "    nframes = np.size(frame_numbers)\n",
    "    if nframes > 1000:\n",
    "        raise ValueError('Too many frames to read at once!')\n",
    "    \n",
    "    frames = np.zeros((height,width,nframes), dtype='uint8')\n",
    "    metadata = np.zeros((nframes,2), dtype='float64')\n",
    "    with open(binary_path, 'rb') as f:\n",
    "        \n",
    "        for i in range(np.size(frame_numbers)):\n",
    "            frame_num = frame_numbers[i].astype('uint64')\n",
    "            # print(frame_num)\n",
    "            # print(bytes_per_frame)\n",
    "            byte_start = np.uint64(frame_num*bytes_per_frame_with_metadata)\n",
    "            # print(byte_start)\n",
    "            # print(type(byte_start))\n",
    "            # the second argument is from_what, and 0 means beginning of file\n",
    "            f.seek(byte_start, 0)\n",
    "            # read the metadata from this frame\n",
    "            metadata_raw = f.read(metadata_bytes)\n",
    "            # cast the first 4 bytes to an uint32, for frame index\n",
    "            metadata[i,0] = np.frombuffer(metadata_raw[0:4], dtype='uint32')\n",
    "            # cast the next 8 bytes to a float, for an ordinal time\n",
    "            metadata[i,1] = np.frombuffer(metadata_raw[4:12], dtype='float64')\n",
    "            frame_bytes = f.read(bytes_per_frame)\n",
    "            # not sure why I have to transpose this\n",
    "            frame = np.transpose(np.frombuffer(frame_bytes, dtype=dtype).reshape(width,height,1)).astype('uint8')\n",
    "            frames[:,:,i] = frame\n",
    "    return(frames, metadata)"
   ]
  },
  {
   "cell_type": "code",
   "execution_count": 187,
   "metadata": {},
   "outputs": [],
   "source": [
    "width = 640\n",
    "height = 512\n",
    "mouse = 'JB042'\n",
    "fps = 30\n",
    "metadata_bytes=12\n",
    "bytes_per_pixel = 8/8\n",
    "fsize = os.path.getsize(eyefile)\n",
    "npix = width*height\n",
    "bytes_per_frame = int(npix*bytes_per_pixel)\n",
    "bytes_per_frame_with_metadata = int(bytes_per_frame+metadata_bytes)\n",
    "total_frames = int(fsize/bytes_per_frame_with_metadata)"
   ]
  },
  {
   "cell_type": "code",
   "execution_count": 183,
   "metadata": {},
   "outputs": [
    {
     "data": {
      "text/plain": [
       "67264.0"
      ]
     },
     "execution_count": 183,
     "metadata": {},
     "output_type": "execute_result"
    }
   ],
   "source": [
    "fsize/bytes_per_frame_with_metadata"
   ]
  },
  {
   "cell_type": "code",
   "execution_count": 175,
   "metadata": {},
   "outputs": [],
   "source": [
    "frames, metadata = read_frames_from_binary(eyefile, np.arange(0,100))"
   ]
  },
  {
   "cell_type": "code",
   "execution_count": 193,
   "metadata": {},
   "outputs": [
    {
     "data": {
      "text/plain": [
       "'/media/jim/FASTER/realsense/190329'"
      ]
     },
     "execution_count": 193,
     "metadata": {},
     "output_type": "execute_result"
    }
   ],
   "source": [
    "datadir"
   ]
  },
  {
   "cell_type": "code",
   "execution_count": 194,
   "metadata": {},
   "outputs": [],
   "source": [
    "preview = True\n",
    "save = True\n",
    "\n",
    "startind = 0\n",
    "endind = total_frames\n",
    "if preview:\n",
    "#     cv2.namedWindow('Realsense', cv2.WINDOW_AUTOSIZE)\n",
    "#     cv2.namedWindow('Flea', cv2.WINDOW_AUTOSIZE)\n",
    "    cv2.namedWindow('Eye', cv2.WINDOW_AUTOSIZE)\n",
    "    waittime = int(1000/fps)\n",
    "if save:\n",
    "    outdir = datadir\n",
    "    if not os.path.isdir(outdir):\n",
    "        os.makedirs(outdir)\n",
    "    fourcc = cv2.VideoWriter_fourcc(*'DIVX')\n",
    "    filename = '%s_eye.avi' %(mouse)\n",
    "    framesize = (width,height)\n",
    "    writer = cv2.VideoWriter(os.path.join(outdir, filename),fourcc, fps, framesize)\n",
    "try:\n",
    "    # cap = cv2.VideoCapture(movname)\n",
    "    for i in range(startind,endind):\n",
    "        t0 = time.perf_counter()\n",
    "        # ret, out = cap.read()\n",
    "        out, metadata = read_frames_from_binary(eyefile,i)\n",
    "        out = cv2.cvtColor(out, cv2.COLOR_GRAY2RGB)\n",
    "        text = '%s:%07d' %(mouse, i)\n",
    "        #         cv2.putText(out, text, (50,out.shape[0]-50),\n",
    "        #                    fontFace=cv2.FONT_HERSHEY_SIMPLEX,fontScale=1,\n",
    "        #                    color=(0,0,255),thickness=1,lineType=cv2.LINE_AA)\n",
    "        if save:\n",
    "            writer.write(out)\n",
    "\n",
    "        if preview:\n",
    "            # cv2.imshow('Realsense', r)\n",
    "            # cv2.imshow('Flea',f)\n",
    "            cv2.imshow('Eye', out)\n",
    "            elapsed = int((time.perf_counter() - t0)*1000)\n",
    "\n",
    "            key = cv2.waitKey(max([1,elapsed]))\n",
    "            if key==27:\n",
    "                print('User stopped')\n",
    "                break\n",
    "                # raise KeyboardInterrupt\n",
    "except BaseException as e:\n",
    "    print(e.message)\n",
    "finally:\n",
    "    if preview:\n",
    "        cv2.destroyAllWindows()\n",
    "    if save:\n",
    "        writer.release()"
   ]
  }
 ],
 "metadata": {
  "kernelspec": {
   "display_name": "Python 3",
   "language": "python",
   "name": "python3"
  },
  "language_info": {
   "codemirror_mode": {
    "name": "ipython",
    "version": 3
   },
   "file_extension": ".py",
   "mimetype": "text/x-python",
   "name": "python",
   "nbconvert_exporter": "python",
   "pygments_lexer": "ipython3",
   "version": "3.7.3"
  }
 },
 "nbformat": 4,
 "nbformat_minor": 2
}
