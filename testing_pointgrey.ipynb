{
 "cells": [
  {
   "cell_type": "code",
   "execution_count": 1,
   "metadata": {},
   "outputs": [],
   "source": [
    "import PySpin\n",
    "import os\n",
    "import numpy as np\n",
    "import cv2\n",
    "import matplotlib.pyplot as plt\n",
    "from datetime import datetime, timedelta\n",
    "import time"
   ]
  },
  {
   "cell_type": "code",
   "execution_count": 2,
   "metadata": {},
   "outputs": [
    {
     "name": "stdout",
     "output_type": "stream",
     "text": [
      "Library version: 1.20.0.15\n",
      "Number of cameras detected: 1\n"
     ]
    }
   ],
   "source": [
    "system = PySpin.System.GetInstance()\n",
    "version = system.GetLibraryVersion()\n",
    "print('Library version: %d.%d.%d.%d' % (version.major, version.minor, version.type, version.build))\n",
    "\n",
    "    # Retrieve list of cameras from the system\n",
    "cam_list = system.GetCameras()\n",
    "\n",
    "num_cameras = cam_list.GetSize()\n",
    "\n",
    "print('Number of cameras detected: %d' % num_cameras)"
   ]
  },
  {
   "cell_type": "code",
   "execution_count": 3,
   "metadata": {
    "scrolled": true
   },
   "outputs": [
    {
     "name": "stdout",
     "output_type": "stream",
     "text": [
      "DeviceID: 17278795\n",
      "DeviceSerialNumber: 17278795\n",
      "DeviceVendorName: Point Grey Research\n",
      "DeviceModelName: Flea3 FL3-U3-13Y3M\n",
      "DeviceType: U3V\n",
      "DeviceDisplayName: Point Grey Research Flea3 FL3-U3-13Y3M\n",
      "DeviceAccessStatus: ReadWrite\n",
      "DeviceVersion: FW:v2.7.3.00 FPGA:v2.02\n",
      "DeviceDriverVersion: PGRUSBCam.sys : 2.7.3.235\n",
      "DeviceUserID: \n",
      "DeviceIsUpdater: 0\n",
      "DeviceInstanceId: USB\\VID_1E10&PID_3300&MI_00\\7&2DB08C72&0&0000\n",
      "DeviceCurrentSpeed: SuperSpeed\n",
      "GUIXMLLocation: Device\n",
      "GUIXMLPath: Input.xml\n",
      "GenICamXMLLocation: Device\n",
      "GenICamXMLPath: \n",
      "DeviceU3VProtocol: 1\n"
     ]
    }
   ],
   "source": [
    "for i, cam in enumerate(cam_list):\n",
    "    nodemap = cam.GetTLDeviceNodeMap()\n",
    "    node_device_information = PySpin.CCategoryPtr(nodemap.GetNode('DeviceInformation'))\n",
    "    if PySpin.IsAvailable(node_device_information) and PySpin.IsReadable(node_device_information):\n",
    "            features = node_device_information.GetFeatures()\n",
    "            for feature in features:\n",
    "                node_feature = PySpin.CValuePtr(feature)\n",
    "                print('%s: %s' % (node_feature.GetName(),\n",
    "                                  node_feature.ToString() if PySpin.IsReadable(node_feature) else 'Node not readable'))\n",
    "\n",
    "    else:\n",
    "        print('Device control information not available.')"
   ]
  },
  {
   "cell_type": "code",
   "execution_count": 4,
   "metadata": {},
   "outputs": [],
   "source": [
    "for i, cam in enumerate(cam_list):\n",
    "    # Initialize camera\n",
    "    cam.Init()"
   ]
  },
  {
   "cell_type": "code",
   "execution_count": 5,
   "metadata": {},
   "outputs": [
    {
     "name": "stdout",
     "output_type": "stream",
     "text": [
      "Camera 0 acquisition mode set to continuous...\n",
      "Camera 0 serial number set to 17278795...\n",
      "Automatic exposure disabled...\n"
     ]
    }
   ],
   "source": [
    "for i, cam in enumerate(cam_list):\n",
    "\n",
    "    # Set acquisition mode to continuous\n",
    "    node_acquisition_mode = PySpin.CEnumerationPtr(cam.GetNodeMap().GetNode('AcquisitionMode'))\n",
    "    if not PySpin.IsAvailable(node_acquisition_mode) or not PySpin.IsWritable(node_acquisition_mode):\n",
    "        print('Unable to set acquisition mode to continuous (node retrieval; camera %d). Aborting... \\n' % i)\n",
    "        # return False\n",
    "\n",
    "    node_acquisition_mode_continuous = node_acquisition_mode.GetEntryByName('Continuous')\n",
    "    if not PySpin.IsAvailable(node_acquisition_mode_continuous) or not PySpin.IsReadable(\n",
    "            node_acquisition_mode_continuous):\n",
    "        print('Unable to set acquisition mode to continuous (entry \\'continuous\\' retrieval %d). \\\n",
    "        Aborting... \\n' % i)\n",
    "        # return False\n",
    "\n",
    "    acquisition_mode_continuous = node_acquisition_mode_continuous.GetValue()\n",
    "\n",
    "    node_acquisition_mode.SetIntValue(acquisition_mode_continuous)\n",
    "\n",
    "    print('Camera %d acquisition mode set to continuous...' % i)\n",
    "    # print('Camera %d started acquiring images...' % i)\n",
    "\n",
    "    # Retrieve device serial number for filename0\n",
    "    node_device_serial_number = PySpin.CStringPtr(cam.GetTLDeviceNodeMap().GetNode('DeviceSerialNumber'))\n",
    "\n",
    "    if PySpin.IsAvailable(node_device_serial_number) and PySpin.IsReadable(node_device_serial_number):\n",
    "        device_serial_number = node_device_serial_number.GetValue()\n",
    "        print('Camera %d serial number set to %s...' % (i, device_serial_number))\n",
    "    \n",
    "    \n",
    "    if cam.ExposureAuto.GetAccessMode() != PySpin.RW:\n",
    "        print('Unable to disable automatic exposure. Aborting...')\n",
    "        raise ValueError\n",
    "    cam.ExposureAuto.SetValue(PySpin.ExposureAuto_Off)\n",
    "    print('Automatic exposure disabled...')\n",
    "    \n",
    "    # Ensure desired exposure time does not exceed the maximum\n",
    "    exposure_time_to_set = 10 * 1000.0\n",
    "    exposure_time_to_set = min(cam.ExposureTime.GetMax(), exposure_time_to_set)\n",
    "    cam.ExposureTime.SetValue(exposure_time_to_set)\n",
    "    \n",
    "    cam.BinningVertical.SetValue(1)\n",
    "    # cam.BinningHorizontal.SetValue(1)"
   ]
  },
  {
   "cell_type": "code",
   "execution_count": 6,
   "metadata": {},
   "outputs": [],
   "source": [
    "cam = cam_list[0]"
   ]
  },
  {
   "cell_type": "markdown",
   "metadata": {},
   "source": [
    "# Acquire!"
   ]
  },
  {
   "cell_type": "code",
   "execution_count": 68,
   "metadata": {},
   "outputs": [],
   "source": [
    "# Begin acquiring images\n",
    "cam.BeginAcquisition()\n",
    "cv2.namedWindow('pointgrey', cv2.WINDOW_NORMAL)\n",
    "should_continue = True\n",
    "font = cv2.FONT_HERSHEY_SIMPLEX\n",
    "while should_continue:\n",
    "    image_result = cam.GetNextImage()\n",
    "    if image_result.IsIncomplete():\n",
    "        print('Image incomplete with image status %d ...' % image_result.GetImageStatus())\n",
    "        continue\n",
    "    else:\n",
    "        pass\n",
    "    \n",
    "    image_converted = image_result.Convert(PySpin.PixelFormat_Mono8, PySpin.HQ_LINEAR)\n",
    "    image_data = image_converted.GetNDArray()\n",
    "    \n",
    "    timestamp = image_result.GetTimeStamp()\n",
    "    image_result.Release()\n",
    "    \n",
    "    h, w= image_data.shape\n",
    "    out = cv2.cvtColor(image_data, cv2.COLOR_GRAY2RGB)\n",
    "    t = float(timestamp)*1e-9\n",
    "    string = '%.9f' % t\n",
    "    cv2.putText(out,string,(20,h-20), font, 1,(0,0,255),2,cv2.LINE_AA)\n",
    "    \n",
    "    cv2.imshow('pointgrey', out)\n",
    "    # should_continue = True\n",
    "    key = cv2.waitKey(1)\n",
    "    if key==27:\n",
    "        should_continue = False\n",
    "        cv2.destroyAllWindows()\n",
    "        break\n",
    "cam.EndAcquisition()"
   ]
  },
  {
   "cell_type": "code",
   "execution_count": null,
   "metadata": {},
   "outputs": [],
   "source": [
    "dir(image_result)"
   ]
  },
  {
   "cell_type": "code",
   "execution_count": null,
   "metadata": {},
   "outputs": [],
   "source": [
    "image_result = cam.GetNextImage()"
   ]
  },
  {
   "cell_type": "code",
   "execution_count": null,
   "metadata": {},
   "outputs": [],
   "source": [
    "frameid = image_result.GetFrameID()"
   ]
  },
  {
   "cell_type": "code",
   "execution_count": null,
   "metadata": {},
   "outputs": [],
   "source": [
    "timestamp = image_result.GetTimeStamp()"
   ]
  },
  {
   "cell_type": "code",
   "execution_count": null,
   "metadata": {
    "scrolled": true
   },
   "outputs": [],
   "source": [
    "datetime.fromtimestamp(timestamp*1e-9)"
   ]
  },
  {
   "cell_type": "code",
   "execution_count": null,
   "metadata": {},
   "outputs": [],
   "source": [
    "timestamp/319619333"
   ]
  },
  {
   "cell_type": "code",
   "execution_count": null,
   "metadata": {},
   "outputs": [],
   "source": [
    "node = nodemap.GetNode('Root')\n",
    "# Create category node\n",
    "node_category = PySpin.CCategoryPtr(node)\n",
    "\n",
    "# Get and print display name\n",
    "display_name = node_category.GetDisplayName()"
   ]
  },
  {
   "cell_type": "code",
   "execution_count": null,
   "metadata": {},
   "outputs": [],
   "source": [
    "for node_feature in node_category.GetFeatures():\n",
    "    print()"
   ]
  },
  {
   "cell_type": "code",
   "execution_count": 8,
   "metadata": {},
   "outputs": [],
   "source": [
    "def print_device_info(nodemap):\n",
    "    \"\"\"\n",
    "    This function prints the device information of the camera from the transport\n",
    "    layer; please see NodeMapInfo example for more in-depth comments on printing\n",
    "    device information from the nodemap.\n",
    "\n",
    "    :param nodemap: Transport layer device nodemap.\n",
    "    :type nodemap: INodeMap\n",
    "    :returns: True if successful, False otherwise.\n",
    "    :rtype: bool\n",
    "    \"\"\"\n",
    "\n",
    "    print('*** DEVICE INFORMATION ***\\n')\n",
    "\n",
    "    try:\n",
    "        result = True\n",
    "        node_device_information = PySpin.CCategoryPtr(nodemap.GetNode('DeviceInformation'))\n",
    "\n",
    "        if PySpin.IsAvailable(node_device_information) and PySpin.IsReadable(node_device_information):\n",
    "            features = node_device_information.GetFeatures()\n",
    "            for feature in features:\n",
    "                node_feature = PySpin.CValuePtr(feature)\n",
    "                print('%s: %s' % (node_feature.GetName(),\n",
    "                                  node_feature.ToString() if PySpin.IsReadable(node_feature) else 'Node not readable'))\n",
    "\n",
    "        else:\n",
    "            print('Device control information not available.')\n",
    "\n",
    "    except PySpin.SpinnakerException as ex:\n",
    "        print('Error: %s' % ex)\n",
    "        return False\n",
    "\n",
    "    return result"
   ]
  },
  {
   "cell_type": "code",
   "execution_count": 9,
   "metadata": {},
   "outputs": [
    {
     "name": "stdout",
     "output_type": "stream",
     "text": [
      "*** DEVICE INFORMATION ***\n",
      "\n",
      "DeviceID: 17278795\n",
      "DeviceSerialNumber: 17278795\n",
      "DeviceVendorName: Point Grey Research\n",
      "DeviceModelName: Flea3 FL3-U3-13Y3M\n",
      "DeviceType: U3V\n",
      "DeviceDisplayName: Point Grey Research Flea3 FL3-U3-13Y3M\n",
      "DeviceAccessStatus: ReadWrite\n",
      "DeviceVersion: FW:v2.7.3.00 FPGA:v2.02\n",
      "DeviceDriverVersion: PGRUSBCam.sys : 2.7.3.235\n",
      "DeviceUserID: \n",
      "DeviceIsUpdater: 0\n",
      "DeviceInstanceId: USB\\VID_1E10&PID_3300&MI_00\\7&2DB08C72&0&0000\n",
      "DeviceCurrentSpeed: SuperSpeed\n",
      "GUIXMLLocation: Device\n",
      "GUIXMLPath: Input.xml\n",
      "GenICamXMLLocation: Device\n",
      "GenICamXMLPath: \n",
      "DeviceU3VProtocol: 1\n"
     ]
    }
   ],
   "source": [
    "res = print_device_info(nodemap)"
   ]
  },
  {
   "cell_type": "code",
   "execution_count": 11,
   "metadata": {},
   "outputs": [],
   "source": [
    "def print_value_node(node, level):\n",
    "    \"\"\"\n",
    "    Retrieves and prints the display name and value of all node types as value nodes.\n",
    "    A value node is a general node type that allows for the reading and writing of any node type as a string.\n",
    "\n",
    "    :param node: Node to get information from.\n",
    "    :type node: INode\n",
    "    :param level: Depth to indent output.\n",
    "    :type level: int\n",
    "    :return: True if successful, False otherwise.\n",
    "    :rtype: bool\n",
    "    \"\"\"\n",
    "    try:\n",
    "        result = True\n",
    "\n",
    "        # Create value node\n",
    "        node_value = PySpin.CValuePtr(node)\n",
    "\n",
    "        # Retrieve display name\n",
    "        #\n",
    "        # *** NOTES ***\n",
    "        # A node's 'display name' is generally more appropriate for output and\n",
    "        # user interaction whereas its 'name' is what the camera understands.\n",
    "        # Generally, its name is the same as its display name but without\n",
    "        # spaces - for instance, the name of the node that houses a camera's\n",
    "        # serial number is 'DeviceSerialNumber' while its display name is\n",
    "        # 'Device Serial Number'.\n",
    "        display_name = node_value.GetDisplayName()\n",
    "\n",
    "        # Retrieve value of any node type as string\n",
    "        #\n",
    "        # *** NOTES ***\n",
    "        # Because value nodes return any node type as a string, it can be much\n",
    "        # easier to deal with nodes as value nodes rather than their actual\n",
    "        # individual types.\n",
    "        value = node_value.ToString()\n",
    "\n",
    "        # Cap length at MAX_CHARS\n",
    "        value = value[:MAX_CHARS] + '...' if len(value) > MAX_CHARS else value\n",
    "\n",
    "        # Print value\n",
    "        print_with_indent(level, '%s: %s' % (display_name, value))\n",
    "\n",
    "    except PySpin.SpinnakerException as ex:\n",
    "        print('Error: %s' % ex)\n",
    "        return False\n",
    "\n",
    "    return result\n",
    "\n",
    "def print_with_indent(level, text):\n",
    "    \"\"\"\n",
    "    Helper function for printing a string prefix with a specifc number of indents.\n",
    "    :param level: Number of indents to generate\n",
    "    :type level: int\n",
    "    :param text: String to print after indent\n",
    "    :type text: str\n",
    "    \"\"\"\n",
    "    ind = ''\n",
    "    for i in range(level):\n",
    "        ind += '    '\n",
    "    print('%s%s' % (ind, text))\n",
    "    \n",
    "def print_category_node_and_all_features(node, level):\n",
    "    \"\"\"\n",
    "    This function retrieves and prints out the display name of a category node\n",
    "    before printing all child nodes. Child nodes that are also category nodes are\n",
    "    printed recursively.\n",
    "\n",
    "    :param node: Category node to get information from.\n",
    "    :type node: INode\n",
    "    :param level: Depth to indent output.\n",
    "    :type level: int\n",
    "    :return: True if successful, False otherwise.\n",
    "    :rtype: bool\n",
    "    \"\"\"\n",
    "    try:\n",
    "        result = True\n",
    "\n",
    "        # Create category node\n",
    "        node_category = PySpin.CCategoryPtr(node)\n",
    "\n",
    "        # Get and print display name\n",
    "        display_name = node_category.GetDisplayName()\n",
    "        print_with_indent(level, display_name)\n",
    "\n",
    "        # Retrieve and iterate through all children\n",
    "        #\n",
    "        # *** NOTES ***\n",
    "        # The two nodes that typically have children are category nodes and\n",
    "        # enumeration nodes. Throughout the examples, the children of category nodes\n",
    "        # are referred to as features while the children of enumeration nodes are\n",
    "        # referred to as entries. Keep in mind that enumeration nodes can be cast as\n",
    "        # category nodes, but category nodes cannot be cast as enumerations.\n",
    "        for node_feature in node_category.GetFeatures():\n",
    "\n",
    "            # Ensure node is available and readable\n",
    "            if not PySpin.IsAvailable(node_feature) or not PySpin.IsReadable(node_feature):\n",
    "                continue\n",
    "            \n",
    "            # Category nodes must be dealt with separately in order to retrieve subnodes recursively.\n",
    "            if node_feature.GetPrincipalInterfaceType() == PySpin.intfICategory:\n",
    "                result &= print_category_node_and_all_features(node_feature, level + 1)\n",
    "\n",
    "            # Cast all non-category nodes as value nodes\n",
    "            #\n",
    "            # *** NOTES ***\n",
    "            # If dealing with a variety of node types and their values, it may be\n",
    "            # simpler to cast them as value nodes rather than as their individual types.\n",
    "            # However, with this increased ease-of-use, functionality is sacrificed.\n",
    "            elif CHOSEN_READ == ReadType.VALUE:\n",
    "                result &= print_value_node(node_feature, level + 1)\n",
    "\n",
    "            # Cast all non-category nodes as actual types\n",
    "            elif CHOSEN_READ == ReadType.INDIVIDUAL:\n",
    "                if node_feature.GetPrincipalInterfaceType() == PySpin.intfIString:\n",
    "                    result &= print_string_node(node_feature, level + 1)\n",
    "                elif node_feature.GetPrincipalInterfaceType() == PySpin.intfIInteger:\n",
    "                    result &= print_integer_node(node_feature, level + 1)\n",
    "                elif node_feature.GetPrincipalInterfaceType() == PySpin.intfIFloat:\n",
    "                    result &= print_float_node(node_feature, level + 1)\n",
    "                elif node_feature.GetPrincipalInterfaceType() == PySpin.intfIBoolean:\n",
    "                    result &= print_boolean_node(node_feature, level + 1)\n",
    "                elif node_feature.GetPrincipalInterfaceType() == PySpin.intfICommand:\n",
    "                    result &= print_command_node(node_feature, level + 1)\n",
    "                elif node_feature.GetPrincipalInterfaceType() == PySpin.intfIEnumeration:\n",
    "                    result &= print_enumeration_node_and_current_entry(node_feature, level + 1)\n",
    "\n",
    "        print('')\n",
    "\n",
    "    except PySpin.SpinnakerException as ex:\n",
    "        print('Error: %s' % ex)\n",
    "        return False\n",
    "\n",
    "    return result"
   ]
  },
  {
   "cell_type": "code",
   "execution_count": 12,
   "metadata": {},
   "outputs": [],
   "source": [
    "class ReadType:\n",
    "    \"\"\"\n",
    "    Use the following constants to determine whether nodes are read\n",
    "    as Value nodes or their individual types.\n",
    "    \"\"\"\n",
    "    VALUE = 0,\n",
    "    INDIVIDUAL = 1\n",
    "\n",
    "CHOSEN_READ = ReadType.VALUE"
   ]
  },
  {
   "cell_type": "code",
   "execution_count": 13,
   "metadata": {},
   "outputs": [
    {
     "name": "stdout",
     "output_type": "stream",
     "text": [
      "Root\n",
      "AnalogControl\n",
      "DeviceControl\n",
      "AcquisitionControl\n",
      "ImageFormatControl\n",
      "UserSetControl\n",
      "DigitalIOControl\n",
      "TransportLayerControl\n",
      "ChunkDataControl\n"
     ]
    }
   ],
   "source": [
    "MAX_CHARS = 72\n",
    "level = 0\n",
    "\n",
    "cam.Init()\n",
    "nodemap = cam.GetNodeMap()\n",
    "\n",
    "node = nodemap.GetNode('Root')\n",
    "\n",
    "# res = print_value_node(node, level)\n",
    "\n",
    "# Create category node\n",
    "node_category = PySpin.CCategoryPtr(node)\n",
    "\n",
    "# Get and print display name\n",
    "display_name = node_category.GetDisplayName()\n",
    "print_with_indent(level, display_name)\n",
    "\n",
    "result = True\n",
    "\n",
    "for node_feature in node_category.GetFeatures():\n",
    "    #     if node_feature.GetPrincipalInterfaceType() == PySpin.intfICategory:\n",
    "    #         result &= print_category_node_and_all_features(node_feature, level + 1)\n",
    "    #     else:\n",
    "    #         result &= print_value_node(node_feature, level + 1)\n",
    "    # result &= print_value_node(node_feature, level+1)\n",
    "    node_value = PySpin.CValuePtr(node_feature)\n",
    "    name = node_value.GetName()\n",
    "    print(name)"
   ]
  },
  {
   "cell_type": "code",
   "execution_count": 14,
   "metadata": {},
   "outputs": [],
   "source": [
    "for node_feature in node_category.GetFeatures():\n",
    "    node_value = PySpin.CValuePtr(node_feature)\n",
    "    name = node_value.GetName()\n",
    "    if name == 'AcquisitionControl':\n",
    "        control_node = node_value\n",
    "        control_feature = node_feature"
   ]
  },
  {
   "cell_type": "code",
   "execution_count": 15,
   "metadata": {
    "scrolled": true
   },
   "outputs": [],
   "source": [
    "node_category = PySpin.CCategoryPtr(control_feature)"
   ]
  },
  {
   "cell_type": "code",
   "execution_count": 16,
   "metadata": {},
   "outputs": [
    {
     "name": "stdout",
     "output_type": "stream",
     "text": [
      "TriggerSelector\n",
      "TriggerMode\n",
      "TriggerSoftware\n",
      "TriggerSource\n",
      "TriggerActivation\n",
      "TriggerDelay\n",
      "TriggerDelayEnabled\n",
      "ExposureMode\n",
      "ExposureAuto\n",
      "ExposureTime\n",
      "ExposureTimeAbs\n",
      "AutoExposureTimeLowerLimit\n",
      "AutoExposureTimeUpperLimit\n",
      "AcquisitionMode\n",
      "AcquisitionStart\n",
      "AcquisitionStop\n",
      "AcquisitionFrameRateAuto\n",
      "AcquisitionFrameRateEnabled\n",
      "AcquisitionFrameRate\n",
      "AcquisitionFrameCount\n"
     ]
    }
   ],
   "source": [
    "for node_feature in node_category.GetFeatures():\n",
    "    node_value = PySpin.CValuePtr(node_feature)\n",
    "    name = node_value.GetName()\n",
    "    print(name)\n",
    "    #     if name =='BinningHorizontal':\n",
    "    #         control_node = node_value\n",
    "    #         control_feature = node_feature\n",
    "    # result &= print_value_node(node_feature, level + 1)"
   ]
  },
  {
   "cell_type": "code",
   "execution_count": 76,
   "metadata": {},
   "outputs": [],
   "source": [
    "def set_value(nodemap, nodename, value):\n",
    "    try:\n",
    "        node = nodemap.GetNode(nodename)\n",
    "        nodetype = node.GetPrincipalInterfaceType()\n",
    "\n",
    "        nodeval, typestring = get_nodeval_and_type(node)\n",
    "\n",
    "        assert(PySpin.IsWritable(nodeval))\n",
    "\n",
    "        if typestring == 'int' or typestring == 'float':\n",
    "            assert(value <= nodeval.GetMax() and value >= nodeval.GetMin())\n",
    "        if typestring == 'int':\n",
    "            assert(type(value)==int)\n",
    "            if PySpin.IsAvailable(nodeval) and PySpin.IsWritable(nodeval):\n",
    "                nodeval.SetValue(value)\n",
    "            else:\n",
    "                raise ValueError('Node not writable or available: %s' %nodename)\n",
    "\n",
    "        elif typestring == 'float':\n",
    "            assert(type(value)==float)\n",
    "            if PySpin.IsAvailable(nodeval) and PySpin.IsWritable(nodeval):\n",
    "                nodeval.SetValue(value)\n",
    "            else:\n",
    "                raise ValueError('Node not writable or available: %s' %nodename)\n",
    "        elif typestring == 'enum':\n",
    "            assert(type(value)==str)\n",
    "\n",
    "            entry = nodeval.GetEntryByName(value)\n",
    "\n",
    "            if entry is None:\n",
    "                print('Valid entries: ')\n",
    "                entrylist = nodeval.GetEntries()\n",
    "                for entry in entrylist:\n",
    "                    print(entry.GetName())\n",
    "                raise ValueError('Invalid entry!: %s' %value)\n",
    "            else:\n",
    "                entry = PySpin.CEnumEntryPtr(entry)\n",
    "            if PySpin.IsAvailable(entry) and PySpin.IsReadable(entry):\n",
    "                nodeval.SetIntValue(entry.GetValue())\n",
    "            else:\n",
    "                raise ValueError('Entry not readable!')\n",
    "            # PySpin.CEnumEntryPtr\n",
    "        elif typestring == 'bool':\n",
    "            assert(type(value)==bool)\n",
    "            if PySpin.IsAvailable(nodeval) and PySpin.IsWritable(nodeval):\n",
    "                nodeval.SetValue(value)\n",
    "            else:\n",
    "                raise ValueError('Node not writable or available: %s' %nodename)\n",
    "    except PySpin.SpinnakerException as e:\n",
    "        raise ValueError('Error: %s' %e)"
   ]
  },
  {
   "cell_type": "code",
   "execution_count": 74,
   "metadata": {},
   "outputs": [],
   "source": [
    "def turn_strobe_on(nodemap, line, strobe_duration=0.0):\n",
    "    assert(type(line)==int)\n",
    "    assert(type(strobe_duration)==float)\n",
    "    \n",
    "    linestr = 'Line%d'%line\n",
    "    \n",
    "    # set the line selector to this line so that we change the following\n",
    "    # values for Line2, for example, not Line0\n",
    "    set_value(nodemap, 'LineSelector', linestr)\n",
    "    # one of input, trigger, strobe, output\n",
    "    set_value(nodemap, 'LineMode', 'Strobe')\n",
    "    # enable strobe\n",
    "    set_value(nodemap, 'StrobeEnabled', True)\n",
    "    # set duration, in us I think?\n",
    "    set_value(nodemap, 'StrobeDuration', strobe_duration)\n",
    "    # inverted means low by default, high when strobe is on\n",
    "    set_value(nodemap, 'LineInverter', True)"
   ]
  },
  {
   "cell_type": "code",
   "execution_count": 90,
   "metadata": {},
   "outputs": [],
   "source": [
    "def print_value(nodemap, nodename):\n",
    "    assert(type(nodename)==str)\n",
    "    node = nodemap.GetNode(nodename)\n",
    "    nodeval, typestring = get_nodeval_and_type(node)\n",
    "    if typestring == 'enum':\n",
    "        # GetCurrentEntry\n",
    "        print(nodename, typestring, nodeval.ToString())\n",
    "    else:\n",
    "        print(nodename, typestring, nodeval.GetValue())"
   ]
  },
  {
   "cell_type": "code",
   "execution_count": 95,
   "metadata": {},
   "outputs": [
    {
     "name": "stdout",
     "output_type": "stream",
     "text": [
      "BinningVertical int 1\n"
     ]
    }
   ],
   "source": [
    "print_value(nodemap, 'BinningVertical')"
   ]
  },
  {
   "cell_type": "code",
   "execution_count": 75,
   "metadata": {},
   "outputs": [],
   "source": [
    "def get_nodeval_and_type(node):\n",
    "    nodetype = node.GetPrincipalInterfaceType()\n",
    "    if nodetype== PySpin.intfIString:\n",
    "        nodeval = PySpin.CStringPtr(node)\n",
    "        typestring = 'string'\n",
    "    elif nodetype== PySpin.intfIInteger:\n",
    "        nodeval = PySpin.CIntegerPtr(node)\n",
    "        typestring = 'int'\n",
    "    elif nodetype== PySpin.intfIFloat:\n",
    "        nodeval = PySpin.CFloatPtr(node)\n",
    "        typestring = 'float'\n",
    "    elif nodetype== PySpin.intfIBoolean:\n",
    "        nodeval = PySpin.CBooleanPtr(node)\n",
    "        typestring = 'bool'\n",
    "    elif nodetype == PySpin.intfIEnumeration:\n",
    "        nodeval = PySpin.CEnumerationPtr(node)\n",
    "        typestring = 'enum'\n",
    "    elif nodetype == PySpin.intfICommand:\n",
    "        nodeval = PySpin.CCommandPtr(node)\n",
    "        typestring = 'command'\n",
    "    else:\n",
    "        raise ValueError('Invalid node type: %s' %nodetype)\n",
    "        \n",
    "    return(nodeval, typestring)"
   ]
  },
  {
   "cell_type": "code",
   "execution_count": 97,
   "metadata": {},
   "outputs": [],
   "source": [
    "set_value(nodemap, 'AcquisitionMode', 'Continuous')\n",
    "set_value(nodemap, 'ExposureAuto', 'Off')\n",
    "# note, can't change horizontal, but changing vertical\n",
    "# changes horizontal automatically\n",
    "set_value(nodemap, 'BinningVertical', 2)\n",
    "\n",
    "set_value(nodemap, 'Height', 512)\n",
    "set_value(nodemap, 'Width', 640)\n",
    "set_value(nodemap, 'OffsetX', 0)\n",
    "set_value(nodemap, 'OffsetY', 0)\n",
    "set_value(nodemap, 'PixelFormat', 'Mono8')\n",
    "set_value(nodemap, 'AcquisitionFrameRate', 60.0)\n",
    "\n",
    "set_value(nodemap, 'ExposureTime', 1*1000.0) #  in us\n",
    "set_value(nodemap, 'GainAuto', 'Off') \n",
    "set_value(nodemap, 'Gain', 10.0)\n",
    "\n",
    "set_value(nodemap, 'SharpnessAuto', 'Off') "
   ]
  },
  {
   "cell_type": "code",
   "execution_count": null,
   "metadata": {},
   "outputs": [],
   "source": [
    "cam.DeInit()\n",
    "\n",
    "# Clear camera list before releasing system\n",
    "cam_list.Clear()\n",
    "\n",
    "# Release system instance\n",
    "system.ReleaseInstance()"
   ]
  },
  {
   "cell_type": "code",
   "execution_count": null,
   "metadata": {},
   "outputs": [],
   "source": []
  }
 ],
 "metadata": {
  "kernelspec": {
   "display_name": "Python 3",
   "language": "python",
   "name": "python3"
  },
  "language_info": {
   "codemirror_mode": {
    "name": "ipython",
    "version": 3
   },
   "file_extension": ".py",
   "mimetype": "text/x-python",
   "name": "python",
   "nbconvert_exporter": "python",
   "pygments_lexer": "ipython3",
   "version": "3.6.8"
  }
 },
 "nbformat": 4,
 "nbformat_minor": 2
}
