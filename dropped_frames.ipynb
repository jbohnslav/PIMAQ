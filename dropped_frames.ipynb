{
 "cells": [
  {
   "cell_type": "code",
   "execution_count": 1,
   "metadata": {},
   "outputs": [],
   "source": [
    "import h5py\n",
    "import os\n",
    "import matplotlib.pyplot as plt\n",
    "import numpy as np"
   ]
  },
  {
   "cell_type": "code",
   "execution_count": 4,
   "metadata": {},
   "outputs": [],
   "source": [
    "datadir = r'D:\\DATA\\JB\\realsense\\testing_preview_dontsaveimages_192919_132900'\n",
    "files = os.listdir(datadir)\n",
    "files.sort()\n",
    "files = [os.path.join(datadir, i) for i in files if i.endswith('.h5')]"
   ]
  },
  {
   "cell_type": "code",
   "execution_count": 7,
   "metadata": {},
   "outputs": [
    {
     "name": "stdout",
     "output_type": "stream",
     "text": [
      "left_ant.h5:0.017135\n"
     ]
    }
   ],
   "source": [
    "file = files[0]\n",
    "with h5py.File(file, 'r') as f:\n",
    "    framecounts = f['framecount'][:]\n",
    "    dropped_p = (np.diff(framecounts)>1.5).sum()/(framecounts.size-1)\n",
    "    print('%s:%.6f' %(os.path.basename(file), \n",
    "                     dropped_p))\n",
    "    # print(len(f['timestamp']))"
   ]
  },
  {
   "cell_type": "code",
   "execution_count": null,
   "metadata": {},
   "outputs": [],
   "source": []
  }
 ],
 "metadata": {
  "kernelspec": {
   "display_name": "Python 3",
   "language": "python",
   "name": "python3"
  },
  "language_info": {
   "codemirror_mode": {
    "name": "ipython",
    "version": 3
   },
   "file_extension": ".py",
   "mimetype": "text/x-python",
   "name": "python",
   "nbconvert_exporter": "python",
   "pygments_lexer": "ipython3",
   "version": "3.6.8"
  }
 },
 "nbformat": 4,
 "nbformat_minor": 2
}
