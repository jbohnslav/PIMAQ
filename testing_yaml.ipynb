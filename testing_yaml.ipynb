{
 "cells": [
  {
   "cell_type": "code",
   "execution_count": 2,
   "metadata": {},
   "outputs": [],
   "source": [
    "import yaml\n",
    "import os"
   ]
  },
  {
   "cell_type": "code",
   "execution_count": 9,
   "metadata": {},
   "outputs": [],
   "source": [
    "if os.path.isfile('config_example.yaml'):\n",
    "    with open('config_example.yaml') as f:\n",
    "        config = yaml.load(f, Loader=yaml.SafeLoader)"
   ]
  },
  {
   "cell_type": "code",
   "execution_count": 10,
   "metadata": {},
   "outputs": [
    {
     "data": {
      "text/plain": [
       "{'experimenter': 'Jim',\n",
       " 'savedir': '/media/jim/FASTER/realsense',\n",
       " 'cams': {'left_ant': {'type': 'Realsense',\n",
       "   'master': False,\n",
       "   'serial': 817412071174},\n",
       "  'left_post': {'type': 'Realsense', 'master': False, 'serial': 817412070989},\n",
       "  'right_ant': {'type': 'Realsense', 'master': False, 'serial': 832112070808},\n",
       "  'right_post': {'type': 'Realsense', 'master': True, 'serial': 830112071475},\n",
       "  'eye': {'type': 'PointGrey', 'master': False, 'serial': 17278795}}}"
      ]
     },
     "execution_count": 10,
     "metadata": {},
     "output_type": "execute_result"
    }
   ],
   "source": [
    "config"
   ]
  }
 ],
 "metadata": {
  "kernelspec": {
   "display_name": "Python 3",
   "language": "python",
   "name": "python3"
  },
  "language_info": {
   "codemirror_mode": {
    "name": "ipython",
    "version": 3
   },
   "file_extension": ".py",
   "mimetype": "text/x-python",
   "name": "python",
   "nbconvert_exporter": "python",
   "pygments_lexer": "ipython3",
   "version": "3.7.3"
  }
 },
 "nbformat": 4,
 "nbformat_minor": 2
}
