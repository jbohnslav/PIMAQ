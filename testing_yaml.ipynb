{
 "cells": [
  {
   "cell_type": "code",
   "execution_count": 2,
   "metadata": {},
   "outputs": [],
   "source": [
    "import yaml\n",
    "import os"
   ]
  },
  {
   "cell_type": "code",
   "execution_count": 17,
   "metadata": {},
   "outputs": [],
   "source": [
    "if os.path.isfile('config_example.yaml'):\n",
    "    with open('config_example.yaml') as f:\n",
    "        config = yaml.load(f, Loader=yaml.SafeLoader)"
   ]
  },
  {
   "cell_type": "code",
   "execution_count": 22,
   "metadata": {},
   "outputs": [
    {
     "name": "stdout",
     "output_type": "stream",
     "text": [
      "left_ant {'type': 'Realsense', 'master': False, 'serial': 817412071174}\n",
      "left_post {'type': 'Realsense', 'master': False, 'serial': 817412070989}\n",
      "right_ant {'type': 'Realsense', 'master': False, 'serial': 832112070808}\n",
      "right_post {'type': 'Realsense', 'master': True, 'serial': 830112071475}\n",
      "eye {'type': 'PointGrey', 'master': False, 'serial': 17278795, 'options': {'AcquisitionMode': 'Continuous', 'ExposureAuto': 'Off', 'ExposureTime': 1000.0, 'BinningVertical': 2, 'Height': 512, 'Width': 640, 'OffsetX': 0, 'OffsetY': 0, 'PixelFormat': 'Mono8', 'AcquisitionFrameRate': 60.0, 'GainAuto': 'Off', 'Gain': 10.0, 'SharpnessAuto': 'Off'}, 'strobe': {'line': 2, 'duration': 0.0}}\n"
     ]
    }
   ],
   "source": [
    "for camname, cam in config['cams'].items():\n",
    "    print(camname, cam)"
   ]
  },
  {
   "cell_type": "code",
   "execution_count": 28,
   "metadata": {},
   "outputs": [],
   "source": [
    "output = yaml.dump(config, default_flow_style=False,sort_keys=False)"
   ]
  },
  {
   "cell_type": "code",
   "execution_count": 30,
   "metadata": {},
   "outputs": [
    {
     "data": {
      "text/plain": [
       "dict"
      ]
     },
     "execution_count": 30,
     "metadata": {},
     "output_type": "execute_result"
    }
   ],
   "source": [
    "type(config)"
   ]
  },
  {
   "cell_type": "code",
   "execution_count": 35,
   "metadata": {},
   "outputs": [
    {
     "name": "stdout",
     "output_type": "stream",
     "text": [
      "AcquisitionMode Continuous\n",
      "ExposureAuto Off\n",
      "ExposureTime 1000.0\n",
      "BinningVertical 2\n",
      "Height 512\n",
      "Width 640\n",
      "OffsetX 0\n",
      "OffsetY 0\n",
      "PixelFormat Mono8\n",
      "AcquisitionFrameRate 60.0\n",
      "GainAuto Off\n",
      "Gain 10.0\n",
      "SharpnessAuto Off\n"
     ]
    }
   ],
   "source": [
    "for key, value in config['cams']['eye']['options'].items():\n",
    "    print(key,value)"
   ]
  },
  {
   "cell_type": "code",
   "execution_count": 39,
   "metadata": {},
   "outputs": [],
   "source": [
    "# Note: modify these at your own risk! Don't change the order!\n",
    "  # many have dependencies that are hard to figure out, so the order matters.\n",
    "  # For example, ExposureAuto must be set to Off before ExposureTime can be changed. \n",
    "blah = {\n",
    "      'AcquisitionMode': 'Continuous', # can capture one frame or multiple frames as well\n",
    "      'ExposureAuto': 'Off', # manually set exposure\n",
    "      'ExposureTime': 1000.0, # in microseconds, so 1000 = 1ms\n",
    "      # this downsamples image in half, enabling faster framerates\n",
    "      # it's not possible to change BinningHorizontal, but it is automatically changed by changing\n",
    "      # BinningVertical\n",
    "      'BinningVertical': 2, \n",
    "      'Height': 512, # max 1024 if Binning=1, else 512\n",
    "      'Width': 640, # max 1280 if Binning=1, else 640\n",
    "      'OffsetX': 0, # left value of ROI\n",
    "      'OffsetY': 0, # right value of ROI\n",
    "      'PixelFormat': 'Mono8',\n",
    "      'AcquisitionFrameRate': 60.0,\n",
    "      'GainAuto': 'Off',\n",
    "      'Gain': 10.0,\n",
    "      'SharpnessAuto': 'Off'}"
   ]
  },
  {
   "cell_type": "code",
   "execution_count": 42,
   "metadata": {},
   "outputs": [
    {
     "data": {
      "text/plain": [
       "True"
      ]
     },
     "execution_count": 42,
     "metadata": {},
     "output_type": "execute_result"
    }
   ],
   "source": [
    "(self,serial,\n",
    "                 start_t=None,height=None,width=None,save=False,savedir=None,experiment=None, name=None,\n",
    "        movie_format='opencv',metadata_format='hdf5', uncompressed=False,preview=False,verbose=False,options=None,\n",
    "        strobe=None)"
   ]
  },
  {
   "cell_type": "code",
   "execution_count": null,
   "metadata": {},
   "outputs": [],
   "source": [
    "(self,serial,\n",
    "                 start_t=None,\n",
    " height=None,\n",
    " width=None,\n",
    " save=False,\n",
    " savedir=None,\n",
    " experiment=None, \n",
    " name=None,\n",
    "movie_format='hdf5',metadata_format='hdf5', uncompressed=False,preview=False,verbose=False,options=None, \n",
    "        master=False)"
   ]
  }
 ],
 "metadata": {
  "kernelspec": {
   "display_name": "Python 3",
   "language": "python",
   "name": "python3"
  },
  "language_info": {
   "codemirror_mode": {
    "name": "ipython",
    "version": 3
   },
   "file_extension": ".py",
   "mimetype": "text/x-python",
   "name": "python",
   "nbconvert_exporter": "python",
   "pygments_lexer": "ipython3",
   "version": "3.7.3"
  }
 },
 "nbformat": 4,
 "nbformat_minor": 2
}
