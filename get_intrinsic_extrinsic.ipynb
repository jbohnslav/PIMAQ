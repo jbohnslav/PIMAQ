{
 "cells": [
  {
   "cell_type": "code",
   "execution_count": 6,
   "metadata": {},
   "outputs": [],
   "source": [
    "import pyrealsense2 as rs\n",
    "import numpy as np\n",
    "import cv2\n",
    "import time\n",
    "import matplotlib.pyplot as plt\n",
    "import h5py\n",
    "import os\n",
    "import argparse\n",
    "import multiprocessing as mp\n",
    "import yaml\n",
    "import warnings\n",
    "from queue import LifoQueue\n",
    "from threading import Thread\n",
    "\n",
    "datadir = r'D:\\DATA\\JB\\realsense'\n",
    "name = 'front_right_JB043'\n",
    "preview = True\n",
    "save = False\n",
    "master = '830112071475'\n",
    "verbose = True"
   ]
  },
  {
   "cell_type": "code",
   "execution_count": 2,
   "metadata": {},
   "outputs": [],
   "source": [
    "def enumerate_connected_devices(context):\n",
    "    \"\"\"\n",
    "    Enumerate the connected Intel RealSense devices\n",
    "    Parameters:\n",
    "    -----------\n",
    "    context           : rs.context()\n",
    "                         The context created for using the realsense library\n",
    "    Return:\n",
    "    -----------\n",
    "    connect_device : array\n",
    "                       Array of enumerated devices which are connected to the PC\n",
    "    \"\"\"\n",
    "    connect_device = []\n",
    "    for d in context.devices:\n",
    "        if d.get_info(rs.camera_info.name).lower() != 'platform camera':\n",
    "            connect_device.append(d.get_info(rs.camera_info.serial_number))\n",
    "    return connect_device"
   ]
  },
  {
   "cell_type": "code",
   "execution_count": 51,
   "metadata": {},
   "outputs": [
    {
     "name": "stdout",
     "output_type": "stream",
     "text": [
      "Serials:  ['817412070989', '830112071475', '817412071174', '832112070808']\n",
      "{'830112071475': 'right_post', '817412070989': 'left_post', '832112070808': 'right_ant', '817412071174': 'left_ant'}\n"
     ]
    }
   ],
   "source": [
    "serials = enumerate_connected_devices(rs.context())\n",
    "if verbose:\n",
    "    print('Serials: ', serials)\n",
    "assert(master in serials)\n",
    "if os.path.isfile('serials.yaml'):\n",
    "    with open('serials.yaml') as f:\n",
    "        serial_dict = yaml.load(f, Loader=yaml.SafeLoader)\n",
    "else:\n",
    "    warnings.Warn('Need to create a lookup table for matching serial numbers with names.')\n",
    "    serial_dict = {}\n",
    "    for serial in serials:\n",
    "        serial_dict[serial] = None\n"
   ]
  },
  {
   "cell_type": "code",
   "execution_count": 53,
   "metadata": {},
   "outputs": [
    {
     "name": "stdout",
     "output_type": "stream",
     "text": [
      "right_post: 830112071475\n",
      "left_post: 817412070989\n",
      "right_ant: 832112070808\n",
      "left_ant: 817412071174\n"
     ]
    }
   ],
   "source": [
    "for key, item in serial_dict.items():\n",
    "    print('%s: %s' %(item,key))"
   ]
  },
  {
   "cell_type": "code",
   "execution_count": 54,
   "metadata": {},
   "outputs": [],
   "source": [
    "resolution_width = 640\n",
    "resolution_height = 480\n",
    "framerate=60"
   ]
  },
  {
   "cell_type": "code",
   "execution_count": 55,
   "metadata": {},
   "outputs": [],
   "source": [
    "serial = '830112071475'"
   ]
  },
  {
   "cell_type": "code",
   "execution_count": 77,
   "metadata": {},
   "outputs": [],
   "source": [
    "def print_extrinsic_intrinsic(serial):\n",
    "    print('~~~ Serial ~~~')\n",
    "    print(serial)\n",
    "    config = rs.config()\n",
    "    config.enable_stream(rs.stream.infrared, 1, resolution_width, resolution_height, rs.format.y8, framerate)\n",
    "    config.enable_stream(rs.stream.infrared, 2, resolution_width, resolution_height, rs.format.y8, framerate)\n",
    "    # config.enable_stream(rs.stream.depth, resolution_width, resolution_height, rs.format.z16, framerate)\n",
    "\n",
    "    pipeline = rs.pipeline()\n",
    "    config.enable_device(serial)\n",
    "    pipeline_profile = pipeline.start(config) \n",
    "    \n",
    "    profile = pipeline_profile.get_stream(rs.stream.infrared,1)\n",
    "    intr = profile.as_video_stream_profile().get_intrinsics()\n",
    "    \n",
    "    \n",
    "    K = np.zeros((3,3),dtype=np.float64)\n",
    "    K[0,0] = intr.fx\n",
    "    K[0,2] = intr.ppx\n",
    "    K[1,1] = intr.fy\n",
    "    K[1,2] = intr.ppy\n",
    "    K[2,2] = 1\n",
    "    print('~~~ Intrinsics ~~~')\n",
    "    print(K)\n",
    "    \n",
    "    extrinsics = pipeline_profile.get_stream(rs.stream.infrared,1).as_video_stream_profile().get_extrinsics_to(pipeline_profile.get_stream(\n",
    "        rs.stream.infrared,2))\n",
    "    print('~~~ Extrinsics, left IR to right IR ~~~')\n",
    "    print('Rotation: ', extrinsics.rotation)\n",
    "    print('Translation: ', extrinsics.translation)\n",
    "    \n",
    "    pipeline.stop()\n",
    "    config.disable_all_streams()"
   ]
  },
  {
   "cell_type": "code",
   "execution_count": 86,
   "metadata": {},
   "outputs": [
    {
     "name": "stdout",
     "output_type": "stream",
     "text": [
      "~~~ Serial ~~~\n",
      "817412070989\n",
      "~~~ Intrinsics ~~~\n",
      "[[385.8394165    0.         317.54040527]\n",
      " [  0.         385.8394165  243.37915039]\n",
      " [  0.           0.           1.        ]]\n",
      "~~~ Extrinsics, left IR to right IR ~~~\n",
      "Rotation:  [1.0, 0.0, 0.0, 0.0, 1.0, 0.0, 0.0, 0.0, 1.0]\n",
      "Translation:  [-0.049900662153959274, 0.0, 0.0]\n",
      "~~~ Serial ~~~\n",
      "830112071475\n",
      "~~~ Intrinsics ~~~\n",
      "[[385.20562744   0.         320.95071411]\n",
      " [  0.         385.20562744 244.75238037]\n",
      " [  0.           0.           1.        ]]\n",
      "~~~ Extrinsics, left IR to right IR ~~~\n",
      "Rotation:  [1.0, 0.0, 0.0, 0.0, 1.0, 0.0, 0.0, 0.0, 1.0]\n",
      "Translation:  [-0.04994235932826996, 0.0, 0.0]\n",
      "~~~ Serial ~~~\n",
      "817412071174\n",
      "~~~ Intrinsics ~~~\n",
      "[[393.30001831   0.         315.61096191]\n",
      " [  0.         393.30001831 240.31312561]\n",
      " [  0.           0.           1.        ]]\n",
      "~~~ Extrinsics, left IR to right IR ~~~\n",
      "Rotation:  [1.0, 0.0, 0.0, 0.0, 1.0, 0.0, 0.0, 0.0, 1.0]\n",
      "Translation:  [-0.04998056963086128, 0.0, 0.0]\n",
      "~~~ Serial ~~~\n",
      "832112070808\n",
      "~~~ Intrinsics ~~~\n",
      "[[383.72738647   0.         318.01065063]\n",
      " [  0.         383.72738647 241.56271362]\n",
      " [  0.           0.           1.        ]]\n",
      "~~~ Extrinsics, left IR to right IR ~~~\n",
      "Rotation:  [1.0, 0.0, 0.0, 0.0, 1.0, 0.0, 0.0, 0.0, 1.0]\n",
      "Translation:  [-0.04983759671449661, 0.0, 0.0]\n"
     ]
    },
    {
     "data": {
      "text/plain": [
       "[None, None, None, None]"
      ]
     },
     "execution_count": 86,
     "metadata": {},
     "output_type": "execute_result"
    }
   ],
   "source": [
    "[print_extrinsic_intrinsic(serial) for serial in serials]"
   ]
  },
  {
   "cell_type": "code",
   "execution_count": 44,
   "metadata": {},
   "outputs": [
    {
     "data": {
      "text/plain": [
       "rotation: [1, 0, 0, 0, 1, 0, 0, 0, 1]\n",
       "translation: [-0.0499007, 0, 0]"
      ]
     },
     "execution_count": 44,
     "metadata": {},
     "output_type": "execute_result"
    }
   ],
   "source": []
  },
  {
   "cell_type": "code",
   "execution_count": 45,
   "metadata": {},
   "outputs": [],
   "source": []
  }
 ],
 "metadata": {
  "kernelspec": {
   "display_name": "Python 3",
   "language": "python",
   "name": "python3"
  },
  "language_info": {
   "codemirror_mode": {
    "name": "ipython",
    "version": 3
   },
   "file_extension": ".py",
   "mimetype": "text/x-python",
   "name": "python",
   "nbconvert_exporter": "python",
   "pygments_lexer": "ipython3",
   "version": "3.6.7"
  }
 },
 "nbformat": 4,
 "nbformat_minor": 2
}
