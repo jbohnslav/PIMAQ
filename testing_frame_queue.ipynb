{
 "cells": [
  {
   "cell_type": "code",
   "execution_count": 1,
   "metadata": {},
   "outputs": [],
   "source": [
    "import pyrealsense2 as rs\n",
    "import numpy as np\n",
    "import matplotlib.pyplot as plt\n",
    "import yaml"
   ]
  },
  {
   "cell_type": "code",
   "execution_count": 7,
   "metadata": {},
   "outputs": [],
   "source": [
    "def enumerate_connected_devices(context):\n",
    "    \"\"\"\n",
    "    Enumerate the connected Intel RealSense devices\n",
    "    Parameters:\n",
    "    -----------\n",
    "    context           : rs.context()\n",
    "                         The context created for using the realsense library\n",
    "    Return:\n",
    "    -----------\n",
    "    connect_device : array\n",
    "                       Array of enumerated devices which are connected to the PC\n",
    "    \"\"\"\n",
    "    connect_device = []\n",
    "    for d in context.devices:\n",
    "        if d.get_info(rs.camera_info.name).lower() != 'platform camera':\n",
    "            connect_device.append(d.get_info(rs.camera_info.serial_number))\n",
    "    return connect_device"
   ]
  },
  {
   "cell_type": "code",
   "execution_count": 8,
   "metadata": {},
   "outputs": [],
   "source": [
    "config = rs.config()\n",
    "resolution_width = 480\n",
    "resolution_height = 270\n",
    "framerate = 90\n",
    "config.enable_stream(rs.stream.infrared, 1, resolution_width, resolution_height, rs.format.y8, framerate)\n",
    "config.enable_stream(rs.stream.infrared, 2, resolution_width, resolution_height, rs.format.y8, framerate)\n",
    "\n",
    "serials = enumerate_connected_devices(rs.context())"
   ]
  },
  {
   "cell_type": "code",
   "execution_count": 10,
   "metadata": {},
   "outputs": [],
   "source": [
    "device = config.enable_device(serials[0])"
   ]
  },
  {
   "cell_type": "code",
   "execution_count": 13,
   "metadata": {},
   "outputs": [],
   "source": [
    "context = rs.context()"
   ]
  },
  {
   "cell_type": "code",
   "execution_count": 20,
   "metadata": {},
   "outputs": [],
   "source": [
    "device = context.devices[0]"
   ]
  },
  {
   "cell_type": "code",
   "execution_count": 28,
   "metadata": {},
   "outputs": [],
   "source": [
    "ir_sensor = device.first_depth_sensor()"
   ]
  },
  {
   "cell_type": "code",
   "execution_count": 32,
   "metadata": {},
   "outputs": [
    {
     "ename": "TypeError",
     "evalue": "get_info(): incompatible function arguments. The following argument types are supported:\n    1. (self: pyrealsense2.pyrealsense2.device, info: pyrealsense2.pyrealsense2.camera_info) -> str\n\nInvoked with: <pyrealsense2.device: Intel RealSense D435 (S/N: 817412070989)>",
     "output_type": "error",
     "traceback": [
      "\u001b[1;31m---------------------------------------------------------------------------\u001b[0m",
      "\u001b[1;31mTypeError\u001b[0m                                 Traceback (most recent call last)",
      "\u001b[1;32m<ipython-input-32-9a9761899b85>\u001b[0m in \u001b[0;36m<module>\u001b[1;34m\u001b[0m\n\u001b[1;32m----> 1\u001b[1;33m \u001b[0mdevice\u001b[0m\u001b[1;33m.\u001b[0m\u001b[0mget_info\u001b[0m\u001b[1;33m(\u001b[0m\u001b[1;33m)\u001b[0m\u001b[1;33m\u001b[0m\u001b[1;33m\u001b[0m\u001b[0m\n\u001b[0m",
      "\u001b[1;31mTypeError\u001b[0m: get_info(): incompatible function arguments. The following argument types are supported:\n    1. (self: pyrealsense2.pyrealsense2.device, info: pyrealsense2.pyrealsense2.camera_info) -> str\n\nInvoked with: <pyrealsense2.device: Intel RealSense D435 (S/N: 817412070989)>"
     ]
    }
   ],
   "source": [
    "device."
   ]
  },
  {
   "cell_type": "code",
   "execution_count": 30,
   "metadata": {},
   "outputs": [
    {
     "data": {
      "text/plain": [
       "['__class__',\n",
       " '__delattr__',\n",
       " '__dir__',\n",
       " '__doc__',\n",
       " '__eq__',\n",
       " '__format__',\n",
       " '__ge__',\n",
       " '__getattribute__',\n",
       " '__gt__',\n",
       " '__hash__',\n",
       " '__init__',\n",
       " '__init_subclass__',\n",
       " '__le__',\n",
       " '__lt__',\n",
       " '__module__',\n",
       " '__ne__',\n",
       " '__new__',\n",
       " '__nonzero__',\n",
       " '__reduce__',\n",
       " '__reduce_ex__',\n",
       " '__repr__',\n",
       " '__setattr__',\n",
       " '__sizeof__',\n",
       " '__str__',\n",
       " '__subclasshook__',\n",
       " 'as_debug_protocol',\n",
       " 'as_playback',\n",
       " 'as_recorder',\n",
       " 'as_tm2',\n",
       " 'first_depth_sensor',\n",
       " 'first_pose_sensor',\n",
       " 'first_roi_sensor',\n",
       " 'get_info',\n",
       " 'hardware_reset',\n",
       " 'is_debug_protocol',\n",
       " 'is_playback',\n",
       " 'is_recorder',\n",
       " 'is_tm2',\n",
       " 'query_sensors',\n",
       " 'sensors',\n",
       " 'supports']"
      ]
     },
     "execution_count": 30,
     "metadata": {},
     "output_type": "execute_result"
    }
   ],
   "source": [
    "dir(device)"
   ]
  },
  {
   "cell_type": "code",
   "execution_count": 33,
   "metadata": {},
   "outputs": [
    {
     "data": {
      "text/plain": [
       "['BufData',\n",
       " 'STAEControl',\n",
       " 'STCensusRadius',\n",
       " 'STColorControl',\n",
       " 'STColorCorrection',\n",
       " 'STDepthControlGroup',\n",
       " 'STDepthTableControl',\n",
       " 'STHdad',\n",
       " 'STRauColorThresholdsControl',\n",
       " 'STRauSupportVectorControl',\n",
       " 'STRsm',\n",
       " 'STSloColorThresholdsControl',\n",
       " 'STSloPenaltyControl',\n",
       " '__builtins__',\n",
       " '__cached__',\n",
       " '__doc__',\n",
       " '__file__',\n",
       " '__loader__',\n",
       " '__name__',\n",
       " '__package__',\n",
       " '__path__',\n",
       " '__spec__',\n",
       " 'align',\n",
       " 'camera_info',\n",
       " 'colorizer',\n",
       " 'composite_frame',\n",
       " 'config',\n",
       " 'context',\n",
       " 'debug_protocol',\n",
       " 'decimation_filter',\n",
       " 'depth_frame',\n",
       " 'depth_sensor',\n",
       " 'device',\n",
       " 'device_list',\n",
       " 'disparity_transform',\n",
       " 'distortion',\n",
       " 'event_information',\n",
       " 'extension',\n",
       " 'extrinsics',\n",
       " 'filter',\n",
       " 'filter_interface',\n",
       " 'format',\n",
       " 'frame',\n",
       " 'frame_metadata_value',\n",
       " 'frame_queue',\n",
       " 'frame_source',\n",
       " 'hole_filling_filter',\n",
       " 'intrinsics',\n",
       " 'log_severity',\n",
       " 'log_to_console',\n",
       " 'log_to_file',\n",
       " 'motion_device_intrinsic',\n",
       " 'motion_frame',\n",
       " 'motion_stream_profile',\n",
       " 'notification',\n",
       " 'notification_category',\n",
       " 'option',\n",
       " 'option_range',\n",
       " 'options',\n",
       " 'pipeline',\n",
       " 'pipeline_profile',\n",
       " 'pipeline_wrapper',\n",
       " 'playback',\n",
       " 'playback_status',\n",
       " 'pointcloud',\n",
       " 'points',\n",
       " 'pose',\n",
       " 'pose_frame',\n",
       " 'pose_sensor',\n",
       " 'processing_block',\n",
       " 'pyrealsense2',\n",
       " 'quaternion',\n",
       " 'recorder',\n",
       " 'region_of_interest',\n",
       " 'roi_sensor',\n",
       " 'rs2_deproject_pixel_to_point',\n",
       " 'rs2_fov',\n",
       " 'rs2_project_point_to_pixel',\n",
       " 'rs2_transform_point_to_point',\n",
       " 'rs400_advanced_mode',\n",
       " 'save_single_frameset',\n",
       " 'sensor',\n",
       " 'spatial_filter',\n",
       " 'stream',\n",
       " 'stream_profile',\n",
       " 'syncer',\n",
       " 'temporal_filter',\n",
       " 'texture_coordinate',\n",
       " 'threshold_filter',\n",
       " 'timestamp_domain',\n",
       " 'tm2',\n",
       " 'vector',\n",
       " 'vertex',\n",
       " 'video_frame',\n",
       " 'video_stream_profile',\n",
       " 'wheel_odometer',\n",
       " 'yuy_decoder',\n",
       " 'zero_order_invalidation']"
      ]
     },
     "execution_count": 33,
     "metadata": {},
     "output_type": "execute_result"
    }
   ],
   "source": [
    "dir(rs)"
   ]
  },
  {
   "cell_type": "code",
   "execution_count": 34,
   "metadata": {},
   "outputs": [
    {
     "data": {
      "text/plain": [
       "['__class__',\n",
       " '__delattr__',\n",
       " '__dir__',\n",
       " '__doc__',\n",
       " '__eq__',\n",
       " '__format__',\n",
       " '__ge__',\n",
       " '__getattribute__',\n",
       " '__gt__',\n",
       " '__hash__',\n",
       " '__init__',\n",
       " '__init_subclass__',\n",
       " '__le__',\n",
       " '__lt__',\n",
       " '__module__',\n",
       " '__ne__',\n",
       " '__new__',\n",
       " '__nonzero__',\n",
       " '__reduce__',\n",
       " '__reduce_ex__',\n",
       " '__repr__',\n",
       " '__setattr__',\n",
       " '__sizeof__',\n",
       " '__str__',\n",
       " '__subclasshook__',\n",
       " 'as_depth_frame',\n",
       " 'as_frame',\n",
       " 'as_frameset',\n",
       " 'as_motion_frame',\n",
       " 'as_points',\n",
       " 'as_pose_frame',\n",
       " 'as_video_frame',\n",
       " 'data',\n",
       " 'frame_number',\n",
       " 'frame_timestamp_domain',\n",
       " 'get_data',\n",
       " 'get_frame_metadata',\n",
       " 'get_frame_number',\n",
       " 'get_frame_timestamp_domain',\n",
       " 'get_profile',\n",
       " 'get_timestamp',\n",
       " 'is_depth_frame',\n",
       " 'is_frame',\n",
       " 'is_frameset',\n",
       " 'is_motion_frame',\n",
       " 'is_points',\n",
       " 'is_pose_frame',\n",
       " 'is_video_frame',\n",
       " 'keep',\n",
       " 'profile',\n",
       " 'supports_frame_metadata',\n",
       " 'swap',\n",
       " 'timestamp']"
      ]
     },
     "execution_count": 34,
     "metadata": {},
     "output_type": "execute_result"
    }
   ],
   "source": [
    "dir(rs.frame)"
   ]
  },
  {
   "cell_type": "code",
   "execution_count": 14,
   "metadata": {},
   "outputs": [
    {
     "data": {
      "text/plain": [
       "['__class__',\n",
       " '__delattr__',\n",
       " '__dir__',\n",
       " '__doc__',\n",
       " '__eq__',\n",
       " '__format__',\n",
       " '__ge__',\n",
       " '__getattribute__',\n",
       " '__gt__',\n",
       " '__hash__',\n",
       " '__init__',\n",
       " '__init_subclass__',\n",
       " '__le__',\n",
       " '__lt__',\n",
       " '__module__',\n",
       " '__ne__',\n",
       " '__new__',\n",
       " '__reduce__',\n",
       " '__reduce_ex__',\n",
       " '__repr__',\n",
       " '__setattr__',\n",
       " '__sizeof__',\n",
       " '__str__',\n",
       " '__subclasshook__',\n",
       " 'devices',\n",
       " 'get_sensor_parent',\n",
       " 'load_device',\n",
       " 'query_all_sensors',\n",
       " 'query_devices',\n",
       " 'sensors',\n",
       " 'set_devices_changed_callback',\n",
       " 'unload_device']"
      ]
     },
     "execution_count": 14,
     "metadata": {},
     "output_type": "execute_result"
    }
   ],
   "source": [
    "dir(context)"
   ]
  },
  {
   "cell_type": "code",
   "execution_count": 2,
   "metadata": {},
   "outputs": [],
   "source": [
    "import pyrealsense2 as rs\n",
    "import numpy as np\n",
    "import cv2\n",
    "\n",
    "preview = True\n",
    "SERIAL = '830112071475'"
   ]
  },
  {
   "cell_type": "code",
   "execution_count": 3,
   "metadata": {},
   "outputs": [
    {
     "name": "stdout",
     "output_type": "stream",
     "text": [
      "0.0\n"
     ]
    },
    {
     "ename": "AttributeError",
     "evalue": "'pyrealsense2.pyrealsense2.frame' object has no attribute 'get_infrared_frame'",
     "output_type": "error",
     "traceback": [
      "\u001b[1;31m---------------------------------------------------------------------------\u001b[0m",
      "\u001b[1;31mAttributeError\u001b[0m                            Traceback (most recent call last)",
      "\u001b[1;32m<ipython-input-3-5aee779c568a>\u001b[0m in \u001b[0;36m<module>\u001b[1;34m\u001b[0m\n\u001b[0;32m     27\u001b[0m         \u001b[0mframes\u001b[0m \u001b[1;33m=\u001b[0m \u001b[0mframequeue\u001b[0m\u001b[1;33m.\u001b[0m\u001b[0mpoll_for_frame\u001b[0m\u001b[1;33m(\u001b[0m\u001b[1;33m)\u001b[0m\u001b[1;33m\u001b[0m\u001b[1;33m\u001b[0m\u001b[0m\n\u001b[0;32m     28\u001b[0m         \u001b[1;31m# frames = device.pipeline.poll_for_frames()\u001b[0m\u001b[1;33m\u001b[0m\u001b[1;33m\u001b[0m\u001b[1;33m\u001b[0m\u001b[0m\n\u001b[1;32m---> 29\u001b[1;33m         \u001b[0mleft\u001b[0m \u001b[1;33m=\u001b[0m \u001b[0mframes\u001b[0m\u001b[1;33m.\u001b[0m\u001b[0mget_infrared_frame\u001b[0m\u001b[1;33m(\u001b[0m\u001b[1;36m1\u001b[0m\u001b[1;33m)\u001b[0m\u001b[1;33m\u001b[0m\u001b[1;33m\u001b[0m\u001b[0m\n\u001b[0m\u001b[0;32m     30\u001b[0m         \u001b[0mright\u001b[0m \u001b[1;33m=\u001b[0m \u001b[0mframes\u001b[0m\u001b[1;33m.\u001b[0m\u001b[0mget_infrared_frame\u001b[0m\u001b[1;33m(\u001b[0m\u001b[1;36m2\u001b[0m\u001b[1;33m)\u001b[0m\u001b[1;33m\u001b[0m\u001b[1;33m\u001b[0m\u001b[0m\n\u001b[0;32m     31\u001b[0m \u001b[1;33m\u001b[0m\u001b[0m\n",
      "\u001b[1;31mAttributeError\u001b[0m: 'pyrealsense2.pyrealsense2.frame' object has no attribute 'get_infrared_frame'"
     ]
    }
   ],
   "source": [
    "config = rs.config()\n",
    "resolution_width = 480\n",
    "resolution_height = 270\n",
    "framerate = 90\n",
    "config.enable_stream(rs.stream.infrared, 1, resolution_width, resolution_height, rs.format.y8, framerate)\n",
    "config.enable_stream(rs.stream.infrared, 2, resolution_width, resolution_height, rs.format.y8, framerate)\n",
    "config.enable_device(SERIAL)\n",
    "\n",
    "pipe = rs.pipeline()\n",
    "prof = pipe.start(config)\n",
    "dev = prof.get_device()\n",
    "ds = dev.query_sensors()[0]\n",
    "ds.set_option(rs.option.inter_cam_sync_mode, 0)\n",
    "# ds.set_option(rs.option.frames_queue_size,1)\n",
    "print(ds.get_option(rs.option.inter_cam_sync_mode))\n",
    "\n",
    "CAPACITY = 100\n",
    "framequeue = rs.frame_queue(CAPACITY)\n",
    "\n",
    "if preview:\n",
    "    font = cv2.FONT_HERSHEY_SIMPLEX\n",
    "    cv2.namedWindow('realsense', cv2.WINDOW_AUTOSIZE)\n",
    "try:\n",
    "    while True:\n",
    "        # print('acquiring')\n",
    "        # frames = pipe.wait_for_frames(1000*15)\n",
    "        frames = framequeue.poll_for_frame()\n",
    "        # frames = device.pipeline.poll_for_frames()\n",
    "        left = frames.get_infrared_frame(1)\n",
    "        right = frames.get_infrared_frame(2)\n",
    "\n",
    "        if not left or not right:\n",
    "            continue\n",
    "        left, right = np.asanyarray(left.get_data()), np.asanyarray(right.get_data())\n",
    "\n",
    "        if preview:\n",
    "            out = np.vstack((left,right))\n",
    "            out = cv2.cvtColor(out, cv2.COLOR_GRAY2RGB)\n",
    "            # string = '%.4f' %(time_acq*1000)\n",
    "            string = '%07d' %(framecount)\n",
    "            cv2.putText(out,string,(10,500), font, 0.5,(0,0,255),2,cv2.LINE_AA)\n",
    "            cv2.imshow('realsense', out)\n",
    "            key = cv2.waitKey(1)\n",
    "            if key==27:\n",
    "                break\n",
    "        framecount+=1\n",
    "except KeyboardInterrupt:\n",
    "    pass\n",
    "    # print('User stopped acquisition.')\n",
    "finally:\n",
    "    cv2.destroyAllWindows()"
   ]
  },
  {
   "cell_type": "code",
   "execution_count": 4,
   "metadata": {
    "scrolled": true
   },
   "outputs": [
    {
     "data": {
      "text/plain": [
       "['__class__',\n",
       " '__delattr__',\n",
       " '__dir__',\n",
       " '__doc__',\n",
       " '__eq__',\n",
       " '__format__',\n",
       " '__ge__',\n",
       " '__getattribute__',\n",
       " '__gt__',\n",
       " '__hash__',\n",
       " '__init__',\n",
       " '__init_subclass__',\n",
       " '__le__',\n",
       " '__lt__',\n",
       " '__module__',\n",
       " '__ne__',\n",
       " '__new__',\n",
       " '__nonzero__',\n",
       " '__reduce__',\n",
       " '__reduce_ex__',\n",
       " '__repr__',\n",
       " '__setattr__',\n",
       " '__sizeof__',\n",
       " '__str__',\n",
       " '__subclasshook__',\n",
       " 'as_depth_frame',\n",
       " 'as_frame',\n",
       " 'as_frameset',\n",
       " 'as_motion_frame',\n",
       " 'as_points',\n",
       " 'as_pose_frame',\n",
       " 'as_video_frame',\n",
       " 'data',\n",
       " 'frame_number',\n",
       " 'frame_timestamp_domain',\n",
       " 'get_data',\n",
       " 'get_frame_metadata',\n",
       " 'get_frame_number',\n",
       " 'get_frame_timestamp_domain',\n",
       " 'get_profile',\n",
       " 'get_timestamp',\n",
       " 'is_depth_frame',\n",
       " 'is_frame',\n",
       " 'is_frameset',\n",
       " 'is_motion_frame',\n",
       " 'is_points',\n",
       " 'is_pose_frame',\n",
       " 'is_video_frame',\n",
       " 'keep',\n",
       " 'profile',\n",
       " 'supports_frame_metadata',\n",
       " 'swap',\n",
       " 'timestamp']"
      ]
     },
     "execution_count": 4,
     "metadata": {},
     "output_type": "execute_result"
    }
   ],
   "source": [
    "dir(frames)"
   ]
  },
  {
   "cell_type": "code",
   "execution_count": 18,
   "metadata": {},
   "outputs": [
    {
     "data": {
      "text/plain": [
       "['__class__',\n",
       " '__delattr__',\n",
       " '__dir__',\n",
       " '__doc__',\n",
       " '__eq__',\n",
       " '__format__',\n",
       " '__ge__',\n",
       " '__getattribute__',\n",
       " '__gt__',\n",
       " '__hash__',\n",
       " '__init__',\n",
       " '__init_subclass__',\n",
       " '__le__',\n",
       " '__lt__',\n",
       " '__module__',\n",
       " '__ne__',\n",
       " '__new__',\n",
       " '__reduce__',\n",
       " '__reduce_ex__',\n",
       " '__repr__',\n",
       " '__setattr__',\n",
       " '__sizeof__',\n",
       " '__str__',\n",
       " '__subclasshook__',\n",
       " 'get_active_profile',\n",
       " 'poll_for_frames',\n",
       " 'start',\n",
       " 'stop',\n",
       " 'try_wait_for_frames',\n",
       " 'wait_for_frames']"
      ]
     },
     "execution_count": 18,
     "metadata": {},
     "output_type": "execute_result"
    }
   ],
   "source": [
    "dir(pipe)"
   ]
  }
 ],
 "metadata": {
  "kernelspec": {
   "display_name": "Python 3",
   "language": "python",
   "name": "python3"
  },
  "language_info": {
   "codemirror_mode": {
    "name": "ipython",
    "version": 3
   },
   "file_extension": ".py",
   "mimetype": "text/x-python",
   "name": "python",
   "nbconvert_exporter": "python",
   "pygments_lexer": "ipython3",
   "version": "3.6.8"
  }
 },
 "nbformat": 4,
 "nbformat_minor": 2
}
