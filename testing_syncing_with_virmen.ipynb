{
 "cells": [
  {
   "cell_type": "code",
   "execution_count": 1,
   "metadata": {},
   "outputs": [],
   "source": [
    "import os\n",
    "import h5py\n",
    "import numpy\n",
    "import matplotlib.pyplot as plt\n",
    "import cv2\n",
    "import numpy as np\n",
    "from datetime import datetime, timedelta\n",
    "import pandas as pd\n",
    "import time\n",
    "from scipy.signal import savgol_filter\n",
    "from scipy.io import loadmat\n",
    "%matplotlib qt5"
   ]
  },
  {
   "cell_type": "code",
   "execution_count": 2,
   "metadata": {},
   "outputs": [],
   "source": [
    "def matlab_timestamp_to_numpy(timestamps):\n",
    "    datetimes = [datetime.fromordinal(int(i) - 366) + timedelta(days=i%1) for i in timestamps]\n",
    "    datetime_array = np.array(datetimes, dtype=np.datetime64)\n",
    "    return(datetime_array)\n",
    "\n",
    "def timestamp_to_numpy(timestamps):\n",
    "    datetimes = [datetime.fromtimestamp(i) for i in timestamps]\n",
    "    datetime_array = np.array(datetimes, dtype=np.datetime64)\n",
    "    return(datetime_array)\n",
    "\n",
    "def zscore(array):\n",
    "    mean = array.mean()\n",
    "    std = np.std(array)\n",
    "    return((array-mean)/std)\n",
    "\n",
    "def ms_from_start(datetimes):\n",
    "    return(((datetimes-datetimes[0])/1000).astype(np.float64))\n",
    "\n",
    "def get_mean_brightness(h5file, inds):\n",
    "    lefts, rights = [], []\n",
    "    for ind in inds:\n",
    "        left = cv2.imdecode(h5file['left'][ind],0)\n",
    "        right =  cv2.imdecode(h5file['right'][ind],0)\n",
    "        lefts.append(left.mean())\n",
    "        rights.append(right.mean())\n",
    "    return(np.vstack((lefts, rights)).mean(axis=0))\n",
    "\n",
    "def calculate_hist(array,binedges):\n",
    "    binedges[0] = -np.inf\n",
    "    binedges[-1] = np.inf\n",
    "    histogram, bin_edges = np.histogram(array,binedges)\n",
    "    bincenters = [(bin_edges[i]+bin_edges[i+1])/2 for i in range(len(bin_edges)-1)]\n",
    "    return(histogram,bincenters)\n",
    "\n",
    "def smooth(array, window_size=5):\n",
    "    assert(window_size%2==1)\n",
    "    filt = np.ones(window_size)/window_size\n",
    "    # print(filt.sum())\n",
    "    assert(abs(filt.sum()-1)<1e-6)\n",
    "    \n",
    "    return(np.convolve(array,filt, mode='same'))\n",
    "\n",
    "def align_cameras_on_timestamps(filelist,master='right_post', WINDOW_SIZE=500,\n",
    "                               use_window=True,max_distance=8):\n",
    "    # WINDOW_SIZE=500\n",
    "    # max_distance = 6 # ms\n",
    "    \n",
    "    frames = {}\n",
    "    timestamps = {}\n",
    "    sestimes = {}\n",
    "    # filelist.sort()\n",
    "    for key, file in filelist.items():\n",
    "        if not file.endswith('t.h5'):\n",
    "            continue\n",
    "        with h5py.File(file, 'r') as f:\n",
    "            framecounts = f['framecount'][:]\n",
    "            timestamp = timestamp_to_numpy(f['timestamp'][:])\n",
    "            sestime = f['sestime'][:]\n",
    "        # key = os.path.basename(file)[:-3]\n",
    "        frames[key] = framecounts\n",
    "        timestamps[key] = timestamp\n",
    "        sestimes[key]  = sestime\n",
    "    N = len(frames[master])\n",
    "    camera_LUT = np.array((N,len(frames)), dtype=np.uint64)\n",
    "    slaves = [i for i in list(frames.keys()) if i!=master]\n",
    "    N = len(frames[master])\n",
    "    camera_LUT = np.zeros((N,len(frames)), dtype=np.float64)\n",
    "    \n",
    "    for i in range(0,N):\n",
    "        camera_LUT[i,0] = i\n",
    "        t = timestamps[master][i]\n",
    "        min_search = max(0,i-WINDOW_SIZE)\n",
    "        \n",
    "        for j, slave in enumerate(slaves):\n",
    "            max_search = min(len(frames[slave]),i+WINDOW_SIZE)\n",
    "            # happens when there are large differences in numbers of images between two files\n",
    "            # this likely means the master has way more images than the slave\n",
    "            if max_search<=min_search:\n",
    "                camera_LUT[i,j+1]=np.nan\n",
    "                continue\n",
    "            if use_window:\n",
    "                snippet = np.abs((timestamps[slave][min_search:max_search]-t).astype(np.float32)/1000)\n",
    "                \n",
    "            else:\n",
    "                snippet = np.abs((timestamps[slave]-t).astype(np.float32)/1000)\n",
    "            mint, argmin = snippet.min(), np.argmin(snippet)\n",
    "            \n",
    "            if mint < max_distance:\n",
    "                val = argmin + min_search\n",
    "            else:\n",
    "                val = np.nan\n",
    "            \n",
    "            camera_LUT[i,j+1] = val\n",
    "    \n",
    "    # data = np.hstack((camera_LUT, timestamps[master]))\n",
    "    df = pd.DataFrame(camera_LUT, columns=[master]+slaves)\n",
    "    df['timestamps'] = timestamps[master]\n",
    "    \n",
    "    return(df)"
   ]
  },
  {
   "cell_type": "code",
   "execution_count": 3,
   "metadata": {},
   "outputs": [],
   "source": [
    "virmendir = r'/run/user/1000/gvfs/smb-share:server=research.files.med.harvard.edu,share=neurobio/HarveyLab/Tier1/Jim/DATA/behavior/current_mice/JB042/190329/JB042_190329_161931'\n",
    "datadir = r'/media/jim/FASTER/realsense/190329/JB042_191829_161822'"
   ]
  },
  {
   "cell_type": "code",
   "execution_count": 4,
   "metadata": {},
   "outputs": [
    {
     "name": "stdout",
     "output_type": "stream",
     "text": [
      "JB042_190329_161931_iterBinary.bin\n",
      "JB042_190329_161931_iterBinaryVariableNames.mat\n",
      "JB042_190329_161931_serialBinary.bin\n",
      "JB042_190329_161931_serialBinaryVariableNames.mat\n",
      "JB042_190329_161931_session.mat\n",
      "JB042_190329_161931_trialBinary.bin\n",
      "JB042_190329_161931_trialBinaryVariableNames.mat\n",
      "JB042_190329_161931_turnBinary.bin\n",
      "JB042_190329_161931_turnBinaryVariableNames.mat\n",
      "JB042_190329_161931_vr.mat\n",
      "temp\n"
     ]
    }
   ],
   "source": [
    "virfiles = os.listdir(virmendir)\n",
    "virfiles.sort()\n",
    "_ = [print(file) for file in virfiles]"
   ]
  },
  {
   "cell_type": "code",
   "execution_count": 5,
   "metadata": {},
   "outputs": [
    {
     "name": "stdout",
     "output_type": "stream",
     "text": [
      "JB042_190329_161923_eyeCamStruct.mat\n",
      "JB042_190329_161923_eyeData.mat\n",
      "JB042_190329_161925_eye.bin\n",
      "JB042_2019-03-29_0002.h5\n",
      "JB042_eye.avi\n",
      "left_ant.h5\n",
      "left_post.h5\n",
      "right_ant.h5\n",
      "right_post.h5\n",
      "trial_4.avi\n"
     ]
    }
   ],
   "source": [
    "files = os.listdir(datadir)\n",
    "files.sort()\n",
    "camfiles = {os.path.basename(i)[:-3]: os.path.join(datadir,i) for i in files if i.endswith('t.h5')}\n",
    "_ = [print(file) for file in files]"
   ]
  },
  {
   "cell_type": "code",
   "execution_count": 6,
   "metadata": {},
   "outputs": [],
   "source": [
    "mat = loadmat(os.path.join(virmendir, virfiles[1]),squeeze_me=True)\n",
    "varnames = mat['saveOnIter']"
   ]
  },
  {
   "cell_type": "code",
   "execution_count": 7,
   "metadata": {},
   "outputs": [
    {
     "name": "stdout",
     "output_type": "stream",
     "text": [
      "['rawMovement0', 'rawMovement1', 'rawMovement2', 'position0', 'position1', 'position2', 'position3', 'velocity0', 'velocity1', 'velocity2', 'velocity3', 'iterN', 'trialN', 'rewardAmount', 'reward', 'isLick', 'dt', 'timeStamp', 'currentWorld', 'isFeedback', 'worldChange', 'turnLeft', 'turnRight', 'isRewardDelay', 'giveManualReward']\n"
     ]
    }
   ],
   "source": [
    "variables = []\n",
    "cnt=0\n",
    "for entry in varnames:\n",
    "    name, n = entry\n",
    "    if n > 1:\n",
    "        for i in range(n):\n",
    "            variables.append('%s%d' %(name,i))\n",
    "    else:\n",
    "        variables.append(name)\n",
    "print(variables)"
   ]
  },
  {
   "cell_type": "code",
   "execution_count": 8,
   "metadata": {},
   "outputs": [],
   "source": [
    "rawdata = np.fromfile(os.path.join(virmendir, virfiles[0]), dtype=np.float64).reshape(-1,len(variables))\n",
    "data = {key:rawdata[:,i] for i,key in enumerate(variables)}"
   ]
  },
  {
   "cell_type": "markdown",
   "metadata": {},
   "source": [
    "# Get virmen and camera triggers from wavesurfer"
   ]
  },
  {
   "cell_type": "code",
   "execution_count": 9,
   "metadata": {},
   "outputs": [],
   "source": [
    "files = os.listdir(datadir)\n",
    "files.sort()"
   ]
  },
  {
   "cell_type": "code",
   "execution_count": 10,
   "metadata": {},
   "outputs": [],
   "source": [
    "wsfile = [os.path.join(datadir, i) for i in files if '000' in i and '.h5' in i][0]"
   ]
  },
  {
   "cell_type": "code",
   "execution_count": 11,
   "metadata": {},
   "outputs": [
    {
     "data": {
      "text/plain": [
       "'/media/jim/FASTER/realsense/190329/JB042_191829_161822/JB042_2019-03-29_0002.h5'"
      ]
     },
     "execution_count": 11,
     "metadata": {},
     "output_type": "execute_result"
    }
   ],
   "source": [
    "wsfile"
   ]
  },
  {
   "cell_type": "code",
   "execution_count": 12,
   "metadata": {},
   "outputs": [
    {
     "name": "stdout",
     "output_type": "stream",
     "text": [
      "<KeysViewHDF5 ['digitalScans', 'timestamp']>\n"
     ]
    }
   ],
   "source": [
    "with h5py.File(wsfile, 'r') as f:\n",
    "    keys = f['header'].keys()\n",
    "    ws_metadata = {}\n",
    "    for key in keys:\n",
    "        try:\n",
    "            ws_metadata[key] = f['header/'+key][:].squeeze()\n",
    "        except BaseException as e:\n",
    "            pass\n",
    "            # print(e)\n",
    "    sweep_key = [key for key in f.keys() if 'sweep' in key][0]\n",
    "    start_timestamp = f[sweep_key + '/timestamp'][:]\n",
    "    scans = f[sweep_key + '/digitalScans'][:]\n",
    "    print(f[sweep_key].keys())\n",
    "    # print(sweep_key)"
   ]
  },
  {
   "cell_type": "markdown",
   "metadata": {},
   "source": [
    "# Align all relative to virmen in software"
   ]
  },
  {
   "cell_type": "code",
   "execution_count": 13,
   "metadata": {},
   "outputs": [],
   "source": [
    "def get_timestamps(virmendir, realsensedir):\n",
    "    timestamps = {}\n",
    "    \n",
    "    # get virmen data as a dictionary\n",
    "    virfiles = os.listdir(virmendir)\n",
    "    virfiles.sort()\n",
    "    varnames_file = [os.path.join(virmendir, i) for i in virfiles if \n",
    "                    'BinaryVariableNames' in i][0]\n",
    "    \n",
    "    mat = loadmat(varnames_file,squeeze_me=True)\n",
    "    varnames = mat['saveOnIter']\n",
    "    variables = []\n",
    "    cnt=0\n",
    "    for entry in varnames:\n",
    "        name, n = entry\n",
    "        if n > 1:\n",
    "            for i in range(n):\n",
    "                variables.append('%s%d' %(name,i))\n",
    "        else:\n",
    "            variables.append(name)\n",
    "    binary_file = [os.path.join(virmendir, i) for i in virfiles if \n",
    "                  'iterBinary.bin' in i][0]\n",
    "    rawdata = np.fromfile(binary_file, dtype=np.float64).reshape(-1,len(variables))\n",
    "    data = {key:rawdata[:,i] for i,key in enumerate(variables)}\n",
    "    timestamps['virmen'] = matlab_timestamp_to_numpy(data['timeStamp'])\n",
    "    \n",
    "    files = os.listdir(realsensedir)\n",
    "    files.sort()\n",
    "    \n",
    "    eye_datafile = [os.path.join(realsensedir, i) for i in files if 'eyeData.mat' in i][0]\n",
    "    eyedata = loadmat(eye_datafile, squeeze_me=True)\n",
    "    timestamps['eye'] = matlab_timestamp_to_numpy(np.array([i[0] for i in eyedata['data']]))\n",
    "    \n",
    "    filelist = {os.path.basename(i)[:-3]:os.path.join(datadir, i) for i in files if i.endswith('t.h5')}\n",
    "    for cam, file in filelist.items():\n",
    "        if not file.endswith('t.h5'):\n",
    "            continue\n",
    "        with h5py.File(file, 'r') as f:\n",
    "            framecounts = f['framecount'][:]\n",
    "            timestamp = timestamp_to_numpy(f['timestamp'][:])\n",
    "        timestamps[cam] = timestamp\n",
    "    return(timestamps)"
   ]
  },
  {
   "cell_type": "code",
   "execution_count": 14,
   "metadata": {},
   "outputs": [],
   "source": [
    "def align_cameras_on_timestamps(filelist,master='right_post', WINDOW_SIZE=500,\n",
    "                               use_window=True,max_distance=8):\n",
    "    # WINDOW_SIZE=500\n",
    "    # max_distance = 6 # ms\n",
    "    \n",
    "    frames = {}\n",
    "    timestamps = {}\n",
    "    sestimes = {}\n",
    "    # filelist.sort()\n",
    "    for key, file in filelist.items():\n",
    "        if not file.endswith('t.h5'):\n",
    "            continue\n",
    "        with h5py.File(file, 'r') as f:\n",
    "            framecounts = f['framecount'][:]\n",
    "            timestamp = timestamp_to_numpy(f['timestamp'][:])\n",
    "            sestime = f['sestime'][:]\n",
    "        # key = os.path.basename(file)[:-3]\n",
    "        frames[key] = framecounts\n",
    "        timestamps[key] = timestamp\n",
    "        sestimes[key]  = sestime\n",
    "    N = len(frames[master])\n",
    "    camera_LUT = np.array((N,len(frames)), dtype=np.uint64)\n",
    "    slaves = [i for i in list(frames.keys()) if i!=master]\n",
    "    N = len(frames[master])\n",
    "    camera_LUT = np.zeros((N,len(frames)), dtype=np.float64)\n",
    "    \n",
    "    for i in range(0,N):\n",
    "        camera_LUT[i,0] = i\n",
    "        t = timestamps[master][i]\n",
    "        min_search = max(0,i-WINDOW_SIZE)\n",
    "        \n",
    "        for j, slave in enumerate(slaves):\n",
    "            max_search = min(len(frames[slave]),i+WINDOW_SIZE)\n",
    "            # happens when there are large differences in numbers of images between two files\n",
    "            # this likely means the master has way more images than the slave\n",
    "            if max_search<=min_search:\n",
    "                camera_LUT[i,j+1]=np.nan\n",
    "                continue\n",
    "            if use_window:\n",
    "                snippet = np.abs((timestamps[slave][min_search:max_search]-t).astype(np.float32)/1000)\n",
    "                \n",
    "            else:\n",
    "                snippet = np.abs((timestamps[slave]-t).astype(np.float32)/1000)\n",
    "            mint, argmin = snippet.min(), np.argmin(snippet)\n",
    "            \n",
    "            if mint < max_distance:\n",
    "                val = argmin + min_search\n",
    "            else:\n",
    "                val = np.nan\n",
    "            \n",
    "            camera_LUT[i,j+1] = val\n",
    "    \n",
    "    # data = np.hstack((camera_LUT, timestamps[master]))\n",
    "    df = pd.DataFrame(camera_LUT, columns=[master]+slaves)\n",
    "    df['timestamps'] = timestamps[master]\n",
    "    \n",
    "    return(df)"
   ]
  },
  {
   "cell_type": "code",
   "execution_count": 15,
   "metadata": {},
   "outputs": [],
   "source": [
    "def align_signals_by_timestamps(timestamps, master='virmen',use_window=True,WINDOW_SIZE=1000,max_distance=7):\n",
    "    assert(type(timestamps)==dict)\n",
    "    assert(master in timestamps.keys())\n",
    "    \n",
    "    N = len(timestamps[master])\n",
    "    keys = timestamps.keys()\n",
    "    \n",
    "    offsets = {}\n",
    "    t0 = timestamps[master][0]\n",
    "    for key in keys:\n",
    "        if key != master:\n",
    "            offsets[key] = np.abs(timestamps[key] - t0).argmin()\n",
    "    # LUT = np.zeros()\n",
    "    LUT = np.zeros((N,len(timestamps)-1), dtype=np.float64)\n",
    "    timestamp_matrix = np.zeros((N,len(timestamps)-1), dtype='datetime64[us]')\n",
    "    j=-1\n",
    "    original_window = WINDOW_SIZE\n",
    "    for key,offset in offsets.items():\n",
    "        j+=1\n",
    "        WINDOW_SIZE = original_window\n",
    "        for i in range(0,N):\n",
    "            t = timestamps[master][i]\n",
    "            \n",
    "            min_search = max(0, i+offset-WINDOW_SIZE)\n",
    "            max_search = min(len(timestamps[key]), i+offset+WINDOW_SIZE)\n",
    "            \n",
    "            if max_search <=min_search:\n",
    "                LUT[i,j] = np.nan\n",
    "                continue\n",
    "            if use_window:\n",
    "                snippet = np.abs((timestamps[key][min_search:max_search]-t).astype(np.float64)/1000)\n",
    "            else:\n",
    "                snippet = np.abs((timestmaps[key]-t).astype(np.float64)/1000)\n",
    "            mint, argmin = snippet.min(), np.argmin(snippet)\n",
    "            if mint < max_distance:\n",
    "                LUT_val = argmin + min_search\n",
    "                nearest_timestamp = timestamps[key][argmin+min_search]\n",
    "            else:\n",
    "                LUT_val = np.nan\n",
    "                nearest_timestamp = np.datetime64('NaT')\n",
    "                WINDOW_SIZE+=1\n",
    "            LUT[i,j] = LUT_val\n",
    "            timestamp_matrix[i,j] = nearest_timestamp\n",
    "    LUT = np.hstack((np.arange(0,N)[...,np.newaxis], LUT))\n",
    "    # data = np.hstack((camera_LUT, timestamps[master]))\n",
    "    LUT = pd.DataFrame(LUT, columns=[master]+list(offsets.keys()))\n",
    "    \n",
    "    timestamp_matrix = np.hstack((timestamps[master][...,np.newaxis], timestamp_matrix))\n",
    "    timestamp_matrix = pd.DataFrame(timestamp_matrix, columns=[master]+list(offsets.keys()))\n",
    "    #     df[master] = timestamps[master]\n",
    "    # df['timestamps'] = timestamps[master]\n",
    "    \n",
    "    return(LUT, timestamp_matrix)"
   ]
  },
  {
   "cell_type": "code",
   "execution_count": 16,
   "metadata": {},
   "outputs": [],
   "source": [
    "timestamps = get_timestamps(virmendir, datadir)"
   ]
  },
  {
   "cell_type": "code",
   "execution_count": 17,
   "metadata": {
    "scrolled": false
   },
   "outputs": [],
   "source": [
    "LUT, ts = align_signals_by_timestamps(timestamps, max_distance=7)"
   ]
  },
  {
   "cell_type": "code",
   "execution_count": 18,
   "metadata": {},
   "outputs": [
    {
     "name": "stdout",
     "output_type": "stream",
     "text": [
      "virmen : 0.000000\n",
      "eye : 0.214588\n",
      "left_ant : 0.192510\n",
      "left_post : 0.217020\n",
      "right_ant : 0.204248\n",
      "right_post : 0.197832\n",
      "virmen : 0.000000\n",
      "eye : 0.003026\n",
      "left_ant : 0.004425\n",
      "left_post : 0.004364\n",
      "right_ant : 0.004425\n",
      "right_post : 0.004485\n"
     ]
    }
   ],
   "source": [
    "for series in LUT:\n",
    "    print(series, ': %.6f' % (np.isnan(LUT[series].values).sum()/len(LUT)))\n",
    "    \n",
    "for series in LUT:\n",
    "    print(series, ': %.6f' % ((np.diff(LUT[series].values)==0).sum()/len(LUT)))"
   ]
  },
  {
   "cell_type": "code",
   "execution_count": 19,
   "metadata": {},
   "outputs": [
    {
     "name": "stdout",
     "output_type": "stream",
     "text": [
      "[ 113  232  306  383  352  373 2277  326  405  417  502  305  361  294\n",
      "  336  278  635  344  408  287  419  273  269  430  343  259  297  262\n",
      "  323  256  318  268  331  255  216  291  381  226  279  271  295  421\n",
      "  241  256  210  230  293  235  216  275  270  229  333  252  320  337\n",
      "  238  296  275  235  265  343  277  266  282  282  226  275  300  225\n",
      "  704  295  205  294  257  310  249  304  251  324  235  314  465  261\n",
      "  235  236  205  196  247  278  289  253  253  249  193  255  296  262\n",
      "  285  423  314  264  271  238  224  239  258  309  303  312  262  287\n",
      "  481  440  495  276  255  295  359  223  598  296  400  320  573  425\n",
      "  379  262  315  244  987  308  301  367  309  400  222  439  343  833\n",
      "  346  428 1197  309  468 1254  182  250  196  342  242  209 1654  393\n",
      "  283  311  671  452  890  385  309  888  325  349  212  436  264  227\n",
      "  276  200 1625  152  197  189  237  259  186  185  285  159  173  236\n",
      "  172  166  144  173  164  238  281  152  147]\n"
     ]
    }
   ],
   "source": [
    "trial_ends = np.where(np.diff(data['trialN'])==1)[0]+1\n",
    "trial_starts = np.concatenate(([0],trial_ends[:-1]))\n",
    "trial_lengths = trial_ends-trial_starts\n",
    "print(trial_lengths)"
   ]
  },
  {
   "cell_type": "code",
   "execution_count": 20,
   "metadata": {},
   "outputs": [
    {
     "name": "stdout",
     "output_type": "stream",
     "text": [
      "[0.05457227 0.04022989 0.11165577 0.22976501 0.03125    0.26094727\n",
      " 0.15795638 0.02351738 0.26090535 0.0363709  0.19654714 0.02185792\n",
      " 0.25069252 0.02494331 0.2594246  0.03297362 0.1847769  0.09786822\n",
      " 0.45833333 0.21835075 0.0433572  0.15567766 0.17967782 0.13527132\n",
      " 0.18318756 0.48906049 0.12906846 0.02290076 0.29463364 0.07877604\n",
      " 0.18134172 0.07089552 0.03121853 0.3379085  0.02083333 0.02348225\n",
      " 0.24540682 0.01917404 0.02807646 0.31303813 0.11920904 0.13420428\n",
      " 0.32157676 0.45247396 0.47063492 0.02536232 0.02559727 0.40921986\n",
      " 0.03935185 0.02060606 0.05432099 0.44468705 0.12162162 0.37037037\n",
      " 0.02447917 0.31948566 0.02240896 0.02421171 0.25151515 0.19361702\n",
      " 0.16981132 0.12293489 0.36702768 0.04385965 0.02186761 0.05851064\n",
      " 0.47345133 0.48       0.18222222 0.21703704 0.19223485 0.38587571\n",
      " 0.06666667 0.07199546 0.02658885 0.07526882 0.56291834 0.12664474\n",
      " 0.02722444 0.11985597 0.36099291 0.03768577 0.18781362 0.02490421\n",
      " 0.13546099 0.25       0.02357724 0.01955782 0.18825911 0.01918465\n",
      " 0.05824683 0.35638999 0.15349144 0.08902276 0.17702936 0.30261438\n",
      " 0.21790541 0.37340967 0.0251462  0.18833727 0.11677282 0.04229798\n",
      " 0.3296433  0.45938375 0.12276786 0.32357043 0.19767442 0.18824164\n",
      " 0.45764576 0.17681624 0.206743   0.4825784  0.13132363 0.34469697\n",
      " 0.25488215 0.08091787 0.04509804 0.36666667 0.03064067 0.06278027\n",
      " 0.16164994 0.03603604 0.2675     0.12760417 0.10762071 0.23568627\n",
      " 0.02286719 0.36895674 0.07037037 0.02185792 0.23944613 0.0297619\n",
      " 0.02713178 0.02452316 0.01995685 0.29041667 0.07132132 0.18109339\n",
      " 0.35422741 0.2204882  0.38680154 0.07242991 0.1743247  0.10841424\n",
      " 0.30306268 0.11044657 0.20604396 0.26866667 0.02210884 0.23001949\n",
      " 0.22038567 0.26953748 0.12031439 0.31933842 0.02532391 0.05251876\n",
      " 0.26527571 0.02617994 0.1829588  0.25627706 0.28640777 0.10810811\n",
      " 0.33435897 0.16618911 0.15801887 0.3574159  0.18686869 0.18428781\n",
      " 0.4281401  0.03916667 0.13169231 0.08333333 0.4179357  0.02821869\n",
      " 0.04571027 0.06885457 0.53853047 0.08108108 0.0754386  0.05345912\n",
      " 0.03853565 0.03672316 0.04069767 0.47891566 0.08564815 0.02408478\n",
      " 0.02337398 0.19467787 0.14768683 0.06578947 0.0170068 ]\n"
     ]
    }
   ],
   "source": [
    "nans = []\n",
    "for i in range(len(trial_ends)):\n",
    "    inds = range(trial_starts[i], trial_ends[i])\n",
    "    chunk = LUT.iloc[inds]\n",
    "    nans.append(np.isnan(chunk.values.flatten()).sum()/chunk.size)\n",
    "nans = np.array(nans)\n",
    "print(nans)"
   ]
  },
  {
   "cell_type": "code",
   "execution_count": 21,
   "metadata": {},
   "outputs": [],
   "source": [
    "trialnum = 4\n",
    "start = trial_starts[trialnum]\n",
    "end = trial_ends[trialnum]\n",
    "inds = range(start,end)\n",
    "\n",
    "roll = data['velocity0'][inds]\n",
    "pitch = data['velocity1'][inds]\n",
    "yaw = data['velocity3'][inds]\n",
    "x = data['position0'][inds]\n",
    "y = data['position1'][inds]\n",
    "view = data['position3'][inds]"
   ]
  },
  {
   "cell_type": "code",
   "execution_count": 22,
   "metadata": {},
   "outputs": [],
   "source": [
    "plt.style.use('ggplot')"
   ]
  },
  {
   "cell_type": "code",
   "execution_count": 23,
   "metadata": {},
   "outputs": [
    {
     "data": {
      "image/png": "[encoded data removed]",
      "text/plain": [
       "<Figure size 864x720 with 1 Axes>"
      ]
     },
     "metadata": {},
     "output_type": "display_data"
    }
   ],
   "source": [
    "fig, ax = plt.subplots(1,1, figsize=(12,10))\n",
    "# x = range(24000,25000)\n",
    "# ax.plot(inds, roll)\n",
    "# ax.plot(inds,view)\n",
    "ax.plot(x,y)\n",
    "# ax.set_aspect('equal')\n",
    "plt.show()"
   ]
  },
  {
   "cell_type": "code",
   "execution_count": 24,
   "metadata": {},
   "outputs": [],
   "source": [
    "def get_frames_by_index(camfiles, LUT, index, blank_frame=False, shape=(480,640)):\n",
    "    lefts = []\n",
    "    rights = []\n",
    "    row = LUT.iloc[index,:]\n",
    "    # t = np.datetime64(row['timestamps'])\n",
    "    for camname, file in camfiles.items():\n",
    "        camind = row[camname]\n",
    "        if not np.isnan(camind):\n",
    "            camind = int(camind)\n",
    "            with h5py.File(file, 'r') as f:\n",
    "                left = cv2.imdecode(f['left'][camind],0)\n",
    "                right = cv2.imdecode(f['right'][camind],0)\n",
    "        else:\n",
    "            if blank_frame:\n",
    "                if len(lefts)> 0:\n",
    "                    left = np.zeros_like(lefts[0])\n",
    "                    right = np.zeros_like(rights[0])\n",
    "                else:\n",
    "                    left = np.zeros(shape, dtype=np.uint8)\n",
    "                    right = np.zeros(shape, dtype=np.uint8)\n",
    "            else:\n",
    "                left, right = None, None\n",
    "        lefts.append(left)\n",
    "        rights.append(right)\n",
    "    return(lefts, rights)"
   ]
  },
  {
   "cell_type": "code",
   "execution_count": 25,
   "metadata": {},
   "outputs": [],
   "source": [
    "width = 640\n",
    "height=480\n",
    "save = False\n",
    "preview = True\n",
    "fps = 30\n",
    "mouse = 'JB042'"
   ]
  },
  {
   "cell_type": "code",
   "execution_count": 26,
   "metadata": {},
   "outputs": [
    {
     "name": "stdout",
     "output_type": "stream",
     "text": [
      "1034\n",
      "1035\n",
      "1036\n",
      "1037\n",
      "1038\n",
      "1039\n",
      "1040\n",
      "1041\n",
      "1042\n",
      "1043\n",
      "1044\n",
      "1045\n",
      "1046\n",
      "1047\n",
      "1048\n",
      "1049\n",
      "1050\n",
      "1051\n",
      "1052\n",
      "1053\n",
      "1054\n",
      "1055\n",
      "1056\n",
      "1057\n",
      "1058\n",
      "1059\n",
      "1060\n",
      "1061\n",
      "1062\n",
      "1063\n",
      "1064\n",
      "1065\n",
      "1066\n",
      "1067\n",
      "1068\n",
      "1069\n",
      "1070\n",
      "1071\n",
      "1072\n",
      "1073\n",
      "1074\n",
      "1075\n",
      "1076\n",
      "1077\n",
      "1078\n",
      "1079\n",
      "1080\n",
      "1081\n",
      "1082\n",
      "1083\n",
      "1084\n",
      "User stopped\n"
     ]
    }
   ],
   "source": [
    "N_cams = 4\n",
    "framesize = (width*4, height*2)\n",
    "\n",
    "# startind = indices[0]\n",
    "# endind = indices[-1]\n",
    "if preview:\n",
    "#     cv2.namedWindow('Realsense', cv2.WINDOW_AUTOSIZE)\n",
    "#     cv2.namedWindow('Flea', cv2.WINDOW_AUTOSIZE)\n",
    "    cv2.namedWindow('Joined', cv2.WINDOW_AUTOSIZE)\n",
    "    waittime = int(1000/fps)\n",
    "if save:\n",
    "    outdir = os.path.join(datadir, 'examples')\n",
    "    if not os.path.isdir(outdir):\n",
    "        os.makedirs(outdir)\n",
    "    fourcc = cv2.VideoWriter_fourcc(*'DIVX')\n",
    "    filename = '%s_%07d_%07d.avi' %(mouse, startind, endind)\n",
    "    writer = cv2.VideoWriter(os.path.join(outdir, filename),fourcc, fps, framesize)\n",
    "try:\n",
    "    oldlefts = [np.zeros((height,width), dtype=np.uint8) for i in range(N_cams)]\n",
    "    oldrights = [np.zeros((height,width), dtype=np.uint8) for i in range(N_cams)]\n",
    "    for i in inds:\n",
    "        t0 = time.perf_counter()\n",
    "        \n",
    "        lefts, rights = get_frames_by_index(camfiles, LUT, i, blank_frame=False,\n",
    "                                           shape=(height,width))\n",
    "        for j in range(N_cams):\n",
    "            if lefts[j] is None:\n",
    "                lefts[j] = oldlefts[j]\n",
    "            if rights[j] is None:\n",
    "                rights[j] = oldrights[j]\n",
    "        \n",
    "        top = np.hstack(lefts)\n",
    "        bottom = np.hstack(rights)\n",
    "        out = np.vstack((top,bottom))\n",
    "\n",
    "        #         r = np.hstack((r_l, r_r))\n",
    "        #         f = np.hstack((f_l, f_r))\n",
    "\n",
    "        #         rheight, rwidth = r.shape\n",
    "        #         fheight, fwidth = f.shape\n",
    "        #         out_width = int(fwidth)\n",
    "        #         out_height = int(fwidth/rwidth*rheight)\n",
    "        #         out = np.vstack((cv2.resize(r,(out_width,out_height)),\n",
    "        #                         f))\n",
    "        oldlefts = lefts\n",
    "        oldrights = rights\n",
    "        out = cv2.cvtColor(out, cv2.COLOR_GRAY2RGB)\n",
    "        text = '%s:%07d' %(mouse, i)\n",
    "        cv2.putText(out, text, (50,out.shape[0]-50),\n",
    "                   fontFace=cv2.FONT_HERSHEY_SIMPLEX,fontScale=1,\n",
    "                   color=(0,0,255),thickness=1,lineType=cv2.LINE_AA)\n",
    "        if save:\n",
    "            writer.write(out)\n",
    "        print(i)\n",
    "        if preview:\n",
    "            # cv2.imshow('Realsense', r)\n",
    "            # cv2.imshow('Flea',f)\n",
    "            cv2.imshow('Joined', out)\n",
    "            elapsed = int((time.perf_counter() - t0)*1000)\n",
    "\n",
    "            key = cv2.waitKey(max([1,elapsed]))\n",
    "            if key==27:\n",
    "                print('User stopped')\n",
    "                break\n",
    "                # raise KeyboardInterrupt\n",
    "except BaseException as e:\n",
    "    print(e.message)\n",
    "finally:\n",
    "    if preview:\n",
    "        cv2.destroyAllWindows()\n",
    "    if save:\n",
    "        writer.release()"
   ]
  },
  {
   "cell_type": "code",
   "execution_count": 30,
   "metadata": {},
   "outputs": [],
   "source": [
    "def fig_to_img(fig_handle):\n",
    "    # should do nothing if already drawn\n",
    "    fig_handle.canvas.draw()\n",
    "    # from stack overflow\n",
    "    data = np.array(fig_handle.canvas.renderer._renderer)[:,:,0:3]\n",
    "    return(data)"
   ]
  },
  {
   "cell_type": "code",
   "execution_count": 33,
   "metadata": {},
   "outputs": [],
   "source": [
    "%matplotlib qt5"
   ]
  },
  {
   "cell_type": "code",
   "execution_count": 56,
   "metadata": {
    "scrolled": false
   },
   "outputs": [],
   "source": [
    "preview = True\n",
    "save = True\n",
    "animate = True\n",
    "\n",
    "linelength=2\n",
    "fontsize=12\n",
    "fontweight= 'bold'\n",
    "view = data['position3'][inds]\n",
    "view = -view\n",
    "fig = plt.figure(figsize=(16,6))\n",
    "fig.clf()\n",
    "# scatters = animation_init()\n",
    "# anim = FuncAnimation(fig, animate, init_func=animation_init,\n",
    "#                                frames=len(x), interval=20, blit=True)\n",
    "ax = [plt.subplot2grid((2,3), (0,0),colspan=3)]\n",
    "ax += [plt.subplot2grid((2,3), (1,i)) for i in range(3)]\n",
    "\n",
    "ax[0].plot(y,x)\n",
    "ax[0].set_aspect('equal')\n",
    "ax[1].plot(inds,pitch)\n",
    "ax[2].plot(inds,roll)\n",
    "ax[3].plot(inds,yaw)\n",
    "    \n",
    "scatters = []\n",
    "scatter, = ax[0].plot(y[0],x[0],'rx')\n",
    "scatters.append(scatter)\n",
    "\n",
    "xcomp = np.sin(view)\n",
    "ycomp = np.cos(view)\n",
    "# quiver = ax[0].quiver(y[0:1],x[0:1],xcomp[0:1],ycomp[0:1])\n",
    "startx = x[0]-xcomp[0]*linelength/2\n",
    "endx =  x[0]+xcomp[0]*linelength/2\n",
    "starty = y[0] - ycomp[0]*linelength/2\n",
    "endy = y[0]+ycomp[0]*linelength/2\n",
    "# this_y = y[0]+ycomp[0]*linelength\n",
    "line,  = ax[0].plot([starty,endy], [startx,endx],'k-')\n",
    "linehead, = ax[0].plot(endy, endx, 'ro')\n",
    "\n",
    "scatter, = ax[1].plot(inds[0],pitch[0],'ro')\n",
    "scatters.append(scatter)\n",
    "ax[1].set_ylabel('Pitch', fontsize=fontsize, fontweight=fontweight)\n",
    "\n",
    "scatter, = ax[2].plot(inds[0],roll[0],'ro')\n",
    "scatters.append(scatter)\n",
    "ax[2].set_ylabel('Roll', fontsize=fontsize, fontweight=fontweight)\n",
    "\n",
    "scatter, = ax[3].plot(inds[0],yaw[0],'ro')\n",
    "scatters.append(scatter)\n",
    "ax[3].set_ylabel('Yaw', fontsize=fontsize, fontweight=fontweight)\n",
    "\n",
    "title = fig.suptitle('T:%04d' %0, fontsize=fontsize+8, fontweight=fontweight)\n",
    "plt.tight_layout()\n",
    "if animate:\n",
    "    for i in range(len(x)):\n",
    "        start_t = time.perf_counter()\n",
    "        \n",
    "        line.set_data([y[i]-ycomp[i]*linelength/2,y[i]+ycomp[i]*linelength/2],\n",
    "                     [x[i]-xcomp[i]*linelength/2,x[i]+xcomp[i]*linelength/2])\n",
    "        linehead.set_data(y[i]+ycomp[i]*linelength/2,x[i]+xcomp[i]*linelength/2)\n",
    "        scatters[0].set_data(y[i], x[i])\n",
    "        # scatters[0].set_markersize(i)\n",
    "        scatters[1].set_data(inds[i],pitch[i])\n",
    "        scatters[2].set_data(inds[i],roll[i])\n",
    "        scatters[3].set_data(inds[i],yaw[i])\n",
    "        title.set_text('T:%04d'%i)\n",
    "        img = fig_to_img(fig)\n",
    "        if i==0 and save:\n",
    "            # framesize = img.sha\n",
    "            outdir = os.path.join(datadir, 'examples')\n",
    "            if not os.path.isdir(outdir):\n",
    "                os.makedirs(outdir)\n",
    "            fourcc = cv2.VideoWriter_fourcc(*'DIVX')\n",
    "            filename = '%s_virmen_%07d_%07d.avi' %(mouse, inds[0], inds[-1])\n",
    "            H,W,C = img.shape\n",
    "            writer = cv2.VideoWriter(os.path.join(outdir, filename),fourcc, fps, (W,H))\n",
    "        if save:\n",
    "            writer.write(cv2.cvtColor(img, cv2.COLOR_RGB2BGR))\n",
    "        # plt.draw()\n",
    "        elapsed = time.perf_counter()-start_t\n",
    "        plt.pause(0.001)\n",
    "        \n",
    "else:\n",
    "    plt.show()\n",
    "if save:\n",
    "    writer.release()\n",
    "# plt.show()"
   ]
  },
  {
   "cell_type": "markdown",
   "metadata": {},
   "source": [
    "# Make eye video"
   ]
  },
  {
   "cell_type": "code",
   "execution_count": 59,
   "metadata": {},
   "outputs": [],
   "source": [
    "eye_inds = LUT['eye'].values[inds]"
   ]
  },
  {
   "cell_type": "code",
   "execution_count": 64,
   "metadata": {},
   "outputs": [],
   "source": [
    "eyefile = os.path.join(datadir, [i for i in files if i.endswith('eye.avi')][0])"
   ]
  },
  {
   "cell_type": "code",
   "execution_count": null,
   "metadata": {},
   "outputs": [],
   "source": []
  },
  {
   "cell_type": "code",
   "execution_count": 73,
   "metadata": {},
   "outputs": [],
   "source": [
    "preview = True\n",
    "save = True\n",
    "\n",
    "# N_cams = 1\n",
    "framesize = (640, 512)\n",
    "\n",
    "startind = int(eye_inds[0])\n",
    "endind = int(eye_inds[-1])\n",
    "\n",
    "reader = cv2.VideoCapture(eyefile)\n",
    "reader.set(cv2.CAP_PROP_POS_FRAMES, startind)\n",
    "\n",
    "if preview:\n",
    "#     cv2.namedWindow('Realsense', cv2.WINDOW_AUTOSIZE)\n",
    "#     cv2.namedWindow('Flea', cv2.WINDOW_AUTOSIZE)\n",
    "    cv2.namedWindow('Joined', cv2.WINDOW_AUTOSIZE)\n",
    "    waittime = int(1000/fps)\n",
    "if save:\n",
    "    outdir = os.path.join(datadir, 'examples')\n",
    "    if not os.path.isdir(outdir):\n",
    "        os.makedirs(outdir)\n",
    "    fourcc = cv2.VideoWriter_fourcc(*'DIVX')\n",
    "    filename = '%s_%07d_%07d_eyeexample.avi' %(mouse, startind, endind)\n",
    "    writer = cv2.VideoWriter(os.path.join(outdir, filename),fourcc, fps, framesize)\n",
    "\n",
    "try:\n",
    "    for i in range(0,len(eye_inds)):\n",
    "        t0 = time.perf_counter()\n",
    "        \n",
    "        ind = eye_inds[i]\n",
    "        if np.isnan(ind):\n",
    "            pass\n",
    "            # out = np.zeros_like(out)\n",
    "        else:\n",
    "            ret, out = reader.read()\n",
    "\n",
    "        # out = cv2.cvtColor(out, cv2.COLOR_GRAY2RGB)\n",
    "        text = '%s:%07d' %(mouse, i)\n",
    "        cv2.putText(out, text, (50,out.shape[0]-50),\n",
    "                   fontFace=cv2.FONT_HERSHEY_SIMPLEX,fontScale=1,\n",
    "                   color=(0,0,255),thickness=1,lineType=cv2.LINE_AA)\n",
    "        if save:\n",
    "            writer.write(out)\n",
    "\n",
    "        if preview:\n",
    "            # cv2.imshow('Realsense', r)\n",
    "            # cv2.imshow('Flea',f)\n",
    "            cv2.imshow('Joined', out)\n",
    "            elapsed = int((time.perf_counter() - t0)*1000)\n",
    "\n",
    "            key = cv2.waitKey(max([33,elapsed]))\n",
    "            if key==27:\n",
    "                print('User stopped')\n",
    "                break\n",
    "                # raise KeyboardInterrupt\n",
    "except BaseException as e:\n",
    "    print(e.message)\n",
    "finally:\n",
    "    if preview:\n",
    "        cv2.destroyAllWindows()\n",
    "    if save:\n",
    "        writer.release()\n",
    "    reader.release()"
   ]
  },
  {
   "cell_type": "markdown",
   "metadata": {},
   "source": [
    "# Make realsense video"
   ]
  },
  {
   "cell_type": "code",
   "execution_count": 75,
   "metadata": {
    "scrolled": true
   },
   "outputs": [
    {
     "name": "stdout",
     "output_type": "stream",
     "text": [
      "1034\n",
      "1035\n",
      "1036\n",
      "1037\n",
      "1038\n",
      "1039\n",
      "1040\n",
      "1041\n",
      "1042\n",
      "1043\n",
      "1044\n",
      "1045\n",
      "1046\n",
      "1047\n",
      "1048\n",
      "1049\n",
      "1050\n",
      "1051\n",
      "1052\n",
      "1053\n",
      "1054\n",
      "1055\n",
      "1056\n",
      "1057\n",
      "1058\n",
      "1059\n",
      "1060\n",
      "1061\n",
      "1062\n",
      "1063\n",
      "1064\n",
      "1065\n",
      "1066\n",
      "1067\n",
      "1068\n",
      "1069\n",
      "1070\n",
      "1071\n",
      "1072\n",
      "1073\n",
      "1074\n",
      "1075\n",
      "1076\n",
      "1077\n",
      "1078\n",
      "1079\n",
      "1080\n",
      "1081\n",
      "1082\n",
      "1083\n",
      "1084\n",
      "1085\n",
      "1086\n",
      "1087\n",
      "1088\n",
      "1089\n",
      "1090\n",
      "1091\n",
      "1092\n",
      "1093\n",
      "1094\n",
      "1095\n",
      "1096\n",
      "1097\n",
      "1098\n",
      "1099\n",
      "1100\n",
      "1101\n",
      "1102\n",
      "1103\n",
      "1104\n",
      "1105\n",
      "1106\n",
      "1107\n",
      "1108\n",
      "1109\n",
      "1110\n",
      "1111\n",
      "1112\n",
      "1113\n",
      "1114\n",
      "1115\n",
      "1116\n",
      "1117\n",
      "1118\n",
      "1119\n",
      "1120\n",
      "1121\n",
      "1122\n",
      "1123\n",
      "1124\n",
      "1125\n",
      "1126\n",
      "1127\n",
      "1128\n",
      "1129\n",
      "1130\n",
      "1131\n",
      "1132\n",
      "1133\n",
      "1134\n",
      "1135\n",
      "1136\n",
      "1137\n",
      "1138\n",
      "1139\n",
      "1140\n",
      "1141\n",
      "1142\n",
      "1143\n",
      "1144\n",
      "1145\n",
      "1146\n",
      "1147\n",
      "1148\n",
      "1149\n",
      "1150\n",
      "1151\n",
      "1152\n",
      "1153\n",
      "1154\n",
      "1155\n",
      "1156\n",
      "1157\n",
      "1158\n",
      "1159\n",
      "1160\n",
      "1161\n",
      "1162\n",
      "1163\n",
      "1164\n",
      "1165\n",
      "1166\n",
      "1167\n",
      "1168\n",
      "1169\n",
      "1170\n",
      "1171\n",
      "1172\n",
      "1173\n",
      "1174\n",
      "1175\n",
      "1176\n",
      "1177\n",
      "1178\n",
      "1179\n",
      "1180\n",
      "1181\n",
      "1182\n",
      "1183\n",
      "1184\n",
      "1185\n",
      "1186\n",
      "1187\n",
      "1188\n",
      "1189\n",
      "1190\n",
      "1191\n",
      "1192\n",
      "1193\n",
      "1194\n",
      "1195\n",
      "1196\n",
      "1197\n",
      "1198\n",
      "1199\n",
      "1200\n",
      "1201\n",
      "1202\n",
      "1203\n",
      "1204\n",
      "1205\n",
      "1206\n",
      "1207\n",
      "1208\n",
      "1209\n",
      "1210\n",
      "1211\n",
      "1212\n",
      "1213\n",
      "1214\n",
      "1215\n",
      "1216\n",
      "1217\n",
      "1218\n",
      "1219\n",
      "1220\n",
      "1221\n",
      "1222\n",
      "1223\n",
      "1224\n",
      "1225\n",
      "1226\n",
      "1227\n",
      "1228\n",
      "1229\n",
      "1230\n",
      "1231\n",
      "1232\n",
      "1233\n",
      "1234\n",
      "1235\n",
      "1236\n",
      "1237\n",
      "1238\n",
      "1239\n",
      "1240\n",
      "1241\n",
      "1242\n",
      "1243\n",
      "1244\n",
      "1245\n",
      "1246\n",
      "1247\n",
      "1248\n",
      "1249\n",
      "1250\n",
      "1251\n",
      "1252\n",
      "1253\n",
      "1254\n",
      "1255\n",
      "1256\n",
      "1257\n",
      "1258\n",
      "1259\n",
      "1260\n",
      "1261\n",
      "1262\n",
      "1263\n",
      "1264\n",
      "1265\n",
      "1266\n",
      "1267\n",
      "1268\n",
      "1269\n",
      "1270\n",
      "1271\n",
      "1272\n",
      "1273\n",
      "1274\n",
      "1275\n",
      "1276\n",
      "1277\n",
      "1278\n",
      "1279\n",
      "1280\n",
      "1281\n",
      "1282\n",
      "1283\n",
      "1284\n",
      "1285\n",
      "1286\n",
      "1287\n",
      "1288\n",
      "1289\n",
      "1290\n",
      "1291\n",
      "1292\n",
      "1293\n",
      "1294\n",
      "1295\n",
      "1296\n",
      "1297\n",
      "1298\n",
      "1299\n",
      "1300\n",
      "1301\n",
      "1302\n",
      "1303\n",
      "1304\n",
      "1305\n",
      "1306\n",
      "1307\n",
      "1308\n",
      "1309\n",
      "1310\n",
      "1311\n",
      "1312\n",
      "1313\n",
      "1314\n",
      "1315\n",
      "1316\n",
      "1317\n",
      "1318\n",
      "1319\n",
      "1320\n",
      "1321\n",
      "1322\n",
      "1323\n",
      "1324\n",
      "1325\n",
      "1326\n",
      "1327\n",
      "1328\n",
      "1329\n",
      "1330\n",
      "1331\n",
      "1332\n",
      "1333\n",
      "1334\n",
      "1335\n",
      "1336\n",
      "1337\n",
      "1338\n",
      "1339\n",
      "1340\n",
      "1341\n",
      "1342\n",
      "1343\n",
      "1344\n",
      "1345\n",
      "1346\n",
      "1347\n",
      "1348\n",
      "1349\n",
      "1350\n",
      "1351\n",
      "1352\n",
      "1353\n",
      "1354\n",
      "1355\n",
      "1356\n",
      "1357\n",
      "1358\n",
      "1359\n",
      "1360\n",
      "1361\n",
      "1362\n",
      "1363\n",
      "1364\n",
      "1365\n",
      "1366\n",
      "1367\n",
      "1368\n",
      "1369\n",
      "1370\n",
      "1371\n",
      "1372\n",
      "1373\n",
      "1374\n",
      "1375\n",
      "1376\n",
      "1377\n",
      "1378\n",
      "1379\n",
      "1380\n",
      "1381\n",
      "1382\n",
      "1383\n",
      "1384\n",
      "1385\n"
     ]
    }
   ],
   "source": [
    "preview = True\n",
    "save = True\n",
    "\n",
    "N_cams = 4\n",
    "framesize = (width*4, height*2)\n",
    "\n",
    "# startind = indices[0]\n",
    "# endind = indices[-1]\n",
    "if preview:\n",
    "#     cv2.namedWindow('Realsense', cv2.WINDOW_AUTOSIZE)\n",
    "#     cv2.namedWindow('Flea', cv2.WINDOW_AUTOSIZE)\n",
    "    cv2.namedWindow('Joined', cv2.WINDOW_AUTOSIZE)\n",
    "    waittime = int(1000/fps)\n",
    "if save:\n",
    "    outdir = os.path.join(datadir, 'examples')\n",
    "    if not os.path.isdir(outdir):\n",
    "        os.makedirs(outdir)\n",
    "    fourcc = cv2.VideoWriter_fourcc(*'DIVX')\n",
    "    filename = '%s_%07d_%07d_realsenseexample.avi' %(mouse, startind, endind)\n",
    "    writer = cv2.VideoWriter(os.path.join(outdir, filename),fourcc, fps, framesize)\n",
    "try:\n",
    "    oldlefts = [np.zeros((height,width), dtype=np.uint8) for i in range(N_cams)]\n",
    "    oldrights = [np.zeros((height,width), dtype=np.uint8) for i in range(N_cams)]\n",
    "    for i in inds:\n",
    "        t0 = time.perf_counter()\n",
    "        \n",
    "        lefts, rights = get_frames_by_index(camfiles, LUT, i, blank_frame=False,\n",
    "                                           shape=(height,width))\n",
    "        for j in range(N_cams):\n",
    "            if lefts[j] is None:\n",
    "                lefts[j] = oldlefts[j]\n",
    "            if rights[j] is None:\n",
    "                rights[j] = oldrights[j]\n",
    "        \n",
    "        top = np.hstack(lefts)\n",
    "        bottom = np.hstack(rights)\n",
    "        out = np.vstack((top,bottom))\n",
    "\n",
    "        oldlefts = lefts\n",
    "        oldrights = rights\n",
    "        out = cv2.cvtColor(out, cv2.COLOR_GRAY2RGB)\n",
    "        text = '%s:%07d' %(mouse, i)\n",
    "        cv2.putText(out, text, (50,out.shape[0]-50),\n",
    "                   fontFace=cv2.FONT_HERSHEY_SIMPLEX,fontScale=1,\n",
    "                   color=(0,0,255),thickness=1,lineType=cv2.LINE_AA)\n",
    "        if save:\n",
    "            writer.write(out)\n",
    "        # print(i)\n",
    "        if preview:\n",
    "            # cv2.imshow('Realsense', r)\n",
    "            # cv2.imshow('Flea',f)\n",
    "            cv2.imshow('Joined', out)\n",
    "            elapsed = int((time.perf_counter() - t0)*1000)\n",
    "\n",
    "            key = cv2.waitKey(max([1,elapsed]))\n",
    "            if key==27:\n",
    "                print('User stopped')\n",
    "                break\n",
    "                # raise KeyboardInterrupt\n",
    "except BaseException as e:\n",
    "    print(e.message)\n",
    "finally:\n",
    "    if preview:\n",
    "        cv2.destroyAllWindows()\n",
    "    if save:\n",
    "        writer.release()"
   ]
  },
  {
   "cell_type": "code",
   "execution_count": null,
   "metadata": {},
   "outputs": [],
   "source": []
  },
  {
   "cell_type": "code",
   "execution_count": null,
   "metadata": {},
   "outputs": [],
   "source": []
  },
  {
   "cell_type": "code",
   "execution_count": null,
   "metadata": {},
   "outputs": [],
   "source": []
  },
  {
   "cell_type": "code",
   "execution_count": null,
   "metadata": {},
   "outputs": [],
   "source": []
  },
  {
   "cell_type": "code",
   "execution_count": null,
   "metadata": {},
   "outputs": [],
   "source": []
  },
  {
   "cell_type": "code",
   "execution_count": null,
   "metadata": {},
   "outputs": [],
   "source": []
  },
  {
   "cell_type": "code",
   "execution_count": null,
   "metadata": {},
   "outputs": [],
   "source": []
  },
  {
   "cell_type": "code",
   "execution_count": null,
   "metadata": {},
   "outputs": [],
   "source": []
  },
  {
   "cell_type": "code",
   "execution_count": null,
   "metadata": {},
   "outputs": [],
   "source": []
  },
  {
   "cell_type": "code",
   "execution_count": null,
   "metadata": {},
   "outputs": [],
   "source": []
  },
  {
   "cell_type": "code",
   "execution_count": null,
   "metadata": {},
   "outputs": [],
   "source": []
  },
  {
   "cell_type": "code",
   "execution_count": null,
   "metadata": {},
   "outputs": [],
   "source": []
  },
  {
   "cell_type": "code",
   "execution_count": null,
   "metadata": {},
   "outputs": [],
   "source": [
    "with h5py.File(master, 'r') as f:\n",
    "    framecounts = f['framecount'][:]\n",
    "delta = np.diff(framecounts)\n",
    "print(np.sum(delta>1.5)/delta.size)"
   ]
  },
  {
   "cell_type": "code",
   "execution_count": null,
   "metadata": {},
   "outputs": [],
   "source": [
    "for file in files:\n",
    "    # hack to find camera files\n",
    "    if not file.endswith('t.h5'):\n",
    "        continue\n",
    "    with h5py.File(file, 'r') as f:\n",
    "        framecounts = f['framecount'][:]\n",
    "        timestamps = ms_from_start(timestamp_to_numpy(f['timestamp'][:]))\n",
    "    delta = np.diff(framecounts)\n",
    "    dropped_frame_prop = np.sum(delta>1.5)/delta.size\n",
    "    delta = np.diff(timestamps)\n",
    "    dropped_frame_time = np.sum(delta>20)/delta.size\n",
    "    print('%s: Frame count:%.04f Timestamp:%.04f' %(os.path.basename(file), \n",
    "                                                    dropped_frame_prop,\n",
    "                                                   dropped_frame_time))"
   ]
  },
  {
   "cell_type": "code",
   "execution_count": null,
   "metadata": {},
   "outputs": [],
   "source": [
    "inds = range(10000)\n",
    "with h5py.File(master, 'r') as h5file:\n",
    "    brightness = get_mean_brightness(h5file, inds)"
   ]
  },
  {
   "cell_type": "code",
   "execution_count": null,
   "metadata": {},
   "outputs": [],
   "source": [
    "brightnesses = {}\n",
    "frames = {}\n",
    "timestamps = {}\n",
    "sestimes = {}\n",
    "for file in files:\n",
    "    if not file.endswith('t.h5'):\n",
    "        continue\n",
    "    with h5py.File(file, 'r') as f:\n",
    "        inds = range(0, len(f['left']))\n",
    "        brightness = get_mean_brightness(f, inds)\n",
    "        framecounts = f['framecount'][:]\n",
    "        timestamp = timestamp_to_numpy(f['timestamp'][:])\n",
    "        sestime = f['sestime'][:]\n",
    "    key = os.path.basename(file)[:-3]\n",
    "    brightnesses[key] = brightness\n",
    "    frames[key] = framecounts\n",
    "    timestamps[key] = timestamp\n",
    "    sestimes[key]  = sestime\n",
    "    \n",
    "# correct a weird error\n",
    "brightnesses['left_ant'][11661] = 0.169"
   ]
  },
  {
   "cell_type": "code",
   "execution_count": null,
   "metadata": {},
   "outputs": [],
   "source": [
    "savgol_filter()"
   ]
  },
  {
   "cell_type": "code",
   "execution_count": null,
   "metadata": {},
   "outputs": [],
   "source": []
  },
  {
   "cell_type": "code",
   "execution_count": null,
   "metadata": {},
   "outputs": [],
   "source": [
    "cams = ['left_ant', 'left_post', 'right_ant','right_post']"
   ]
  },
  {
   "cell_type": "code",
   "execution_count": null,
   "metadata": {},
   "outputs": [],
   "source": [
    "WINDOW_SIZE=3\n",
    "\n",
    "fig, ax = plt.subplots(2,1, figsize=(12,12))\n",
    "N = 200\n",
    "# startind = np.random.randint(len(brightnesses['left_ant']-N))\n",
    "startind = 11550\n",
    "inds = range(startind,startind+N)\n",
    "\n",
    "for cam in cams:\n",
    "    array = savgol_filter(brightnesses[cam][inds],window_length=3,polyorder=1)\n",
    "    # array = brightnesses[cam][inds]\n",
    "    ax[0].plot(inds,array)\n",
    "    ax[1].plot(inds[:-1],np.diff(array))\n",
    "\n",
    "ax[0].legend(['left_ant', 'left_post', 'right_ant', 'right_post'])\n",
    "ax[0].set_ylabel('Mean brightness per pixel')\n",
    "ax[0].set_xlabel('legend')\n",
    "\n",
    "ax[1].legend(['left_ant', 'left_post', 'right_ant', 'right_post'])\n",
    "ax[1].set_ylabel('Mean brightness per pixel')\n",
    "ax[1].set_xlabel('legend')\n",
    "# ax[1].set_ylim([-50,50])\n",
    "\n",
    "plt.show()"
   ]
  },
  {
   "cell_type": "code",
   "execution_count": null,
   "metadata": {},
   "outputs": [],
   "source": [
    "fig, ax = plt.subplots(1,1, figsize=(12,6))\n",
    "# startind = np.random.randint(low=0,high=50000-N)\n",
    "N = 200\n",
    "# startind = np.random.randint(len(brightnesses['left_ant']-N))\n",
    "startind = 11550\n",
    "inds = range(startind,startind+N)\n",
    "# inds = range(1500,2500)\n",
    "LA = brightnesses['left_ant'][inds]\n",
    "LA_thresholded = LA>90\n",
    "ax.plot(inds,LA)\n",
    "ax.plot(inds,LA_thresholded*1)\n",
    "ax.legend(['original','thresholded'])\n",
    "plt.show()"
   ]
  },
  {
   "cell_type": "code",
   "execution_count": null,
   "metadata": {},
   "outputs": [],
   "source": [
    "thresholds = {}\n",
    "thresholds['left_ant'] = 80\n",
    "# doesn't work for some portions in the ~45000 range, nor 6000\n",
    "thresholds['left_post']= 80\n",
    "thresholds['right_ant'] = 80\n",
    "thresholds['right_post'] = 80"
   ]
  },
  {
   "cell_type": "code",
   "execution_count": null,
   "metadata": {},
   "outputs": [],
   "source": [
    "data = {}\n",
    "for cam in cams:\n",
    "    data[cam]= (savgol_filter(brightnesses[cam],\n",
    "                            window_length=5,polyorder=1) > thresholds[cam]).astype(np.float32)"
   ]
  },
  {
   "cell_type": "code",
   "execution_count": null,
   "metadata": {},
   "outputs": [],
   "source": [
    "WINDOW_SIZE=3\n",
    "\n",
    "fig, ax = plt.subplots(2,1, figsize=(12,12))\n",
    "N = 2000\n",
    "# startind = np.random.randint(low=0,high=55000-N)\n",
    "startind=11000\n",
    "inds = range(startind,startind+N)\n",
    "\n",
    "for cam in cams:\n",
    "    y = data[cam][inds]\n",
    "    ax[0].plot(inds, y)\n",
    "    ax[1].plot(inds[1:],np.diff(y))\n",
    "\n",
    "ax[0].legend(['left_ant', 'left_post', 'right_ant', 'right_post'])\n",
    "ax[0].set_ylabel('Thresholded brightness')\n",
    "ax[0].set_xlabel('inds')\n",
    "\n",
    "# y1 = np.diff(LA)\n",
    "# ax[1].plot(inds[:-1], y1)\n",
    "# y2 = np.diff(LP)\n",
    "# ax[1].plot(inds[:-1], y2)\n",
    "# y3 = np.diff(RA)\n",
    "# ax[1].plot(inds[:-1], y3)\n",
    "# y4 = np.diff(RP)\n",
    "# ax[1].plot(inds[:-1], y4)\n",
    "ax[1].legend(['left_ant', 'left_post', 'right_ant', 'right_post'])\n",
    "ax[1].set_ylabel('Mean brightness per pixel')\n",
    "ax[1].set_xlabel('inds')\n",
    "# ax[1].set_ylim([-50,50])\n",
    "\n",
    "plt.show()"
   ]
  },
  {
   "cell_type": "code",
   "execution_count": null,
   "metadata": {},
   "outputs": [],
   "source": [
    "import scipy.signal as signal"
   ]
  },
  {
   "cell_type": "code",
   "execution_count": null,
   "metadata": {},
   "outputs": [],
   "source": [
    "master = data['right_post']\n",
    "inds = range(0,50000)\n",
    "y1 = data['left_ant'][inds].astype(np.float64)\n",
    "y2 = master[inds].astype(np.float64)\n",
    "maxlags = 1000\n",
    "fig, ax = plt.subplots(1,1)\n",
    "\n",
    "lags, corr, _, _ = plt.xcorr(y1,y2, maxlags=maxlags)\n",
    "# corr = signal.correlate(y1, y2, mode='full')\n"
   ]
  },
  {
   "cell_type": "code",
   "execution_count": null,
   "metadata": {},
   "outputs": [],
   "source": [
    "onsets = frames['right_post'][np.where(np.diff(data['right_post'])==1)[0]]\n",
    "offsets = frames['right_post'][np.where(np.diff(data['right_post'])==-1)[0]]\n",
    "\n",
    "cam = 'left_ant'\n",
    "onsets2 = frames[cam][np.where(np.diff(data[cam])==1)[0]]\n",
    "offsets2 = frames[cam][np.where(np.diff(data[cam])==-1)[0]]"
   ]
  },
  {
   "cell_type": "code",
   "execution_count": null,
   "metadata": {},
   "outputs": [],
   "source": [
    "# verify that it works\n",
    "ind = 0\n",
    "buffer = 100\n",
    "\n",
    "start = min(onsets[ind], onsets2[ind])-buffer\n",
    "end = max(offsets[ind+1],offsets2[ind+1])+buffer\n",
    "inds = range(start,end)\n",
    "\n",
    "fig, ax = plt.subplots(1,1,figsize=(5,5))\n",
    "ax.plot(frames['right_post'][inds],data['right_post'][inds])\n",
    "ax.plot(frames['left_ant'][inds],data['left_ant'][inds])\n",
    "ax.legend(['right_post','left_ant'])\n",
    "ax.set_xlabel('frames according to realsense')\n",
    "ax.set_ylabel('Processed mean brightness')\n",
    "plt.show()"
   ]
  },
  {
   "cell_type": "code",
   "execution_count": null,
   "metadata": {},
   "outputs": [],
   "source": [
    "cam = 'right_post'\n",
    "onsets =frames[cam][np.where(np.diff(data[cam])==1)[0]]\n",
    "offsets = frames[cam][np.where(np.diff(data[cam])==-1)[0]]\n",
    "\n",
    "cam = 'left_ant'\n",
    "onsets2 = frames[cam][np.where(np.diff(data[cam])==1)[0]]\n",
    "offsets2 = frames[cam][np.where(np.diff(data[cam])==-1)[0]]\n",
    "\n",
    "print('onsets: ', onsets.size, onsets2.size)\n",
    "print('offsets:', offsets.size, offsets2.size)"
   ]
  },
  {
   "cell_type": "code",
   "execution_count": null,
   "metadata": {},
   "outputs": [],
   "source": [
    "onsets2.size"
   ]
  },
  {
   "cell_type": "code",
   "execution_count": null,
   "metadata": {},
   "outputs": [],
   "source": [
    "cam = 'right_post'\n",
    "onsets =np.where(np.diff(data[cam])==1)[0]\n",
    "offsets = np.where(np.diff(data[cam])==-1)[0]\n",
    "\n",
    "cam = 'left_ant'\n",
    "onsets2 = np.where(np.diff(data[cam])==1)[0]\n",
    "offsets2 = np.where(np.diff(data[cam])==-1)[0]"
   ]
  },
  {
   "cell_type": "code",
   "execution_count": null,
   "metadata": {},
   "outputs": [],
   "source": [
    "print('Camera\\'s framecount when brightness increase was observed\\n')\n",
    "print(' Master', ' Slave', ' Diff')\n",
    "print(np.vstack((onsets, onsets2, onsets-onsets2)).T)"
   ]
  },
  {
   "cell_type": "code",
   "execution_count": null,
   "metadata": {},
   "outputs": [],
   "source": [
    "print(np.vstack((offsets, offsets2, offsets-offsets2)).T)"
   ]
  },
  {
   "cell_type": "code",
   "execution_count": null,
   "metadata": {},
   "outputs": [],
   "source": [
    "cam = 'right_post'\n",
    "onset_t = timestamps[cam][np.where(np.diff(data[cam])==1)[0]]\n",
    "offset_t = timestamps[cam][np.where(np.diff(data[cam])==-1)[0]]\n",
    "\n",
    "cam = 'left_post'\n",
    "onset_t2 = timestamps[cam][np.where(np.diff(data[cam])==1)[0]]\n",
    "offset_t2 = timestamps[cam][np.where(np.diff(data[cam])==-1)[0]]"
   ]
  },
  {
   "cell_type": "code",
   "execution_count": null,
   "metadata": {},
   "outputs": [],
   "source": [
    "print('Camera\\'s timestamp when brightness increase was observed\\n')\n",
    "print('     Master              Slave           Diff(ms)')\n",
    "for i in range(len(onset_t)):\n",
    "    ms_difference = (onset_t[i]-onset_t2[i]).astype(np.float32)/1000\n",
    "    ms_string = '{}'\n",
    "    print('%s     %s     % 07.3f' %(str(onset_t[i])[11:],\n",
    "                         str(onset_t2[i])[11:],\n",
    "                         ms_difference))\n",
    "    "
   ]
  },
  {
   "cell_type": "code",
   "execution_count": null,
   "metadata": {},
   "outputs": [],
   "source": [
    "onsets-(onsets[0]-onsets2[0])"
   ]
  },
  {
   "cell_type": "code",
   "execution_count": null,
   "metadata": {},
   "outputs": [],
   "source": [
    "onsets2"
   ]
  },
  {
   "cell_type": "code",
   "execution_count": null,
   "metadata": {},
   "outputs": [],
   "source": [
    "onsets2 - (onsets-307)[:len(onsets2)]"
   ]
  },
  {
   "cell_type": "code",
   "execution_count": null,
   "metadata": {},
   "outputs": [],
   "source": [
    "fig, ax = plt.subplots(1,1)\n",
    "inds=range(3000,8000)\n",
    "ax.plot(data['right_post'][inds])\n",
    "ax.plot(data['left_ant'][inds])\n",
    "plt.show()"
   ]
  },
  {
   "cell_type": "code",
   "execution_count": null,
   "metadata": {},
   "outputs": [],
   "source": [
    "corr.shape"
   ]
  },
  {
   "cell_type": "code",
   "execution_count": null,
   "metadata": {},
   "outputs": [],
   "source": []
  },
  {
   "cell_type": "code",
   "execution_count": null,
   "metadata": {},
   "outputs": [],
   "source": [
    "bins = np.linspace(-1,1,100)\n",
    "\n",
    "fig, ax = plt.subplots(2,2,figsize=(8,8))\n",
    "array = np.diff(smooth(zscore(brightnesses[left_ant][inds]),window_size=WINDOW_SIZE))\n",
    "histogram, bincenters = calculate_hist(array, bins)\n",
    "ax[0,0].plot(bincenters, histogram)\n",
    "ax[0,0].set_yscale('log')"
   ]
  },
  {
   "cell_type": "code",
   "execution_count": null,
   "metadata": {
    "scrolled": true
   },
   "outputs": [],
   "source": [
    "WINDOW_SIZE=3\n",
    "\n",
    "fig, ax = plt.subplots(2,1, figsize=(12,12))\n",
    "N = 5000\n",
    "# startind = np.random.randint(len(brightnesses['left_ant']-N))\n",
    "startind = 5000\n",
    "inds = range(startind,startind+N)\n",
    "\n",
    "for cam in cams:\n",
    "    x = frames[cam][inds]\n",
    "    array = savgol_filter(brightnesses[cam][inds],window_length=3,polyorder=1)\n",
    "    # array = brightnesses[cam][inds]\n",
    "    ax[0].plot(x,array)\n",
    "    ax[1].plot(x, data[cam][inds],alpha=0.8)\n",
    "    # ax[1].plot(inds[:-1],np.diff(array))\n",
    "\n",
    "ax[0].legend(['left_ant', 'left_post', 'right_ant', 'right_post'])\n",
    "ax[0].set_ylabel('Mean brightness per pixel')\n",
    "ax[0].set_xlabel('Frame counts')\n",
    "\n",
    "ax[1].legend(['left_ant', 'left_post', 'right_ant', 'right_post'])\n",
    "ax[1].set_ylabel('Cleaned brightness signal')\n",
    "ax[1].set_xlabel('Frame counts')\n",
    "# ax[1].set_ylim([-50,50])\n",
    "\n",
    "plt.show()"
   ]
  },
  {
   "cell_type": "markdown",
   "metadata": {},
   "source": [
    "Use timestamps for alignment. Above experiments with light show that the cameras timestamps are only off by <100 ms throughout the ten minutes of imaging. \n",
    "\n",
    "* Make a big array, with N rows, and N-cams+1 columns\n",
    "    * in the 0th row: `index of mastercam (so row number)`, `index of cam0 (NaN if DNE)`, `index of cam1`, `index of cam2`, `index of cam3`, `index of wavesurfer file corresponding to that frame`\n",
    "* for each frame in the mastercam (always the biggest N)\n",
    "    * find nearest frame in time in other 3 cams, within a given window (e.g. less than 1000 frames)\n",
    "        * if the nearest entry is < 6ms or whatever, match, and delete that entry so it can't be matched\n",
    "        * else, put a `NaN`\n"
   ]
  },
  {
   "cell_type": "code",
   "execution_count": null,
   "metadata": {},
   "outputs": [],
   "source": []
  },
  {
   "cell_type": "code",
   "execution_count": null,
   "metadata": {},
   "outputs": [],
   "source": [
    "filelist = {os.path.basename(i)[:-3]:i for i in files if i.endswith('t.h5')}"
   ]
  },
  {
   "cell_type": "code",
   "execution_count": null,
   "metadata": {},
   "outputs": [],
   "source": [
    "filelist"
   ]
  },
  {
   "cell_type": "code",
   "execution_count": null,
   "metadata": {},
   "outputs": [],
   "source": [
    "LUT = align_cameras_on_timestamps(filelist)"
   ]
  },
  {
   "cell_type": "code",
   "execution_count": null,
   "metadata": {},
   "outputs": [],
   "source": [
    "timestamps['left_post'][140]"
   ]
  },
  {
   "cell_type": "code",
   "execution_count": null,
   "metadata": {},
   "outputs": [],
   "source": [
    "timestamps['right_ant'][104]"
   ]
  },
  {
   "cell_type": "code",
   "execution_count": null,
   "metadata": {},
   "outputs": [],
   "source": [
    "timestamps['right_post'][399]"
   ]
  },
  {
   "cell_type": "code",
   "execution_count": null,
   "metadata": {},
   "outputs": [],
   "source": [
    "camera_LUT[295,:]"
   ]
  },
  {
   "cell_type": "markdown",
   "metadata": {},
   "source": [
    "# Use the camera LUT and brightnesses to verify alignment"
   ]
  },
  {
   "cell_type": "code",
   "execution_count": null,
   "metadata": {},
   "outputs": [],
   "source": [
    "increase = np.where(np.diff(data[master])>0.5)[0]"
   ]
  },
  {
   "cell_type": "code",
   "execution_count": null,
   "metadata": {},
   "outputs": [],
   "source": [
    "camera_LUT[index-100:index+10,:]"
   ]
  },
  {
   "cell_type": "code",
   "execution_count": null,
   "metadata": {},
   "outputs": [],
   "source": [
    "i = np.random.randint(low=0,high=len(increase)-1)\n",
    "index = int(increase[i])\n",
    "LA_i = int(camera_LUT[index,1])\n",
    "LP_i = int(camera_LUT[index,2])\n",
    "RA_i = int(camera_LUT[index,3])\n",
    "\n",
    "fig, ax = plt.subplots(1,1,figsize=(6,6))\n",
    "x = range(-window,window)\n",
    "ax.plot(x,brightnesses['left_ant'][LA_i-window:LA_i+window])\n",
    "ax.plot(x, brightnesses['left_post'][LP_i-window:LP_i+window])\n",
    "ax.plot(x, brightnesses['right_ant'][RA_i-window:RA_i+window])\n",
    "ax.plot(x,brightnesses[master][index-window:index+window])\n",
    "ax.legend(cams)\n",
    "ax.set_title('Brightness increment %d' %(i))\n",
    "ax.set_ylabel('Mean brightness (AU)')\n",
    "ax.set_xlabel('Frame around onset, aligned by timestamp')\n",
    "plt.show()"
   ]
  },
  {
   "cell_type": "code",
   "execution_count": null,
   "metadata": {},
   "outputs": [],
   "source": [
    "index"
   ]
  },
  {
   "cell_type": "code",
   "execution_count": null,
   "metadata": {},
   "outputs": [],
   "source": [
    "\n",
    "onsets"
   ]
  },
  {
   "cell_type": "code",
   "execution_count": null,
   "metadata": {},
   "outputs": [],
   "source": [
    "np.sum(np.isnan(camera_LUT[295:,:]))"
   ]
  },
  {
   "cell_type": "code",
   "execution_count": null,
   "metadata": {},
   "outputs": [],
   "source": [
    "slave = 'left_ant'\n",
    "snippet = np.abs((timestamps[slave][min_search:max_search]-t).astype(np.float32)/1000)"
   ]
  },
  {
   "cell_type": "code",
   "execution_count": null,
   "metadata": {},
   "outputs": [],
   "source": [
    "mint, argmin = snippet.min(), np.argmin(snippet)"
   ]
  },
  {
   "cell_type": "code",
   "execution_count": null,
   "metadata": {},
   "outputs": [],
   "source": [
    "mint, argmin"
   ]
  },
  {
   "cell_type": "code",
   "execution_count": null,
   "metadata": {},
   "outputs": [],
   "source": [
    "i-500+argmin"
   ]
  },
  {
   "cell_type": "code",
   "execution_count": null,
   "metadata": {},
   "outputs": [],
   "source": [
    "min_search+argmin"
   ]
  },
  {
   "cell_type": "code",
   "execution_count": null,
   "metadata": {},
   "outputs": [],
   "source": [
    "timestamps[slave][317]"
   ]
  },
  {
   "cell_type": "code",
   "execution_count": null,
   "metadata": {},
   "outputs": [],
   "source": [
    "(timestamps['left_ant'][min_search:max_search]-t).astype(np.float64)/1000"
   ]
  },
  {
   "cell_type": "code",
   "execution_count": null,
   "metadata": {},
   "outputs": [],
   "source": [
    "blah = timestamps[master]"
   ]
  },
  {
   "cell_type": "code",
   "execution_count": null,
   "metadata": {},
   "outputs": [],
   "source": [
    "np.where((np.diff(blah)/1000).astype(np.float32)>12)"
   ]
  },
  {
   "cell_type": "code",
   "execution_count": null,
   "metadata": {},
   "outputs": [],
   "source": [
    "blah[0]"
   ]
  },
  {
   "cell_type": "markdown",
   "metadata": {},
   "source": [
    "# Assuming the timestamps are a worthy synchronization signal"
   ]
  },
  {
   "cell_type": "code",
   "execution_count": null,
   "metadata": {},
   "outputs": [],
   "source": [
    "syncfile = [i for i in files if i.endswith('_0001.h5')][0]"
   ]
  },
  {
   "cell_type": "code",
   "execution_count": null,
   "metadata": {},
   "outputs": [],
   "source": [
    "with h5py.File(syncfile, 'r') as f:\n",
    "    V = f['sweep_0001/digitalScans'][:]"
   ]
  },
  {
   "cell_type": "code",
   "execution_count": null,
   "metadata": {},
   "outputs": [],
   "source": [
    "onsets = np.where(np.diff(V.astype(np.int16))>0.5)[1]"
   ]
  },
  {
   "cell_type": "code",
   "execution_count": null,
   "metadata": {},
   "outputs": [],
   "source": [
    "print(len(onsets), frames[master].size)"
   ]
  },
  {
   "cell_type": "code",
   "execution_count": null,
   "metadata": {},
   "outputs": [],
   "source": [
    "frames[master].max()"
   ]
  },
  {
   "cell_type": "code",
   "execution_count": null,
   "metadata": {},
   "outputs": [],
   "source": [
    "frames['right_post'][0]"
   ]
  },
  {
   "cell_type": "code",
   "execution_count": null,
   "metadata": {},
   "outputs": [],
   "source": [
    "frames['right_post'][-1]"
   ]
  },
  {
   "cell_type": "code",
   "execution_count": null,
   "metadata": {},
   "outputs": [],
   "source": [
    "np.diff(frames['right_ant']>1).sum()"
   ]
  },
  {
   "cell_type": "code",
   "execution_count": null,
   "metadata": {},
   "outputs": [],
   "source": [
    "np.sum(np.diff(V.astype(np.int16))>0.5)"
   ]
  },
  {
   "cell_type": "markdown",
   "metadata": {},
   "source": [
    "# Check image quality. Show example images. Make example movies"
   ]
  },
  {
   "cell_type": "code",
   "execution_count": null,
   "metadata": {},
   "outputs": [],
   "source": []
  },
  {
   "cell_type": "code",
   "execution_count": null,
   "metadata": {},
   "outputs": [],
   "source": []
  },
  {
   "cell_type": "code",
   "execution_count": null,
   "metadata": {},
   "outputs": [],
   "source": []
  },
  {
   "cell_type": "code",
   "execution_count": null,
   "metadata": {},
   "outputs": [],
   "source": []
  },
  {
   "cell_type": "code",
   "execution_count": null,
   "metadata": {},
   "outputs": [],
   "source": []
  },
  {
   "cell_type": "code",
   "execution_count": null,
   "metadata": {},
   "outputs": [],
   "source": []
  },
  {
   "cell_type": "code",
   "execution_count": null,
   "metadata": {},
   "outputs": [],
   "source": []
  },
  {
   "cell_type": "code",
   "execution_count": null,
   "metadata": {},
   "outputs": [],
   "source": [
    "def get_frames_by_index(camfiles, LUT, index, blank_frame=False, shape=(270,480)):\n",
    "    lefts = []\n",
    "    rights = []\n",
    "    row = LUT.iloc[index,:]\n",
    "    t = np.datetime64(row['timestamps'])\n",
    "    for camname, file in camfiles.items():\n",
    "        camind = row[camname]\n",
    "        if not np.isnan(camind):\n",
    "            camind = int(camind)\n",
    "            with h5py.File(file, 'r') as f:\n",
    "                left = cv2.imdecode(f['left'][camind],0)\n",
    "                right = cv2.imdecode(f['right'][camind],0)\n",
    "        else:\n",
    "            if blank_frame:\n",
    "                if len(lefts)> 0:\n",
    "                    left = np.zeros_like(lefts[0])\n",
    "                    right = np.zeros_like(rights[0])\n",
    "                else:\n",
    "                    left = np.zeros(shape, dtype=np.uint8)\n",
    "                    right = np.zeros(shape, dtype=np.uint8)\n",
    "            else:\n",
    "                left, right = None, None\n",
    "        lefts.append(left)\n",
    "        rights.append(right)\n",
    "            \n",
    "    return(lefts, rights)"
   ]
  },
  {
   "cell_type": "code",
   "execution_count": null,
   "metadata": {},
   "outputs": [],
   "source": []
  },
  {
   "cell_type": "code",
   "execution_count": null,
   "metadata": {},
   "outputs": [],
   "source": [
    "camfiles"
   ]
  },
  {
   "cell_type": "code",
   "execution_count": null,
   "metadata": {},
   "outputs": [],
   "source": [
    "camfiles = os.listdir(datadir)\n",
    "camfiles.sort()\n",
    "camfiles = {os.path.basename(i)[:-3]: os.path.join(datadir,i) for i in camfiles if i.endswith('t.h5')}\n",
    "\n",
    "LUT = align_cameras_on_timestamps(camfiles)"
   ]
  },
  {
   "cell_type": "code",
   "execution_count": null,
   "metadata": {},
   "outputs": [],
   "source": [
    "index = np.random.randint(low=0, high=len(LUT))\n",
    "lefts, rights = get_frames_by_index(camfiles, LUT, index)"
   ]
  },
  {
   "cell_type": "code",
   "execution_count": null,
   "metadata": {
    "scrolled": false
   },
   "outputs": [],
   "source": [
    "fig, ax = plt.subplots(2,4,figsize=(16,6))\n",
    "for i in range(4):\n",
    "    left = lefts[i]\n",
    "    right = rights[i]\n",
    "    if left is not None:\n",
    "        ax[0,i].imshow(left, 'gray')\n",
    "        ax[1,i].imshow(right,'gray')\n",
    "    else:\n",
    "        ax[0,i].remove()\n",
    "        ax[1,i].remove()\n",
    "    ax[0,i].grid(False)\n",
    "    ax[1,i].grid(False)\n",
    "fig.suptitle('%d'%index)\n",
    "plt.tight_layout()\n",
    "plt.show()\n",
    "    "
   ]
  },
  {
   "cell_type": "code",
   "execution_count": null,
   "metadata": {
    "scrolled": false
   },
   "outputs": [],
   "source": [
    "fig, ax = plt.subplots(1,1,figsize=(18,10))\n",
    "ax.imshow(lefts[3],'gray', interpolation='nearest')\n",
    "ax.grid(False)\n",
    "plt.show()"
   ]
  },
  {
   "cell_type": "code",
   "execution_count": null,
   "metadata": {},
   "outputs": [],
   "source": [
    "N=1800\n",
    "index = np.random.randint(low=0, high=len(LUT)-N)\n",
    "# index = 172014\n",
    "# index = 547\n",
    "indices = range(index, index+N)"
   ]
  },
  {
   "cell_type": "code",
   "execution_count": null,
   "metadata": {},
   "outputs": [],
   "source": [
    "preview = True\n",
    "save = False\n",
    "mouse = 'JB040'\n",
    "\n",
    "width = 480\n",
    "height = 270\n",
    "fps = 30"
   ]
  },
  {
   "cell_type": "code",
   "execution_count": null,
   "metadata": {},
   "outputs": [],
   "source": [
    "N_cams = 4\n",
    "framesize = (width*4, height*2)\n",
    "\n",
    "startind = indices[0]\n",
    "endind = indices[-1]\n",
    "if preview:\n",
    "#     cv2.namedWindow('Realsense', cv2.WINDOW_AUTOSIZE)\n",
    "#     cv2.namedWindow('Flea', cv2.WINDOW_AUTOSIZE)\n",
    "    cv2.namedWindow('Joined', cv2.WINDOW_AUTOSIZE)\n",
    "    waittime = int(1000/fps)\n",
    "if save:\n",
    "    outdir = os.path.join(datadir, 'examples')\n",
    "    if not os.path.isdir(outdir):\n",
    "        os.makedirs(outdir)\n",
    "    fourcc = cv2.VideoWriter_fourcc(*'DIVX')\n",
    "    filename = '%s_%07d_%07d.avi' %(mouse, startind, endind)\n",
    "    writer = cv2.VideoWriter(os.path.join(outdir, filename),fourcc, fps, framesize)\n",
    "try:\n",
    "    for i in range(startind,endind):\n",
    "        t0 = time.perf_counter()\n",
    "        \n",
    "        lefts, rights = get_frames_by_index(camfiles, LUT, i, blank_frame=True,\n",
    "                                           shape=(height,width))\n",
    "        top = np.hstack(lefts)\n",
    "        bottom = np.hstack(rights)\n",
    "        out = np.vstack((top,bottom))\n",
    "\n",
    "        #         r = np.hstack((r_l, r_r))\n",
    "        #         f = np.hstack((f_l, f_r))\n",
    "\n",
    "        #         rheight, rwidth = r.shape\n",
    "        #         fheight, fwidth = f.shape\n",
    "        #         out_width = int(fwidth)\n",
    "        #         out_height = int(fwidth/rwidth*rheight)\n",
    "        #         out = np.vstack((cv2.resize(r,(out_width,out_height)),\n",
    "        #                         f))\n",
    "        out = cv2.cvtColor(out, cv2.COLOR_GRAY2RGB)\n",
    "        text = '%s:%07d' %(mouse, i)\n",
    "        cv2.putText(out, text, (50,out.shape[0]-50),\n",
    "                   fontFace=cv2.FONT_HERSHEY_SIMPLEX,fontScale=1,\n",
    "                   color=(0,0,255),thickness=1,lineType=cv2.LINE_AA)\n",
    "        if save:\n",
    "            writer.write(out)\n",
    "\n",
    "        if preview:\n",
    "            # cv2.imshow('Realsense', r)\n",
    "            # cv2.imshow('Flea',f)\n",
    "            cv2.imshow('Joined', out)\n",
    "            elapsed = int((time.perf_counter() - t0)*1000)\n",
    "\n",
    "            key = cv2.waitKey(max([1,elapsed]))\n",
    "            if key==27:\n",
    "                print('User stopped')\n",
    "                break\n",
    "                # raise KeyboardInterrupt\n",
    "except BaseException as e:\n",
    "    print(e.message)\n",
    "finally:\n",
    "    if preview:\n",
    "        cv2.destroyAllWindows()\n",
    "    if save:\n",
    "        writer.release()"
   ]
  }
 ],
 "metadata": {
  "kernelspec": {
   "display_name": "Python 3",
   "language": "python",
   "name": "python3"
  },
  "language_info": {
   "codemirror_mode": {
    "name": "ipython",
    "version": 3
   },
   "file_extension": ".py",
   "mimetype": "text/x-python",
   "name": "python",
   "nbconvert_exporter": "python",
   "pygments_lexer": "ipython3",
   "version": "3.7.3"
  }
 },
 "nbformat": 4,
 "nbformat_minor": 2
}
